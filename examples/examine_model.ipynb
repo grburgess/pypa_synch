{
 "cells": [
  {
   "cell_type": "code",
   "execution_count": 8,
   "id": "3bb1354e-c999-42e4-9a2b-215556191ce9",
   "metadata": {},
   "outputs": [],
   "source": [
    "import numpy as np\n",
    "import numba as nb\n",
    "\n",
    "import matplotlib.pyplot as plt\n",
    "\n",
    "%matplotlib widget\n",
    "from pypa_synch import PitchAngleSynchrotron, FastCoolingSynchrotron, SlowCoolingSynchrotron\n",
    "from pypa_synch import pa_distribution, fast_cooling_distribution\n",
    "\n",
    "from pynchrotron import SynchrotronNumerical\n",
    "\n",
    "from astromodels import Band\n",
    "\n",
    "import cmasher as cmr\n",
    "\n",
    "green = \"#33FF86\"\n",
    "purple = \"#CE33FF\"\n",
    "\n",
    "\n",
    "plt.style.use(\"mike\")"
   ]
  },
  {
   "cell_type": "code",
   "execution_count": 9,
   "id": "7b594a83-25f9-416d-9d55-051e60b29e9e",
   "metadata": {},
   "outputs": [
    {
     "data": {
      "application/vnd.jupyter.widget-view+json": {
       "model_id": "535421853dd04b738a03245c8c46efd6",
       "version_major": 2,
       "version_minor": 0
      },
      "text/plain": [
       "Canvas(toolbar=Toolbar(toolitems=[('Home', 'Reset original view', 'home', 'home'), ('Back', 'Back to previous …"
      ]
     },
     "metadata": {},
     "output_type": "display_data"
    },
    {
     "data": {
      "text/plain": [
       "(1e-05, 0.0005)"
      ]
     },
     "execution_count": 9,
     "metadata": {},
     "output_type": "execute_result"
    }
   ],
   "source": [
    "fig, ax = plt.subplots()\n",
    "\n",
    "gamma = np.geomspace(10, 5000, 100)\n",
    "\n",
    "ax.loglog(gamma, gamma**2 * pa_distribution(gamma,\n",
    "                                 gamma_b=10.,\n",
    "                                 gamma_c=500.,\n",
    "                                 gamma_inj=1000.,\n",
    "                                 gamma_max=5000.,\n",
    "                                 p=2.24))\n",
    "\n",
    "ax.set_ylabel(r\"$\\gamma^2 f(\\gamma)$\")\n",
    "ax.set_xlabel(r\"$\\gamma$\")\n",
    "ax.set_ylim(1e-5, 5e-4)\n"
   ]
  },
  {
   "cell_type": "code",
   "execution_count": 10,
   "id": "43fc37f4-1d44-43fd-90a8-cbf29a0b9844",
   "metadata": {},
   "outputs": [
    {
     "data": {
      "application/vnd.jupyter.widget-view+json": {
       "model_id": "7e32c9d28fb34fd48fd2bbe482e71f79",
       "version_major": 2,
       "version_minor": 0
      },
      "text/plain": [
       "Canvas(toolbar=Toolbar(toolitems=[('Home', 'Reset original view', 'home', 'home'), ('Back', 'Back to previous …"
      ]
     },
     "metadata": {},
     "output_type": "display_data"
    },
    {
     "data": {
      "text/plain": [
       "(1e-05, 0.0005)"
      ]
     },
     "execution_count": 10,
     "metadata": {},
     "output_type": "execute_result"
    }
   ],
   "source": [
    "fig, ax = plt.subplots()\n",
    "\n",
    "gamma = np.geomspace(10, 5000, 100)\n",
    "\n",
    "ax.loglog(gamma, gamma**2 * fast_cooling_distribution(gamma,\n",
    "                                 gamma_c=500.,\n",
    "                                 gamma_inj=1000.,\n",
    "                                 gamma_max=5000.,\n",
    "                                 p=2.24))\n",
    "\n",
    "ax.set_ylabel(r\"$\\gamma^2 f(\\gamma)$\")\n",
    "ax.set_xlabel(r\"$\\gamma$\")\n",
    "\n",
    "ax.set_ylim(1e-5, 5e-4)"
   ]
  },
  {
   "cell_type": "code",
   "execution_count": 11,
   "id": "859f5274-82a9-47ba-a2d2-17c985c2a61b",
   "metadata": {},
   "outputs": [],
   "source": [
    "pa = PitchAngleSynchrotron()\n",
    "sn = SynchrotronNumerical(gamma_min=pa.gamma_inj.value)\n",
    "fs = FastCoolingSynchrotron()\n",
    "ss = SlowCoolingSynchrotron()\n",
    "\n",
    "bfs = Band(alpha=-1.5,xp=1e4,beta=-2.65)\n",
    "\n",
    "\n",
    "bss = Band(alpha=-2/3,xp=1e4,beta=-2.65)\n"
   ]
  },
  {
   "cell_type": "code",
   "execution_count": 12,
   "id": "8c2abe6a-3ade-4a3a-9b10-1b860cbb80a8",
   "metadata": {},
   "outputs": [
    {
     "data": {
      "application/vnd.jupyter.widget-view+json": {
       "model_id": "a788a94ff0df4b6cb9e9ce585bdec78b",
       "version_major": 2,
       "version_minor": 0
      },
      "text/plain": [
       "Canvas(toolbar=Toolbar(toolitems=[('Home', 'Reset original view', 'home', 'home'), ('Back', 'Back to previous …"
      ]
     },
     "metadata": {},
     "output_type": "display_data"
    },
    {
     "data": {
      "text/plain": [
       "(1e-15, 9.287533007101354e-09)"
      ]
     },
     "execution_count": 12,
     "metadata": {},
     "output_type": "execute_result"
    }
   ],
   "source": [
    "fig, ax = plt.subplots()\n",
    "\n",
    "x = np.geomspace(1e-5,1e8,128)\n",
    "\n",
    "\n",
    "n_itr = 20\n",
    "colors = plt.cm.viridis(np.linspace(0, 1, n_itr))\n",
    "for i, gamma_cool in enumerate(np.geomspace(pa.gamma_min.value,pa.gamma_inj.value, n_itr)):\n",
    "\n",
    "    pa.B=1e2\n",
    "    pa.index = 2.24\n",
    "    pa.gamma_cool = gamma_cool\n",
    "    \n",
    "    ax.loglog(x, x**2 * pa(x), color=colors[i])\n",
    "    \n",
    "ax.set_ylim(1e-13)\n",
    "\n",
    "\n",
    "bfs.K = 1.e-13\n",
    "bfs.xp=3e3\n",
    "bfs.beta = -2.11\n",
    "\n",
    "ax.loglog(x, x**2 * bfs(x), color=\"red\")\n",
    "\n",
    "ax.set_ylim(1e-15)\n"
   ]
  },
  {
   "cell_type": "markdown",
   "id": "008eeefb-b7b0-4aec-bb94-ff57dfc3213b",
   "metadata": {},
   "source": [
    "## Stead state fast-cooled synchrotron\n",
    "\n",
    "Here is the same experiment but where there at no electrons below $\\gamma_\\textrm{cool}$. \n"
   ]
  },
  {
   "cell_type": "code",
   "execution_count": 13,
   "id": "e4ef5f2c-db42-4b4b-ae96-06d3af0b9126",
   "metadata": {},
   "outputs": [
    {
     "data": {
      "application/vnd.jupyter.widget-view+json": {
       "model_id": "132cda6ffb554df4bba317d351e79266",
       "version_major": 2,
       "version_minor": 0
      },
      "text/plain": [
       "Canvas(toolbar=Toolbar(toolitems=[('Home', 'Reset original view', 'home', 'home'), ('Back', 'Back to previous …"
      ]
     },
     "metadata": {},
     "output_type": "display_data"
    },
    {
     "data": {
      "text/plain": [
       "(1e-15, 1.3006358581946546e-08)"
      ]
     },
     "execution_count": 13,
     "metadata": {},
     "output_type": "execute_result"
    }
   ],
   "source": [
    "fig, ax = plt.subplots()\n",
    "\n",
    "x = np.geomspace(1e-5,1e8,128)\n",
    "\n",
    "\n",
    "n_itr = 20\n",
    "colors = cmr.lavender(np.linspace(0, 1, n_itr))\n",
    "for i, gamma_cool in enumerate(np.geomspace(pa.gamma_min.value,fs.gamma_inj.value, n_itr)):\n",
    "\n",
    "    fs.B=1e2\n",
    "    fs.index = 2.24\n",
    "    fs.gamma_cool = gamma_cool\n",
    "    \n",
    "    ax.loglog(x, x**2 * fs(x), color=colors[i])\n",
    "    \n",
    "bfs.K = 1.e-13\n",
    "bfs.xp=3e3\n",
    "bfs.beta = -2.11\n",
    "\n",
    "ax.loglog(x, x**2 * bfs(x), color=\"red\")\n",
    "\n",
    "ax.set_ylim(1e-15)"
   ]
  },
  {
   "cell_type": "markdown",
   "id": "9e3ded95-87c8-4a78-b863-5ad41a819835",
   "metadata": {},
   "source": [
    "We can also compare the models and see that there is a harder slope for the new model."
   ]
  },
  {
   "cell_type": "code",
   "execution_count": 16,
   "id": "a65dc169-3a34-4bc1-ab4d-fb175c6c3a17",
   "metadata": {
    "tags": []
   },
   "outputs": [
    {
     "data": {
      "application/vnd.jupyter.widget-view+json": {
       "model_id": "7fe147ad59d24dafb352812361dc7c88",
       "version_major": 2,
       "version_minor": 0
      },
      "text/plain": [
       "Canvas(toolbar=Toolbar(toolitems=[('Home', 'Reset original view', 'home', 'home'), ('Back', 'Back to previous …"
      ]
     },
     "metadata": {},
     "output_type": "display_data"
    }
   ],
   "source": [
    "fig, ax = plt.subplots()\n",
    "\n",
    "x = np.geomspace(1e-5,1e8,128)\n",
    "\n",
    "\n",
    "n_itr = 10\n",
    "colors = cmr.lavender(np.linspace(0, 1, n_itr))\n",
    "for i, gamma_cool in enumerate(np.geomspace(pa.gamma_min.value,fs.gamma_inj.value, n_itr)):\n",
    "\n",
    "    fs.B=1e2\n",
    "    fs.index = 2.24\n",
    "    fs.gamma_cool = gamma_cool\n",
    "    \n",
    "    ax.loglog(x, x**2 * fs(x), color=colors[i],lw=1.5)\n",
    "    \n",
    "\n",
    "\n",
    "n_itr = 10\n",
    "colors = plt.cm.magma_r(np.linspace(0, 1, n_itr))\n",
    "for i, gamma_cool in enumerate(np.geomspace(pa.gamma_min.value,pa.gamma_inj.value, n_itr)):\n",
    "\n",
    "    pa.B=1e2\n",
    "    pa.index = 2.24\n",
    "    pa.gamma_cool = gamma_cool\n",
    "    \n",
    "    ax.loglog(x, x**2 * pa(x), color=colors[i], lw=1.5)\n",
    "    \n",
    "ax.set_ylim(1e-11)\n",
    "#ax.set_xlim(1e)\n",
    "\n",
    "\n",
    "bfs.K = 1e-17\n",
    "bfs.xp=5e3\n",
    "\n"
   ]
  },
  {
   "cell_type": "markdown",
   "id": "96ba6fc5-71f9-40cd-9577-4e05a854638e",
   "metadata": {},
   "source": [
    "## Time-dependent Synchrotron \n",
    "\n",
    "Now we compare the Band function ($\\alpha=-1.5$) to the time-dependent synchrotron model from Burgess et al. 2020. Here $\\gamma_\\textrm{cool}$ goes from very far below the injection energy (yellow) to the injection energy (blue)\n",
    "\n",
    "However, if one zooms in, it is clear to see that the Band function is intrinsically **much** narrower than the fast-cooling synchrotron spectrum. This is why using the Band function to approximate synchrotron is a bad idea.\n"
   ]
  },
  {
   "cell_type": "code",
   "execution_count": 17,
   "id": "1b7c6d7b-3bc3-465f-9ea0-d9db8338fc62",
   "metadata": {},
   "outputs": [
    {
     "data": {
      "application/vnd.jupyter.widget-view+json": {
       "model_id": "eb18e996f9334ca7b9818590fa674324",
       "version_major": 2,
       "version_minor": 0
      },
      "text/plain": [
       "Canvas(toolbar=Toolbar(toolitems=[('Home', 'Reset original view', 'home', 'home'), ('Back', 'Back to previous …"
      ]
     },
     "metadata": {},
     "output_type": "display_data"
    },
    {
     "data": {
      "text/plain": [
       "<matplotlib.legend.Legend at 0x124850e20>"
      ]
     },
     "execution_count": 17,
     "metadata": {},
     "output_type": "execute_result"
    }
   ],
   "source": [
    "fig, ax = plt.subplots()\n",
    "\n",
    "x = np.geomspace(1e-5,1e8,128)\n",
    "\n",
    "\n",
    "\n",
    "\n",
    "n_itr = 20\n",
    "colors = cmr.iceburn_r(np.linspace(0, 1, n_itr))\n",
    "for i, gamma_cool in enumerate(np.geomspace(pa.gamma_min.value,pa.gamma_inj.value, n_itr)):\n",
    "\n",
    "    sn.B=1e2\n",
    "    sn.index = 3.3\n",
    "    sn.gamma_cool = gamma_cool\n",
    "    \n",
    "    ax.loglog(x, x**2 * sn(x), color=colors[i],lw=2.3)\n",
    "    \n",
    "bfs.K = 2e1\n",
    "bfs.xp=2e1\n",
    "\n",
    "ax.loglog(x, x**2 * bfs(x), color=purple, label=\"Band\",lw=2)\n",
    "\n",
    "\n",
    "ax.legend()\n",
    "\n",
    "ax.set_xlabel(\"energy\")\n",
    "ax.set_ylabel(r\"$\\nu F_{\\nu}$\")\n",
    "ax.legend()\n",
    "    "
   ]
  },
  {
   "cell_type": "markdown",
   "id": "e918e209-8d71-4bc9-a5e1-7dd8664d7ece",
   "metadata": {},
   "source": [
    "## old school synchrotron\n",
    "Just for fun, we can look at the model from the Burgess 2014 paper as well.\n",
    "\n",
    "It is important to look at how narrow the Band function is in comparison to the synchrotron model. **We can resolve this difference with GBM**\n"
   ]
  },
  {
   "cell_type": "code",
   "execution_count": 18,
   "id": "b8e9a841-404b-4ef0-8f0f-389e9f6c9e07",
   "metadata": {},
   "outputs": [
    {
     "data": {
      "application/vnd.jupyter.widget-view+json": {
       "model_id": "abf35eceb5d940dcb389427f4012033a",
       "version_major": 2,
       "version_minor": 0
      },
      "text/plain": [
       "Canvas(toolbar=Toolbar(toolitems=[('Home', 'Reset original view', 'home', 'home'), ('Back', 'Back to previous …"
      ]
     },
     "metadata": {},
     "output_type": "display_data"
    },
    {
     "data": {
      "text/plain": [
       "<matplotlib.legend.Legend at 0x127e81fa0>"
      ]
     },
     "execution_count": 18,
     "metadata": {},
     "output_type": "execute_result"
    }
   ],
   "source": [
    "fig, ax = plt.subplots()\n",
    "\n",
    "x = np.geomspace(1e1,1e8,128)\n",
    "\n",
    "\n",
    "n_itr = 20\n",
    "colors = plt.cm.viridis(np.linspace(0, 1, n_itr))\n",
    "\n",
    "ss.B=1e2\n",
    "ss.index = 3.24\n",
    "\n",
    "\n",
    "ax.loglog(x, x**2 * ss(x), color=\"blue\", label=\"synchrotron\")\n",
    "\n",
    "bss.K = 5e-15\n",
    "bss.xp=6e3\n",
    "bss.beta =-2.115\n",
    "ax.loglog(x, x**2 * bss(x), color=\"red\", label=\"Band\")\n",
    "\n",
    "ax.set_ylim(1e-10)\n",
    "ax.set_xlabel(\"energy\")\n",
    "ax.set_ylabel(r\"$\\nu F_{\\nu}$\")\n",
    "\n",
    "ax.legend()"
   ]
  },
  {
   "cell_type": "code",
   "execution_count": null,
   "id": "394a2cad-9631-4ebc-9a7f-a8e1aa68def4",
   "metadata": {},
   "outputs": [],
   "source": []
  },
  {
   "cell_type": "code",
   "execution_count": null,
   "id": "013fc458-03ad-40d0-b869-b49b5ca0170e",
   "metadata": {},
   "outputs": [],
   "source": []
  },
  {
   "cell_type": "code",
   "execution_count": null,
   "id": "e3c6c0f7-27d2-4781-883f-ddb95d62688e",
   "metadata": {},
   "outputs": [],
   "source": []
  }
 ],
 "metadata": {
  "kernelspec": {
   "display_name": "pypa_synch",
   "language": "python",
   "name": "pypa_synch"
  },
  "language_info": {
   "codemirror_mode": {
    "name": "ipython",
    "version": 3
   },
   "file_extension": ".py",
   "mimetype": "text/x-python",
   "name": "python",
   "nbconvert_exporter": "python",
   "pygments_lexer": "ipython3",
   "version": "3.9.4"
  },
  "widgets": {
   "application/vnd.jupyter.widget-state+json": {
    "state": {
     "0cd0e36e11d840369a2955601ad30d3f": {
      "model_module": "@jupyter-widgets/base",
      "model_module_version": "1.2.0",
      "model_name": "LayoutModel",
      "state": {}
     },
     "11f6c8dd22704fc9a27b9da41d1c6ef9": {
      "model_module": "jupyter-matplotlib",
      "model_module_version": "^0.9.0",
      "model_name": "ToolbarModel",
      "state": {
       "layout": "IPY_MODEL_d13b621655094a20b26149854b2bdd3e",
       "toolitems": [
        [
         "Home",
         "Reset original view",
         "home",
         "home"
        ],
        [
         "Back",
         "Back to previous view",
         "arrow-left",
         "back"
        ],
        [
         "Forward",
         "Forward to next view",
         "arrow-right",
         "forward"
        ],
        [
         "Pan",
         "Left button pans, Right button zooms\nx/y fixes axis, CTRL fixes aspect",
         "arrows",
         "pan"
        ],
        [
         "Zoom",
         "Zoom to rectangle\nx/y fixes axis, CTRL fixes aspect",
         "square-o",
         "zoom"
        ],
        [
         "Download",
         "Download plot",
         "floppy-o",
         "save_figure"
        ]
       ]
      }
     },
     "132cda6ffb554df4bba317d351e79266": {
      "model_module": "jupyter-matplotlib",
      "model_module_version": "^0.9.0",
      "model_name": "MPLCanvasModel",
      "state": {
       "_cursor": "default",
       "_figure_label": "Figure 4",
       "_height": 480,
       "_width": 640,
       "layout": "IPY_MODEL_53eefdc2f4fc4ce1bd7a1ba4f8f40cc3",
       "toolbar": "IPY_MODEL_87d72fabf11646eea4ce94ba10589f53",
       "toolbar_position": "left"
      }
     },
     "23253cd2cb1a436fbc757c9e56e80010": {
      "model_module": "@jupyter-widgets/base",
      "model_module_version": "1.2.0",
      "model_name": "LayoutModel",
      "state": {}
     },
     "2690116c1ec247a29a3f45f7816f4ed8": {
      "model_module": "@jupyter-widgets/base",
      "model_module_version": "1.2.0",
      "model_name": "LayoutModel",
      "state": {}
     },
     "28e3995d17d04ce98161e947cb6b9664": {
      "model_module": "jupyter-matplotlib",
      "model_module_version": "^0.9.0",
      "model_name": "ToolbarModel",
      "state": {
       "layout": "IPY_MODEL_f1563840c44d4f12a983458bc8f74fb8",
       "toolitems": [
        [
         "Home",
         "Reset original view",
         "home",
         "home"
        ],
        [
         "Back",
         "Back to previous view",
         "arrow-left",
         "back"
        ],
        [
         "Forward",
         "Forward to next view",
         "arrow-right",
         "forward"
        ],
        [
         "Pan",
         "Left button pans, Right button zooms\nx/y fixes axis, CTRL fixes aspect",
         "arrows",
         "pan"
        ],
        [
         "Zoom",
         "Zoom to rectangle\nx/y fixes axis, CTRL fixes aspect",
         "square-o",
         "zoom"
        ],
        [
         "Download",
         "Download plot",
         "floppy-o",
         "save_figure"
        ]
       ]
      }
     },
     "2a1641d38f124bccabe1dde0361c3450": {
      "model_module": "@jupyter-widgets/base",
      "model_module_version": "1.2.0",
      "model_name": "LayoutModel",
      "state": {}
     },
     "2a72004d03a648c1bc5130f6f12136e8": {
      "model_module": "@jupyter-widgets/base",
      "model_module_version": "1.2.0",
      "model_name": "LayoutModel",
      "state": {}
     },
     "46ab606ef0294b4a971cec5155e1b494": {
      "model_module": "jupyter-matplotlib",
      "model_module_version": "^0.9.0",
      "model_name": "ToolbarModel",
      "state": {
       "layout": "IPY_MODEL_db1a96b1fc3944e384efeda4266a8993",
       "toolitems": [
        [
         "Home",
         "Reset original view",
         "home",
         "home"
        ],
        [
         "Back",
         "Back to previous view",
         "arrow-left",
         "back"
        ],
        [
         "Forward",
         "Forward to next view",
         "arrow-right",
         "forward"
        ],
        [
         "Pan",
         "Left button pans, Right button zooms\nx/y fixes axis, CTRL fixes aspect",
         "arrows",
         "pan"
        ],
        [
         "Zoom",
         "Zoom to rectangle\nx/y fixes axis, CTRL fixes aspect",
         "square-o",
         "zoom"
        ],
        [
         "Download",
         "Download plot",
         "floppy-o",
         "save_figure"
        ]
       ]
      }
     },
     "535421853dd04b738a03245c8c46efd6": {
      "model_module": "jupyter-matplotlib",
      "model_module_version": "^0.9.0",
      "model_name": "MPLCanvasModel",
      "state": {
       "_cursor": "default",
       "_figure_label": "Figure 1",
       "_height": 480,
       "_width": 640,
       "layout": "IPY_MODEL_2a72004d03a648c1bc5130f6f12136e8",
       "toolbar": "IPY_MODEL_46ab606ef0294b4a971cec5155e1b494",
       "toolbar_position": "left"
      }
     },
     "53eefdc2f4fc4ce1bd7a1ba4f8f40cc3": {
      "model_module": "@jupyter-widgets/base",
      "model_module_version": "1.2.0",
      "model_name": "LayoutModel",
      "state": {}
     },
     "7bb1d7e2e26c4427bc87a341629bd9c1": {
      "model_module": "@jupyter-widgets/base",
      "model_module_version": "1.2.0",
      "model_name": "LayoutModel",
      "state": {}
     },
     "7e32c9d28fb34fd48fd2bbe482e71f79": {
      "model_module": "jupyter-matplotlib",
      "model_module_version": "^0.9.0",
      "model_name": "MPLCanvasModel",
      "state": {
       "_cursor": "default",
       "_figure_label": "Figure 2",
       "_height": 480,
       "_width": 640,
       "layout": "IPY_MODEL_94b8c64a56804800833d40aa44459447",
       "toolbar": "IPY_MODEL_d83c23a00fba4d9590977f8e616ce88a",
       "toolbar_position": "left"
      }
     },
     "7fe147ad59d24dafb352812361dc7c88": {
      "model_module": "jupyter-matplotlib",
      "model_module_version": "^0.9.0",
      "model_name": "MPLCanvasModel",
      "state": {
       "_cursor": "default",
       "_figure_label": "Figure 6",
       "_height": 480,
       "_message": "x=392601       y=5.20708e-11",
       "_width": 640,
       "layout": "IPY_MODEL_b681ebc1422c411aaccef8be081e52b4",
       "toolbar": "IPY_MODEL_11f6c8dd22704fc9a27b9da41d1c6ef9",
       "toolbar_position": "left"
      }
     },
     "87d72fabf11646eea4ce94ba10589f53": {
      "model_module": "jupyter-matplotlib",
      "model_module_version": "^0.9.0",
      "model_name": "ToolbarModel",
      "state": {
       "layout": "IPY_MODEL_0cd0e36e11d840369a2955601ad30d3f",
       "toolitems": [
        [
         "Home",
         "Reset original view",
         "home",
         "home"
        ],
        [
         "Back",
         "Back to previous view",
         "arrow-left",
         "back"
        ],
        [
         "Forward",
         "Forward to next view",
         "arrow-right",
         "forward"
        ],
        [
         "Pan",
         "Left button pans, Right button zooms\nx/y fixes axis, CTRL fixes aspect",
         "arrows",
         "pan"
        ],
        [
         "Zoom",
         "Zoom to rectangle\nx/y fixes axis, CTRL fixes aspect",
         "square-o",
         "zoom"
        ],
        [
         "Download",
         "Download plot",
         "floppy-o",
         "save_figure"
        ]
       ]
      }
     },
     "8a1c94a990f748c6b577f0e264c9aa4d": {
      "model_module": "@jupyter-widgets/base",
      "model_module_version": "1.2.0",
      "model_name": "LayoutModel",
      "state": {}
     },
     "92a1ca1520414bef942d09a9c321c352": {
      "model_module": "jupyter-matplotlib",
      "model_module_version": "^0.9.0",
      "model_name": "ToolbarModel",
      "state": {
       "layout": "IPY_MODEL_7bb1d7e2e26c4427bc87a341629bd9c1",
       "toolitems": [
        [
         "Home",
         "Reset original view",
         "home",
         "home"
        ],
        [
         "Back",
         "Back to previous view",
         "arrow-left",
         "back"
        ],
        [
         "Forward",
         "Forward to next view",
         "arrow-right",
         "forward"
        ],
        [
         "Pan",
         "Left button pans, Right button zooms\nx/y fixes axis, CTRL fixes aspect",
         "arrows",
         "pan"
        ],
        [
         "Zoom",
         "Zoom to rectangle\nx/y fixes axis, CTRL fixes aspect",
         "square-o",
         "zoom"
        ],
        [
         "Download",
         "Download plot",
         "floppy-o",
         "save_figure"
        ]
       ]
      }
     },
     "94b8c64a56804800833d40aa44459447": {
      "model_module": "@jupyter-widgets/base",
      "model_module_version": "1.2.0",
      "model_name": "LayoutModel",
      "state": {}
     },
     "97882f61ff8e40a0ac5b0403a9f2f041": {
      "model_module": "@jupyter-widgets/base",
      "model_module_version": "1.2.0",
      "model_name": "LayoutModel",
      "state": {}
     },
     "a5896fcd913e491b9cbf1ca4fed30f55": {
      "model_module": "@jupyter-widgets/base",
      "model_module_version": "1.2.0",
      "model_name": "LayoutModel",
      "state": {}
     },
     "a77e5323a5ad48a8b31bab956fd617d9": {
      "model_module": "jupyter-matplotlib",
      "model_module_version": "^0.9.0",
      "model_name": "ToolbarModel",
      "state": {
       "layout": "IPY_MODEL_97882f61ff8e40a0ac5b0403a9f2f041",
       "toolitems": [
        [
         "Home",
         "Reset original view",
         "home",
         "home"
        ],
        [
         "Back",
         "Back to previous view",
         "arrow-left",
         "back"
        ],
        [
         "Forward",
         "Forward to next view",
         "arrow-right",
         "forward"
        ],
        [
         "Pan",
         "Left button pans, Right button zooms\nx/y fixes axis, CTRL fixes aspect",
         "arrows",
         "pan"
        ],
        [
         "Zoom",
         "Zoom to rectangle\nx/y fixes axis, CTRL fixes aspect",
         "square-o",
         "zoom"
        ],
        [
         "Download",
         "Download plot",
         "floppy-o",
         "save_figure"
        ]
       ]
      }
     },
     "a788a94ff0df4b6cb9e9ce585bdec78b": {
      "model_module": "jupyter-matplotlib",
      "model_module_version": "^0.9.0",
      "model_name": "MPLCanvasModel",
      "state": {
       "_cursor": "default",
       "_figure_label": "Figure 3",
       "_height": 480,
       "_width": 640,
       "layout": "IPY_MODEL_a5896fcd913e491b9cbf1ca4fed30f55",
       "toolbar": "IPY_MODEL_cd2a872f729445acb044fe82249679bc",
       "toolbar_position": "left"
      }
     },
     "abf35eceb5d940dcb389427f4012033a": {
      "model_module": "jupyter-matplotlib",
      "model_module_version": "^0.9.0",
      "model_name": "MPLCanvasModel",
      "state": {
       "_cursor": "default",
       "_figure_label": "Figure 8",
       "_height": 480,
       "_width": 640,
       "layout": "IPY_MODEL_23253cd2cb1a436fbc757c9e56e80010",
       "toolbar": "IPY_MODEL_28e3995d17d04ce98161e947cb6b9664",
       "toolbar_position": "left"
      }
     },
     "b0186085771642ec8a429077efdbbd16": {
      "model_module": "jupyter-matplotlib",
      "model_module_version": "^0.9.0",
      "model_name": "MPLCanvasModel",
      "state": {
       "_cursor": "default",
       "_figure_label": "Figure 5",
       "_height": 480,
       "_width": 640,
       "layout": "IPY_MODEL_2a1641d38f124bccabe1dde0361c3450",
       "toolbar": "IPY_MODEL_a77e5323a5ad48a8b31bab956fd617d9",
       "toolbar_position": "left"
      }
     },
     "b290c0c4fc6f42b2a0656814163e1f76": {
      "model_module": "@jupyter-widgets/base",
      "model_module_version": "1.2.0",
      "model_name": "LayoutModel",
      "state": {}
     },
     "b681ebc1422c411aaccef8be081e52b4": {
      "model_module": "@jupyter-widgets/base",
      "model_module_version": "1.2.0",
      "model_name": "LayoutModel",
      "state": {}
     },
     "cd2a872f729445acb044fe82249679bc": {
      "model_module": "jupyter-matplotlib",
      "model_module_version": "^0.9.0",
      "model_name": "ToolbarModel",
      "state": {
       "layout": "IPY_MODEL_2690116c1ec247a29a3f45f7816f4ed8",
       "toolitems": [
        [
         "Home",
         "Reset original view",
         "home",
         "home"
        ],
        [
         "Back",
         "Back to previous view",
         "arrow-left",
         "back"
        ],
        [
         "Forward",
         "Forward to next view",
         "arrow-right",
         "forward"
        ],
        [
         "Pan",
         "Left button pans, Right button zooms\nx/y fixes axis, CTRL fixes aspect",
         "arrows",
         "pan"
        ],
        [
         "Zoom",
         "Zoom to rectangle\nx/y fixes axis, CTRL fixes aspect",
         "square-o",
         "zoom"
        ],
        [
         "Download",
         "Download plot",
         "floppy-o",
         "save_figure"
        ]
       ]
      }
     },
     "d13b621655094a20b26149854b2bdd3e": {
      "model_module": "@jupyter-widgets/base",
      "model_module_version": "1.2.0",
      "model_name": "LayoutModel",
      "state": {}
     },
     "d83c23a00fba4d9590977f8e616ce88a": {
      "model_module": "jupyter-matplotlib",
      "model_module_version": "^0.9.0",
      "model_name": "ToolbarModel",
      "state": {
       "layout": "IPY_MODEL_8a1c94a990f748c6b577f0e264c9aa4d",
       "toolitems": [
        [
         "Home",
         "Reset original view",
         "home",
         "home"
        ],
        [
         "Back",
         "Back to previous view",
         "arrow-left",
         "back"
        ],
        [
         "Forward",
         "Forward to next view",
         "arrow-right",
         "forward"
        ],
        [
         "Pan",
         "Left button pans, Right button zooms\nx/y fixes axis, CTRL fixes aspect",
         "arrows",
         "pan"
        ],
        [
         "Zoom",
         "Zoom to rectangle\nx/y fixes axis, CTRL fixes aspect",
         "square-o",
         "zoom"
        ],
        [
         "Download",
         "Download plot",
         "floppy-o",
         "save_figure"
        ]
       ]
      }
     },
     "db1a96b1fc3944e384efeda4266a8993": {
      "model_module": "@jupyter-widgets/base",
      "model_module_version": "1.2.0",
      "model_name": "LayoutModel",
      "state": {}
     },
     "eb18e996f9334ca7b9818590fa674324": {
      "model_module": "jupyter-matplotlib",
      "model_module_version": "^0.9.0",
      "model_name": "MPLCanvasModel",
      "state": {
       "_cursor": "default",
       "_figure_label": "Figure 7",
       "_height": 480,
       "_width": 640,
       "layout": "IPY_MODEL_b290c0c4fc6f42b2a0656814163e1f76",
       "toolbar": "IPY_MODEL_92a1ca1520414bef942d09a9c321c352",
       "toolbar_position": "left"
      }
     },
     "f1563840c44d4f12a983458bc8f74fb8": {
      "model_module": "@jupyter-widgets/base",
      "model_module_version": "1.2.0",
      "model_name": "LayoutModel",
      "state": {}
     }
    },
    "version_major": 2,
    "version_minor": 0
   }
  }
 },
 "nbformat": 4,
 "nbformat_minor": 5
}
