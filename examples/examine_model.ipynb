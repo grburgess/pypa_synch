{
 "cells": [
  {
   "cell_type": "code",
   "execution_count": 1,
   "id": "3bb1354e-c999-42e4-9a2b-215556191ce9",
   "metadata": {},
   "outputs": [
    {
     "name": "stdout",
     "output_type": "stream",
     "text": [
      "[\u001b[35mWARNING \u001b[0m]\u001b[35m The naima package is not available. Models that depend on it will not be available\u001b[0m\n",
      "[\u001b[35mWARNING \u001b[0m]\u001b[35m The GSL library or the pygsl wrapper cannot be loaded. Models that depend on it will not be available.\u001b[0m\n",
      "[\u001b[35mWARNING \u001b[0m]\u001b[35m The ebltable package is not available. Models that depend on it will not be available\u001b[0m\n"
     ]
    }
   ],
   "source": [
    "import numpy as np\n",
    "import numba as nb\n",
    "\n",
    "import matplotlib.pyplot as plt\n",
    "\n",
    "%matplotlib widget\n",
    "from pypa_synch import PitchAngleSynchrotron, FastCoolingSynchrotron, SlowCoolingSynchrotron\n",
    "from pypa_synch import pa_distribution, fast_cooling_distribution\n",
    "\n",
    "from pynchrotron import SynchrotronNumerical\n",
    "\n",
    "from astromodels import Band\n",
    "\n",
    "import cmasher as cmr\n",
    "\n",
    "green = \"#33FF86\"\n",
    "purple = \"#CE33FF\"\n",
    "\n",
    "\n",
    "plt.style.use(\"mike\")"
   ]
  },
  {
   "cell_type": "code",
   "execution_count": 2,
   "id": "7b594a83-25f9-416d-9d55-051e60b29e9e",
   "metadata": {},
   "outputs": [
    {
     "data": {
      "application/vnd.jupyter.widget-view+json": {
       "model_id": "012c3d0e83a7440d94e367729c8569dd",
       "version_major": 2,
       "version_minor": 0
      },
      "text/plain": [
       "Canvas(toolbar=Toolbar(toolitems=[('Home', 'Reset original view', 'home', 'home'), ('Back', 'Back to previous …"
      ]
     },
     "metadata": {},
     "output_type": "display_data"
    },
    {
     "data": {
      "text/plain": [
       "(1e-05, 0.0005)"
      ]
     },
     "execution_count": 2,
     "metadata": {},
     "output_type": "execute_result"
    }
   ],
   "source": [
    "fig, ax = plt.subplots()\n",
    "\n",
    "gamma = np.geomspace(10, 5000, 100)\n",
    "\n",
    "ax.loglog(gamma, gamma**2 * pa_distribution(gamma,\n",
    "                                 gamma_b=10.,\n",
    "                                 gamma_c=500.,\n",
    "                                 gamma_inj=1000.,\n",
    "                                 gamma_max=5000.,\n",
    "                                 p=2.24))\n",
    "\n",
    "ax.set_ylabel(r\"$\\gamma^2 f(\\gamma)$\")\n",
    "ax.set_xlabel(r\"$\\gamma$\")\n",
    "ax.set_ylim(1e-5, 5e-4)\n"
   ]
  },
  {
   "cell_type": "code",
   "execution_count": 3,
   "id": "43fc37f4-1d44-43fd-90a8-cbf29a0b9844",
   "metadata": {},
   "outputs": [
    {
     "data": {
      "application/vnd.jupyter.widget-view+json": {
       "model_id": "9ae378f202904df68a731bd1e627e225",
       "version_major": 2,
       "version_minor": 0
      },
      "text/plain": [
       "Canvas(toolbar=Toolbar(toolitems=[('Home', 'Reset original view', 'home', 'home'), ('Back', 'Back to previous …"
      ]
     },
     "metadata": {},
     "output_type": "display_data"
    },
    {
     "data": {
      "text/plain": [
       "(1e-05, 0.0005)"
      ]
     },
     "execution_count": 3,
     "metadata": {},
     "output_type": "execute_result"
    }
   ],
   "source": [
    "fig, ax = plt.subplots()\n",
    "\n",
    "gamma = np.geomspace(10, 5000, 100)\n",
    "\n",
    "ax.loglog(gamma, gamma**2 * fast_cooling_distribution(gamma,\n",
    "                                 gamma_c=500.,\n",
    "                                 gamma_inj=1000.,\n",
    "                                 gamma_max=5000.,\n",
    "                                 p=2.24))\n",
    "\n",
    "ax.set_ylabel(r\"$\\gamma^2 f(\\gamma)$\")\n",
    "ax.set_xlabel(r\"$\\gamma$\")\n",
    "\n",
    "ax.set_ylim(1e-5, 5e-4)"
   ]
  },
  {
   "cell_type": "code",
   "execution_count": 4,
   "id": "859f5274-82a9-47ba-a2d2-17c985c2a61b",
   "metadata": {},
   "outputs": [],
   "source": [
    "pa = PitchAngleSynchrotron()\n",
    "sn = SynchrotronNumerical(gamma_min=pa.gamma_inj.value)\n",
    "fs = FastCoolingSynchrotron()\n",
    "ss = SlowCoolingSynchrotron()\n",
    "\n",
    "bfs = Band(alpha=-1.5,xp=1e4,beta=-2.65)\n",
    "\n",
    "\n",
    "bss = Band(alpha=-2/3,xp=1e4,beta=-2.65)\n"
   ]
  },
  {
   "cell_type": "code",
   "execution_count": 52,
   "id": "8c2abe6a-3ade-4a3a-9b10-1b860cbb80a8",
   "metadata": {},
   "outputs": [
    {
     "data": {
      "application/vnd.jupyter.widget-view+json": {
       "model_id": "deaa8b06852c4c0bb2059f1ac9712ad0",
       "version_major": 2,
       "version_minor": 0
      },
      "text/plain": [
       "Canvas(toolbar=Toolbar(toolitems=[('Home', 'Reset original view', 'home', 'home'), ('Back', 'Back to previous …"
      ]
     },
     "metadata": {},
     "output_type": "display_data"
    },
    {
     "data": {
      "text/plain": [
       "(1e-15, 9.287533007101354e-09)"
      ]
     },
     "execution_count": 52,
     "metadata": {},
     "output_type": "execute_result"
    }
   ],
   "source": [
    "fig, ax = plt.subplots()\n",
    "\n",
    "x = np.geomspace(1e-5,1e8,128)\n",
    "\n",
    "\n",
    "n_itr = 20\n",
    "colors = plt.cm.viridis(np.linspace(0, 1, n_itr))\n",
    "for i, gamma_cool in enumerate(np.geomspace(pa.gamma_min.value,pa.gamma_inj.value, n_itr)):\n",
    "\n",
    "    pa.B=1e2\n",
    "    pa.index = 2.24\n",
    "    pa.gamma_cool = gamma_cool\n",
    "    \n",
    "    ax.loglog(x, x**2 * pa(x), color=colors[i])\n",
    "    \n",
    "ax.set_ylim(1e-13)\n",
    "\n",
    "\n",
    "bfs.K = 1.e-13\n",
    "bfs.xp=3e3\n",
    "bfs.beta = -2.11\n",
    "\n",
    "ax.loglog(x, x**2 * bfs(x), color=\"red\")\n",
    "\n",
    "ax.set_ylim(1e-15)\n"
   ]
  },
  {
   "cell_type": "markdown",
   "id": "008eeefb-b7b0-4aec-bb94-ff57dfc3213b",
   "metadata": {},
   "source": [
    "## Stead state fast-cooled synchrotron\n",
    "\n",
    "Here is the same experiment but where there at no electrons below $\\gamma_\\textrm{cool}$. \n"
   ]
  },
  {
   "cell_type": "code",
   "execution_count": 53,
   "id": "e4ef5f2c-db42-4b4b-ae96-06d3af0b9126",
   "metadata": {},
   "outputs": [
    {
     "data": {
      "application/vnd.jupyter.widget-view+json": {
       "model_id": "947da0f0590a4ad7aba50665781e7022",
       "version_major": 2,
       "version_minor": 0
      },
      "text/plain": [
       "Canvas(toolbar=Toolbar(toolitems=[('Home', 'Reset original view', 'home', 'home'), ('Back', 'Back to previous …"
      ]
     },
     "metadata": {},
     "output_type": "display_data"
    },
    {
     "data": {
      "text/plain": [
       "(1e-15, 1.3006358581946546e-08)"
      ]
     },
     "execution_count": 53,
     "metadata": {},
     "output_type": "execute_result"
    }
   ],
   "source": [
    "fig, ax = plt.subplots()\n",
    "\n",
    "x = np.geomspace(1e-5,1e8,128)\n",
    "\n",
    "\n",
    "n_itr = 20\n",
    "colors = cmr.lavender(np.linspace(0, 1, n_itr))\n",
    "for i, gamma_cool in enumerate(np.geomspace(pa.gamma_min.value,fs.gamma_inj.value, n_itr)):\n",
    "\n",
    "    fs.B=1e2\n",
    "    fs.index = 2.24\n",
    "    fs.gamma_cool = gamma_cool\n",
    "    \n",
    "    ax.loglog(x, x**2 * fs(x), color=colors[i])\n",
    "    \n",
    "bfs.K = 1.e-13\n",
    "bfs.xp=3e3\n",
    "bfs.beta = -2.11\n",
    "\n",
    "ax.loglog(x, x**2 * bfs(x), color=\"red\")\n",
    "\n",
    "ax.set_ylim(1e-15)"
   ]
  },
  {
   "cell_type": "markdown",
   "id": "9e3ded95-87c8-4a78-b863-5ad41a819835",
   "metadata": {},
   "source": [
    "We can also compare the models and see that there is a harder slope for the new model."
   ]
  },
  {
   "cell_type": "code",
   "execution_count": 25,
   "id": "a65dc169-3a34-4bc1-ab4d-fb175c6c3a17",
   "metadata": {},
   "outputs": [
    {
     "data": {
      "application/vnd.jupyter.widget-view+json": {
       "model_id": "966b4553eaf046c38264543ddabe1a86",
       "version_major": 2,
       "version_minor": 0
      },
      "text/plain": [
       "Canvas(toolbar=Toolbar(toolitems=[('Home', 'Reset original view', 'home', 'home'), ('Back', 'Back to previous …"
      ]
     },
     "metadata": {},
     "output_type": "display_data"
    }
   ],
   "source": [
    "fig, ax = plt.subplots()\n",
    "\n",
    "x = np.geomspace(1e-5,1e8,128)\n",
    "\n",
    "\n",
    "n_itr = 10\n",
    "colors = cmr.lavender(np.linspace(0, 1, n_itr))\n",
    "for i, gamma_cool in enumerate(np.geomspace(pa.gamma_min.value,fs.gamma_inj.value, n_itr)):\n",
    "\n",
    "    fs.B=1e2\n",
    "    fs.index = 2.24\n",
    "    fs.gamma_cool = gamma_cool\n",
    "    \n",
    "    ax.loglog(x, x**2 * fs(x), color=colors[i],lw=1.5)\n",
    "    \n",
    "\n",
    "\n",
    "n_itr = 10\n",
    "colors = plt.cm.magma_r(np.linspace(0, 1, n_itr))\n",
    "for i, gamma_cool in enumerate(np.geomspace(pa.gamma_min.value,pa.gamma_inj.value, n_itr)):\n",
    "\n",
    "    pa.B=1e2\n",
    "    pa.index = 2.24\n",
    "    pa.gamma_cool = gamma_cool\n",
    "    \n",
    "    ax.loglog(x, x**2 * pa(x), color=colors[i], lw=1.5)\n",
    "    \n",
    "ax.set_ylim(1e-11)\n",
    "ax.set_xlim(1e-1)\n",
    "\n",
    "\n",
    "bfs.K = 1e-17\n",
    "bfs.xp=5e3\n",
    "\n"
   ]
  },
  {
   "cell_type": "markdown",
   "id": "96ba6fc5-71f9-40cd-9577-4e05a854638e",
   "metadata": {},
   "source": [
    "## Time-dependent Synchrotron \n",
    "\n",
    "Now we compare the Band function ($\\alpha=-1.5$) to the time-dependent synchrotron model from Burgess et al. 2020. Here $\\gamma_\\textrm{cool}$ goes from very far below the injection energy (yellow) to the injection energy (blue)\n",
    "\n",
    "However, if one zooms in, it is clear to see that the Band function is intrinsically **much** narrower than the fast-cooling synchrotron spectrum. This is why using the Band function to approximate synchrotron is a bad idea.\n"
   ]
  },
  {
   "cell_type": "code",
   "execution_count": 62,
   "id": "1b7c6d7b-3bc3-465f-9ea0-d9db8338fc62",
   "metadata": {},
   "outputs": [
    {
     "data": {
      "application/vnd.jupyter.widget-view+json": {
       "model_id": "41a4c205cc58431baa60b8c201b0a375",
       "version_major": 2,
       "version_minor": 0
      },
      "text/plain": [
       "Canvas(toolbar=Toolbar(toolitems=[('Home', 'Reset original view', 'home', 'home'), ('Back', 'Back to previous …"
      ]
     },
     "metadata": {},
     "output_type": "display_data"
    },
    {
     "data": {
      "text/plain": [
       "<matplotlib.legend.Legend at 0x12fac32e0>"
      ]
     },
     "execution_count": 62,
     "metadata": {},
     "output_type": "execute_result"
    }
   ],
   "source": [
    "fig, ax = plt.subplots()\n",
    "\n",
    "x = np.geomspace(1e-5,1e8,128)\n",
    "\n",
    "\n",
    "\n",
    "\n",
    "n_itr = 20\n",
    "colors = cmr.iceburn_r(np.linspace(0, 1, n_itr))\n",
    "for i, gamma_cool in enumerate(np.geomspace(pa.gamma_min.value,pa.gamma_inj.value, n_itr)):\n",
    "\n",
    "    sn.B=1e2\n",
    "    sn.index = 3.3\n",
    "    sn.gamma_cool = gamma_cool\n",
    "    \n",
    "    ax.loglog(x, x**2 * sn(x), color=colors[i],lw=2.3)\n",
    "    \n",
    "bfs.K = 2e1\n",
    "bfs.xp=2e1\n",
    "\n",
    "ax.loglog(x, x**2 * bfs(x), color=purple, label=\"Band\",lw=2)\n",
    "\n",
    "\n",
    "ax.legend()\n",
    "\n",
    "ax.set_xlabel(\"energy\")\n",
    "ax.set_ylabel(r\"$\\nu F_{\\nu}$\")\n",
    "ax.legend()\n",
    "    "
   ]
  },
  {
   "cell_type": "markdown",
   "id": "e918e209-8d71-4bc9-a5e1-7dd8664d7ece",
   "metadata": {},
   "source": [
    "## old school synchrotron\n",
    "Just for fun, we can look at the model from the Burgess 2014 paper as well.\n",
    "\n",
    "It is important to look at how narrow the Band function is in comparison to the synchrotron model. **We can resolve this difference with GBM**\n"
   ]
  },
  {
   "cell_type": "code",
   "execution_count": 61,
   "id": "b8e9a841-404b-4ef0-8f0f-389e9f6c9e07",
   "metadata": {},
   "outputs": [
    {
     "data": {
      "application/vnd.jupyter.widget-view+json": {
       "model_id": "ba95d059e56e4f2a9705eb05c9a3519f",
       "version_major": 2,
       "version_minor": 0
      },
      "text/plain": [
       "Canvas(toolbar=Toolbar(toolitems=[('Home', 'Reset original view', 'home', 'home'), ('Back', 'Back to previous …"
      ]
     },
     "metadata": {},
     "output_type": "display_data"
    },
    {
     "data": {
      "text/plain": [
       "<matplotlib.legend.Legend at 0x12f6276a0>"
      ]
     },
     "execution_count": 61,
     "metadata": {},
     "output_type": "execute_result"
    }
   ],
   "source": [
    "fig, ax = plt.subplots()\n",
    "\n",
    "x = np.geomspace(1e1,1e8,128)\n",
    "\n",
    "\n",
    "n_itr = 20\n",
    "colors = plt.cm.viridis(np.linspace(0, 1, n_itr))\n",
    "\n",
    "ss.B=1e2\n",
    "ss.index = 3.24\n",
    "\n",
    "\n",
    "ax.loglog(x, x**2 * ss(x), color=\"blue\", label=\"synchrotron\")\n",
    "\n",
    "bss.K = 5e-15\n",
    "bss.xp=6e3\n",
    "bss.beta =-2.115\n",
    "ax.loglog(x, x**2 * bss(x), color=\"red\", label=\"Band\")\n",
    "\n",
    "ax.set_ylim(1e-10)\n",
    "ax.set_xlabel(\"energy\")\n",
    "ax.set_ylabel(r\"$\\nu F_{\\nu}$\")\n",
    "\n",
    "ax.legend()"
   ]
  },
  {
   "cell_type": "code",
   "execution_count": null,
   "id": "394a2cad-9631-4ebc-9a7f-a8e1aa68def4",
   "metadata": {},
   "outputs": [],
   "source": []
  }
 ],
 "metadata": {
  "kernelspec": {
   "display_name": "pypa_synch",
   "language": "python",
   "name": "pypa_synch"
  },
  "language_info": {
   "codemirror_mode": {
    "name": "ipython",
    "version": 3
   },
   "file_extension": ".py",
   "mimetype": "text/x-python",
   "name": "python",
   "nbconvert_exporter": "python",
   "pygments_lexer": "ipython3",
   "version": "3.9.4"
  }
 },
 "nbformat": 4,
 "nbformat_minor": 5
}
