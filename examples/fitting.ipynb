{
 "cells": [
  {
   "cell_type": "code",
   "execution_count": 26,
   "id": "6dff0ea2-f7ec-404f-8565-68f825faa66d",
   "metadata": {},
   "outputs": [],
   "source": [
    "import matplotlib.pyplot as plt\n",
    "\n",
    "import numpy as np\n",
    "\n",
    "%matplotlib widget\n",
    "\n",
    "\n",
    "plt.style.use(\"mike\")\n",
    "\n",
    "\n",
    "from threeML import *\n",
    "\n",
    "from pypa_synch import PitchAngleSynchrotron, FastCoolingSynchrotron, SlowCoolingSynchrotron\n",
    "from pynchrotron import SynchrotronNumerical \n",
    "\n",
    "\n",
    "import warnings\n",
    "\n",
    "warnings.simplefilter(\"ignore\")\n",
    "\n",
    "\n",
    "silence_warnings()"
   ]
  },
  {
   "cell_type": "markdown",
   "id": "e96177d3-78ba-4ac5-8b80-abe0bcdedb7a",
   "metadata": {
    "tags": []
   },
   "source": [
    "# Setup data\n",
    "\n",
    "We will look at GRB 141028A which is in the sample \n"
   ]
  },
  {
   "cell_type": "code",
   "execution_count": 27,
   "id": "aa8a3a94-3d6b-4108-a936-1db6982d6831",
   "metadata": {},
   "outputs": [],
   "source": [
    "gbm_cat = FermiGBMBurstCatalog()"
   ]
  },
  {
   "cell_type": "code",
   "execution_count": 28,
   "id": "18971b3e-f20b-407c-b35a-9ecec265e3a2",
   "metadata": {},
   "outputs": [
    {
     "data": {
      "text/html": [
       "<i>Table length=1</i>\n",
       "<table id=\"table4909023632\" class=\"table-striped table-bordered table-condensed\">\n",
       "<thead><tr><th>name</th><th>ra</th><th>dec</th><th>trigger_time</th><th>t90</th></tr></thead>\n",
       "<thead><tr><th>object</th><th>float64</th><th>float64</th><th>float64</th><th>float64</th></tr></thead>\n",
       "<tr><td>GRB141028455</td><td>322.601</td><td>-0.231</td><td>56958.4547081</td><td>31.489</td></tr>\n",
       "</table>"
      ],
      "text/plain": [
       "<Table length=1>\n",
       "    name        ra     dec    trigger_time   t90  \n",
       "   object    float64 float64    float64    float64\n",
       "------------ ------- ------- ------------- -------\n",
       "GRB141028455 322.601  -0.231 56958.4547081  31.489"
      ]
     },
     "execution_count": 28,
     "metadata": {},
     "output_type": "execute_result"
    }
   ],
   "source": [
    "gbm_cat.query_sources(\"GRB141028455\")"
   ]
  },
  {
   "cell_type": "code",
   "execution_count": 29,
   "id": "4a140b79-774b-4752-9894-ab5f143cfc8a",
   "metadata": {},
   "outputs": [],
   "source": [
    "dinfo = gbm_cat.get_detector_information()[\"GRB141028455\"]\n",
    "dets = dinfo[\"detectors\"]\n"
   ]
  },
  {
   "cell_type": "code",
   "execution_count": 30,
   "id": "4183167c-0cd2-44bf-af19-754b5888216b",
   "metadata": {},
   "outputs": [
    {
     "name": "stdout",
     "output_type": "stream",
     "text": [
      "[\u001b[32mINFO    \u001b[0m]\u001b[32m file glg_cspec_n6_bn141028455_v00.pha is already downloaded!\u001b[0m\n",
      "[\u001b[32mINFO    \u001b[0m]\u001b[32m file glg_cspec_n6_bn141028455_v01.rsp2 is already downloaded!\u001b[0m\n",
      "[\u001b[32mINFO    \u001b[0m]\u001b[32m file glg_tte_n6_bn141028455_v00.fit is already downloaded!\u001b[0m\n",
      "[\u001b[32mINFO    \u001b[0m]\u001b[32m file glg_cspec_n7_bn141028455_v00.pha is already downloaded!\u001b[0m\n",
      "[\u001b[32mINFO    \u001b[0m]\u001b[32m file glg_cspec_n7_bn141028455_v01.rsp2 is already downloaded!\u001b[0m\n",
      "[\u001b[32mINFO    \u001b[0m]\u001b[32m file glg_tte_n7_bn141028455_v00.fit is already downloaded!\u001b[0m\n",
      "[\u001b[32mINFO    \u001b[0m]\u001b[32m file glg_cspec_n9_bn141028455_v00.pha is already downloaded!\u001b[0m\n",
      "[\u001b[32mINFO    \u001b[0m]\u001b[32m file glg_cspec_n9_bn141028455_v01.rsp2 is already downloaded!\u001b[0m\n",
      "[\u001b[32mINFO    \u001b[0m]\u001b[32m file glg_tte_n9_bn141028455_v00.fit is already downloaded!\u001b[0m\n",
      "[\u001b[32mINFO    \u001b[0m]\u001b[32m file glg_cspec_b1_bn141028455_v00.pha is already downloaded!\u001b[0m\n",
      "[\u001b[32mINFO    \u001b[0m]\u001b[32m file glg_cspec_b1_bn141028455_v01.rsp2 is already downloaded!\u001b[0m\n",
      "[\u001b[32mINFO    \u001b[0m]\u001b[32m file glg_tte_b1_bn141028455_v00.fit is already downloaded!\u001b[0m\n"
     ]
    }
   ],
   "source": [
    "gbm_dl = download_GBM_trigger_data(\"bn141028455\", detectors=dets)"
   ]
  },
  {
   "cell_type": "code",
   "execution_count": 31,
   "id": "96b40436-f6e5-4b2c-8c13-389d3eafc7b2",
   "metadata": {},
   "outputs": [
    {
     "data": {
      "application/vnd.jupyter.widget-view+json": {
       "model_id": "3d0d29187c43481ca5fb64110c0135f2",
       "version_major": 2,
       "version_minor": 0
      },
      "text/plain": [
       "Loading PHAII Spectra:   0%|          | 0/2835 [00:00<?, ?it/s]"
      ]
     },
     "metadata": {},
     "output_type": "display_data"
    },
    {
     "data": {
      "application/vnd.jupyter.widget-view+json": {
       "model_id": "54954d9bcbcc45e4883e5321e2f17df6",
       "version_major": 2,
       "version_minor": 0
      },
      "text/plain": [
       "Finding best polynomial Order:   0%|          | 0/5 [00:00<?, ?it/s]"
      ]
     },
     "metadata": {},
     "output_type": "display_data"
    },
    {
     "name": "stdout",
     "output_type": "stream",
     "text": [
      "[\u001b[32mINFO    \u001b[0m]\u001b[32m Auto-determined polynomial order: 1\u001b[0m\n"
     ]
    },
    {
     "data": {
      "application/vnd.jupyter.widget-view+json": {
       "model_id": "de8a967ff15f4ed3ae2863eab9e52313",
       "version_major": 2,
       "version_minor": 0
      },
      "text/plain": [
       "Fitting GBM_NAI_06 background:   0%|          | 0/128 [00:00<?, ?it/s]"
      ]
     },
     "metadata": {},
     "output_type": "display_data"
    },
    {
     "name": "stdout",
     "output_type": "stream",
     "text": [
      "[\u001b[32mINFO    \u001b[0m]\u001b[32m None 1-order polynomial fit with the bayes method\u001b[0m\n",
      "[\u001b[32mINFO    \u001b[0m]\u001b[32m Saved fitted background to n6_bkg.h5\u001b[0m\n",
      "[\u001b[32mINFO    \u001b[0m]\u001b[32m Saved background to n6_bkg.h5\u001b[0m\n",
      "[\u001b[32mINFO    \u001b[0m]\u001b[32m Successfully restored fit from n6_bkg.h5\u001b[0m\n",
      "[\u001b[32mINFO    \u001b[0m]\u001b[32m Interval set to 10.0-12.0 for n6\u001b[0m\n"
     ]
    },
    {
     "data": {
      "application/vnd.jupyter.widget-view+json": {
       "model_id": "0e9d097181f84ae19d38187ea8e8b32b",
       "version_major": 2,
       "version_minor": 0
      },
      "text/plain": [
       "Canvas(toolbar=Toolbar(toolitems=[('Home', 'Reset original view', 'home', 'home'), ('Back', 'Back to previous …"
      ]
     },
     "metadata": {},
     "output_type": "display_data"
    },
    {
     "name": "stdout",
     "output_type": "stream",
     "text": [
      "[\u001b[32mINFO    \u001b[0m]\u001b[32m Auto-probed noise models:\u001b[0m\n",
      "[\u001b[32mINFO    \u001b[0m]\u001b[32m - observation: poisson\u001b[0m\n",
      "[\u001b[32mINFO    \u001b[0m]\u001b[32m - background: gaussian\u001b[0m\n",
      "[\u001b[32mINFO    \u001b[0m]\u001b[32m Range 9-900 translates to channels 3-123\u001b[0m\n",
      "[\u001b[32mINFO    \u001b[0m]\u001b[32m Now using 121 bins\u001b[0m\n"
     ]
    },
    {
     "data": {
      "application/vnd.jupyter.widget-view+json": {
       "model_id": "01708f9b0d1b4effb8e1488bbf669c1c",
       "version_major": 2,
       "version_minor": 0
      },
      "text/plain": [
       "Loading PHAII Spectra:   0%|          | 0/2835 [00:00<?, ?it/s]"
      ]
     },
     "metadata": {},
     "output_type": "display_data"
    },
    {
     "data": {
      "application/vnd.jupyter.widget-view+json": {
       "model_id": "4f7ff30f614644b2bf220d1b817bccf5",
       "version_major": 2,
       "version_minor": 0
      },
      "text/plain": [
       "Finding best polynomial Order:   0%|          | 0/5 [00:00<?, ?it/s]"
      ]
     },
     "metadata": {},
     "output_type": "display_data"
    },
    {
     "name": "stdout",
     "output_type": "stream",
     "text": [
      "[\u001b[32mINFO    \u001b[0m]\u001b[32m Auto-determined polynomial order: 0\u001b[0m\n"
     ]
    },
    {
     "data": {
      "application/vnd.jupyter.widget-view+json": {
       "model_id": "a7e043c7e0a44ae0ba3bdfedb7aab921",
       "version_major": 2,
       "version_minor": 0
      },
      "text/plain": [
       "Fitting GBM_NAI_07 background:   0%|          | 0/128 [00:00<?, ?it/s]"
      ]
     },
     "metadata": {},
     "output_type": "display_data"
    },
    {
     "name": "stdout",
     "output_type": "stream",
     "text": [
      "[\u001b[32mINFO    \u001b[0m]\u001b[32m None 0-order polynomial fit with the bayes method\u001b[0m\n",
      "[\u001b[32mINFO    \u001b[0m]\u001b[32m Saved fitted background to n7_bkg.h5\u001b[0m\n",
      "[\u001b[32mINFO    \u001b[0m]\u001b[32m Saved background to n7_bkg.h5\u001b[0m\n",
      "[\u001b[32mINFO    \u001b[0m]\u001b[32m Successfully restored fit from n7_bkg.h5\u001b[0m\n",
      "[\u001b[32mINFO    \u001b[0m]\u001b[32m Interval set to 10.0-12.0 for n7\u001b[0m\n"
     ]
    },
    {
     "data": {
      "application/vnd.jupyter.widget-view+json": {
       "model_id": "283f956493354843a51b85d30648694e",
       "version_major": 2,
       "version_minor": 0
      },
      "text/plain": [
       "Canvas(toolbar=Toolbar(toolitems=[('Home', 'Reset original view', 'home', 'home'), ('Back', 'Back to previous …"
      ]
     },
     "metadata": {},
     "output_type": "display_data"
    },
    {
     "name": "stdout",
     "output_type": "stream",
     "text": [
      "[\u001b[32mINFO    \u001b[0m]\u001b[32m Auto-probed noise models:\u001b[0m\n",
      "[\u001b[32mINFO    \u001b[0m]\u001b[32m - observation: poisson\u001b[0m\n",
      "[\u001b[32mINFO    \u001b[0m]\u001b[32m - background: gaussian\u001b[0m\n",
      "[\u001b[32mINFO    \u001b[0m]\u001b[32m Range 9-900 translates to channels 5-123\u001b[0m\n",
      "[\u001b[32mINFO    \u001b[0m]\u001b[32m Now using 119 bins\u001b[0m\n"
     ]
    },
    {
     "data": {
      "application/vnd.jupyter.widget-view+json": {
       "model_id": "332dd1f42b3d40a4ab47773489b154d7",
       "version_major": 2,
       "version_minor": 0
      },
      "text/plain": [
       "Loading PHAII Spectra:   0%|          | 0/2835 [00:00<?, ?it/s]"
      ]
     },
     "metadata": {},
     "output_type": "display_data"
    },
    {
     "data": {
      "application/vnd.jupyter.widget-view+json": {
       "model_id": "ffb9ef47cd3640b9992b2b49e2199f2b",
       "version_major": 2,
       "version_minor": 0
      },
      "text/plain": [
       "Finding best polynomial Order:   0%|          | 0/5 [00:00<?, ?it/s]"
      ]
     },
     "metadata": {},
     "output_type": "display_data"
    },
    {
     "name": "stdout",
     "output_type": "stream",
     "text": [
      "[\u001b[32mINFO    \u001b[0m]\u001b[32m Auto-determined polynomial order: 1\u001b[0m\n"
     ]
    },
    {
     "data": {
      "application/vnd.jupyter.widget-view+json": {
       "model_id": "d6da3a73dfa246f8964dbc434ef606f7",
       "version_major": 2,
       "version_minor": 0
      },
      "text/plain": [
       "Fitting GBM_NAI_09 background:   0%|          | 0/128 [00:00<?, ?it/s]"
      ]
     },
     "metadata": {},
     "output_type": "display_data"
    },
    {
     "name": "stdout",
     "output_type": "stream",
     "text": [
      "[\u001b[32mINFO    \u001b[0m]\u001b[32m None 1-order polynomial fit with the bayes method\u001b[0m\n",
      "[\u001b[32mINFO    \u001b[0m]\u001b[32m Saved fitted background to n9_bkg.h5\u001b[0m\n",
      "[\u001b[32mINFO    \u001b[0m]\u001b[32m Saved background to n9_bkg.h5\u001b[0m\n",
      "[\u001b[32mINFO    \u001b[0m]\u001b[32m Successfully restored fit from n9_bkg.h5\u001b[0m\n",
      "[\u001b[32mINFO    \u001b[0m]\u001b[32m Interval set to 10.0-12.0 for n9\u001b[0m\n"
     ]
    },
    {
     "data": {
      "application/vnd.jupyter.widget-view+json": {
       "model_id": "ae7b8b1b183f4cb5a944ed1caf86c7be",
       "version_major": 2,
       "version_minor": 0
      },
      "text/plain": [
       "Canvas(toolbar=Toolbar(toolitems=[('Home', 'Reset original view', 'home', 'home'), ('Back', 'Back to previous …"
      ]
     },
     "metadata": {},
     "output_type": "display_data"
    },
    {
     "name": "stdout",
     "output_type": "stream",
     "text": [
      "[\u001b[32mINFO    \u001b[0m]\u001b[32m Auto-probed noise models:\u001b[0m\n",
      "[\u001b[32mINFO    \u001b[0m]\u001b[32m - observation: poisson\u001b[0m\n",
      "[\u001b[32mINFO    \u001b[0m]\u001b[32m - background: gaussian\u001b[0m\n",
      "[\u001b[32mINFO    \u001b[0m]\u001b[32m Range 9-900 translates to channels 5-124\u001b[0m\n",
      "[\u001b[32mINFO    \u001b[0m]\u001b[32m Now using 120 bins\u001b[0m\n"
     ]
    },
    {
     "data": {
      "application/vnd.jupyter.widget-view+json": {
       "model_id": "183d48dcc4ef4bb09a9537e757463bdd",
       "version_major": 2,
       "version_minor": 0
      },
      "text/plain": [
       "Loading PHAII Spectra:   0%|          | 0/2835 [00:00<?, ?it/s]"
      ]
     },
     "metadata": {},
     "output_type": "display_data"
    },
    {
     "data": {
      "application/vnd.jupyter.widget-view+json": {
       "model_id": "46fe34b2ff6949d9a0022fdf0992185b",
       "version_major": 2,
       "version_minor": 0
      },
      "text/plain": [
       "Finding best polynomial Order:   0%|          | 0/5 [00:00<?, ?it/s]"
      ]
     },
     "metadata": {},
     "output_type": "display_data"
    },
    {
     "name": "stdout",
     "output_type": "stream",
     "text": [
      "[\u001b[32mINFO    \u001b[0m]\u001b[32m Auto-determined polynomial order: 0\u001b[0m\n"
     ]
    },
    {
     "data": {
      "application/vnd.jupyter.widget-view+json": {
       "model_id": "5f8c5d8f2dc948b3a1d161bc438f4aa6",
       "version_major": 2,
       "version_minor": 0
      },
      "text/plain": [
       "Fitting GBM_BGO_01 background:   0%|          | 0/128 [00:00<?, ?it/s]"
      ]
     },
     "metadata": {},
     "output_type": "display_data"
    },
    {
     "name": "stdout",
     "output_type": "stream",
     "text": [
      "[\u001b[32mINFO    \u001b[0m]\u001b[32m None 0-order polynomial fit with the bayes method\u001b[0m\n",
      "[\u001b[32mINFO    \u001b[0m]\u001b[32m Saved fitted background to b1_bkg.h5\u001b[0m\n",
      "[\u001b[32mINFO    \u001b[0m]\u001b[32m Saved background to b1_bkg.h5\u001b[0m\n",
      "[\u001b[32mINFO    \u001b[0m]\u001b[32m Successfully restored fit from b1_bkg.h5\u001b[0m\n",
      "[\u001b[32mINFO    \u001b[0m]\u001b[32m Interval set to 10.0-12.0 for b1\u001b[0m\n"
     ]
    },
    {
     "data": {
      "application/vnd.jupyter.widget-view+json": {
       "model_id": "834899dfab894b769d6c705aaba247fd",
       "version_major": 2,
       "version_minor": 0
      },
      "text/plain": [
       "Canvas(toolbar=Toolbar(toolitems=[('Home', 'Reset original view', 'home', 'home'), ('Back', 'Back to previous …"
      ]
     },
     "metadata": {},
     "output_type": "display_data"
    },
    {
     "name": "stdout",
     "output_type": "stream",
     "text": [
      "[\u001b[32mINFO    \u001b[0m]\u001b[32m Auto-probed noise models:\u001b[0m\n",
      "[\u001b[32mINFO    \u001b[0m]\u001b[32m - observation: poisson\u001b[0m\n",
      "[\u001b[32mINFO    \u001b[0m]\u001b[32m - background: gaussian\u001b[0m\n",
      "[\u001b[32mINFO    \u001b[0m]\u001b[32m Range 250-30000 translates to channels 4-119\u001b[0m\n",
      "[\u001b[32mINFO    \u001b[0m]\u001b[32m Now using 116 bins\u001b[0m\n"
     ]
    }
   ],
   "source": [
    "fluence_plugins = []\n",
    "time_series = {}\n",
    "\n",
    "bkg_pre = -0.5\n",
    "bkg_post = 60.\n",
    "\n",
    "src_start = 10.\n",
    "src_stop = 12.\n",
    "\n",
    "\n",
    "background_interval = [f\"{float(bkg_pre - 20)}-{float(bkg_pre)}\", f\"{float(bkg_post)}-{float(bkg_post +50)}\"]\n",
    "source_interval = f\"{float(src_start)}-{float(src_stop)}\"\n",
    "\n",
    "\n",
    "\n",
    "for det in dets:\n",
    "\n",
    "    \n",
    "    ts_cspec = TimeSeriesBuilder.from_gbm_cspec_or_ctime(\n",
    "        det,\n",
    "        cspec_or_ctime_file=gbm_dl[det][\"cspec\"],\n",
    "        rsp_file=gbm_dl[det][\"rsp\"], verbose=False\n",
    "    )\n",
    "\n",
    "    ts_cspec.set_background_interval(*background_interval)\n",
    "    ts_cspec.save_background(f\"{det}_bkg.h5\", overwrite=True)\n",
    "\n",
    "    ts_tte = TimeSeriesBuilder.from_gbm_tte(\n",
    "        det,\n",
    "        tte_file=gbm_dl[det][\"tte\"],\n",
    "        rsp_file=gbm_dl[det][\"rsp\"],\n",
    "        restore_background=f\"{det}_bkg.h5\",\n",
    "        verbose=False\n",
    "    )\n",
    "    \n",
    "    time_series[det] = ts_tte\n",
    "\n",
    "    ts_tte.set_active_time_interval(source_interval)\n",
    "\n",
    "    ts_tte.view_lightcurve(bkg_pre, bkg_post)\n",
    "    \n",
    "    fluence_plugin = ts_tte.to_spectrumlike()\n",
    "    \n",
    "    if det.startswith(\"b\"):\n",
    "        \n",
    "        fluence_plugin.set_active_measurements(\"250-30000\")\n",
    "    \n",
    "    else:\n",
    "        \n",
    "        fluence_plugin.set_active_measurements(\"9-900\")\n",
    "    \n",
    "    fluence_plugin.rebin_on_background(1.)\n",
    "    \n",
    "    fluence_plugins.append(fluence_plugin)"
   ]
  },
  {
   "cell_type": "code",
   "execution_count": 32,
   "id": "c6b3370d-5e2e-4f9e-89e1-9d3ee27a8a31",
   "metadata": {},
   "outputs": [
    {
     "name": "stdout",
     "output_type": "stream",
     "text": [
      "[\u001b[32mINFO    \u001b[0m]\u001b[32m file gll_cspec_bn141028455_v03.pha is already downloaded!\u001b[0m\n",
      "[\u001b[32mINFO    \u001b[0m]\u001b[32m file gll_cspec_bn141028455_v03.rsp is already downloaded!\u001b[0m\n",
      "[\u001b[32mINFO    \u001b[0m]\u001b[32m file gll_lle_bn141028455_v03.fit is already downloaded!\u001b[0m\n",
      "[\u001b[32mINFO    \u001b[0m]\u001b[32m file gll_pt_bn141028455_v03.fit is already downloaded!\u001b[0m\n"
     ]
    }
   ],
   "source": [
    "lle_dl = download_LLE_trigger_data(\"GRB141028455\")"
   ]
  },
  {
   "cell_type": "code",
   "execution_count": 33,
   "id": "b9638c8f-623a-432a-bfc9-3274698c8c21",
   "metadata": {},
   "outputs": [],
   "source": [
    "lle_ts = TimeSeriesBuilder.from_lat_lle(\"lle\", lle_file=lle_dl[\"lle\"], ft2_file=lle_dl[\"ft2\"],rsp_file=lle_dl[\"rsp\"])"
   ]
  },
  {
   "cell_type": "code",
   "execution_count": 34,
   "id": "1fc31d7f-86ef-4964-a08f-ed95fbacee43",
   "metadata": {},
   "outputs": [
    {
     "data": {
      "application/vnd.jupyter.widget-view+json": {
       "model_id": "32a36391c8d84a498b3847c699474e54",
       "version_major": 2,
       "version_minor": 0
      },
      "text/plain": [
       "Finding best polynomial Order:   0%|          | 0/5 [00:00<?, ?it/s]"
      ]
     },
     "metadata": {},
     "output_type": "display_data"
    },
    {
     "name": "stdout",
     "output_type": "stream",
     "text": [
      "[\u001b[32mINFO    \u001b[0m]\u001b[32m Auto-determined polynomial order: 0\u001b[0m\n"
     ]
    },
    {
     "data": {
      "application/vnd.jupyter.widget-view+json": {
       "model_id": "891d8cae441e44b09b8c70d2737352f0",
       "version_major": 2,
       "version_minor": 0
      },
      "text/plain": [
       "Fitting GLAST_LLE background:   0%|          | 0/50 [00:00<?, ?it/s]"
      ]
     },
     "metadata": {},
     "output_type": "display_data"
    },
    {
     "name": "stdout",
     "output_type": "stream",
     "text": [
      "[\u001b[32mINFO    \u001b[0m]\u001b[32m None 0-order polynomial fit with the bayes method\u001b[0m\n"
     ]
    }
   ],
   "source": [
    "lle_ts.set_background_interval(\"-20--1\", \"50-100\")"
   ]
  },
  {
   "cell_type": "code",
   "execution_count": 35,
   "id": "d2147f9e-330f-4900-a5e9-67665bbe3ca1",
   "metadata": {},
   "outputs": [
    {
     "name": "stdout",
     "output_type": "stream",
     "text": [
      "[\u001b[32mINFO    \u001b[0m]\u001b[32m Interval set to 10.0-12.0 for lle\u001b[0m\n"
     ]
    },
    {
     "data": {
      "application/vnd.jupyter.widget-view+json": {
       "model_id": "2e536b2af123429ca89dc210ef628701",
       "version_major": 2,
       "version_minor": 0
      },
      "text/plain": [
       "Canvas(toolbar=Toolbar(toolitems=[('Home', 'Reset original view', 'home', 'home'), ('Back', 'Back to previous …"
      ]
     },
     "metadata": {},
     "output_type": "display_data"
    },
    {
     "name": "stdout",
     "output_type": "stream",
     "text": [
      "[\u001b[32mINFO    \u001b[0m]\u001b[32m Auto-probed noise models:\u001b[0m\n",
      "[\u001b[32mINFO    \u001b[0m]\u001b[32m - observation: poisson\u001b[0m\n",
      "[\u001b[32mINFO    \u001b[0m]\u001b[32m - background: gaussian\u001b[0m\n",
      "[\u001b[32mINFO    \u001b[0m]\u001b[32m Range 50000-100000 translates to channels 8-12\u001b[0m\n"
     ]
    }
   ],
   "source": [
    "lle_ts.set_active_time_interval(source_interval)\n",
    "\n",
    "lle_ts.view_lightcurve(-10,100)\n",
    "\n",
    "\n",
    "\n",
    "lle = lle_ts.to_spectrumlike()\n",
    "\n",
    "\n",
    "lle.set_active_measurements(\"50000-100000\")"
   ]
  },
  {
   "cell_type": "code",
   "execution_count": 36,
   "id": "39661e1e-db50-400d-b037-91ce65472c2b",
   "metadata": {},
   "outputs": [],
   "source": [
    "fluence_plugins.append(lle)"
   ]
  },
  {
   "cell_type": "code",
   "execution_count": 37,
   "id": "cd9fdbf6-7a32-4ca6-9816-cbaa0e50b7ad",
   "metadata": {},
   "outputs": [],
   "source": [
    "datalist = DataList(*fluence_plugins)"
   ]
  },
  {
   "cell_type": "markdown",
   "id": "67990c12-c5d5-4673-905b-1589e392d6a4",
   "metadata": {},
   "source": [
    "# Setup models"
   ]
  },
  {
   "cell_type": "markdown",
   "id": "87487416-3db1-4d8d-ba4d-871089e428dc",
   "metadata": {
    "tags": []
   },
   "source": [
    "## Pitch angle synchrotron \n",
    "\n",
    "The new model from Sobacchi, Sironi, and Beloborodov (from now on the SSB model *not* to be confused with the SSC model!)"
   ]
  },
  {
   "cell_type": "code",
   "execution_count": 38,
   "id": "f646ac91-f51d-42d4-b03f-4d4aedd35980",
   "metadata": {},
   "outputs": [
    {
     "data": {
      "application/vnd.jupyter.widget-view+json": {
       "model_id": "e0951259aaf5490aa23f94ca3f833266",
       "version_major": 2,
       "version_minor": 0
      },
      "text/plain": [
       "Canvas(toolbar=Toolbar(toolitems=[('Home', 'Reset original view', 'home', 'home'), ('Back', 'Back to previous …"
      ]
     },
     "metadata": {},
     "output_type": "display_data"
    },
    {
     "data": {
      "text/plain": [
       "[<matplotlib.lines.Line2D at 0x125ef8bb0>]"
      ]
     },
     "execution_count": 38,
     "metadata": {},
     "output_type": "execute_result"
    }
   ],
   "source": [
    "# get parameters correct\n",
    "\n",
    "pa = PitchAngleSynchrotron()\n",
    "pa.gamma_inj.fix = True\n",
    "\n",
    "xgrid = np.geomspace(10, 1e4, 500)\n",
    "\n",
    "\n",
    "fig, ax = plt.subplots()\n",
    "pa.gamma_inj =1e4\n",
    "pa.gamma_min =1\n",
    "pa.B = 5e2\n",
    "\n",
    "pa.gamma_cool = 5000\n",
    "\n",
    "\n",
    "ax.loglog(xgrid, xgrid**2 * pa(xgrid))\n",
    "\n"
   ]
  },
  {
   "cell_type": "code",
   "execution_count": 68,
   "id": "4c46d3b0-b8c5-4c9e-b017-fcf686a4a872",
   "metadata": {},
   "outputs": [],
   "source": [
    "# set priors and make model\n",
    "\n",
    "pa.gamma_cool.prior = Log_uniform_prior(lower_bound=pa.gamma_min.value, upper_bound=pa.gamma_inj.value)\n",
    "pa.B.prior = Log_uniform_prior(lower_bound = 1e0, upper_bound = 1e8)\n",
    "pa.index.prior = Truncated_gaussian(lower_bound=1., upper_bound=7., mu=3., sigma=1.)\n",
    "pa.K.prior = Log_uniform_prior(lower_bound=1E1, upper_bound = 1E20)\n",
    "pa.K=1e10\n",
    "\n",
    "pa.index.bounds = (1, None)\n",
    "\n",
    "pa.gamma_cool = 1e2\n",
    "\n",
    "\n",
    "\n",
    "ps_pa = PointSource(\"pa\",0,0, spectral_shape=pa)\n",
    "\n",
    "model_pa = Model(ps_pa)\n",
    "\n"
   ]
  },
  {
   "cell_type": "markdown",
   "id": "cece3718-415c-410c-9d09-c51f7e03405a",
   "metadata": {
    "tags": []
   },
   "source": [
    "## Old school slow cooled synchrotron\n",
    "This is similiar to the model used in [Burgess et al 2014](https://iopscience.iop.org/article/10.1088/0004-637X/784/1/17)"
   ]
  },
  {
   "cell_type": "code",
   "execution_count": 40,
   "id": "db04b504-c01b-4c4d-8080-c8a2687840bf",
   "metadata": {},
   "outputs": [
    {
     "data": {
      "application/vnd.jupyter.widget-view+json": {
       "model_id": "9d89b813f05045b9bc4f44e9db30de86",
       "version_major": 2,
       "version_minor": 0
      },
      "text/plain": [
       "Canvas(toolbar=Toolbar(toolitems=[('Home', 'Reset original view', 'home', 'home'), ('Back', 'Back to previous …"
      ]
     },
     "metadata": {},
     "output_type": "display_data"
    },
    {
     "data": {
      "text/plain": [
       "[<matplotlib.lines.Line2D at 0x132ebe100>]"
      ]
     },
     "execution_count": 40,
     "metadata": {},
     "output_type": "execute_result"
    }
   ],
   "source": [
    "# get parameters right\n",
    "\n",
    "ss = SlowCoolingSynchrotron()\n",
    "ss.gamma_inj.fix = True\n",
    "\n",
    "xgrid = np.geomspace(10, 1e4, 500)\n",
    "\n",
    "\n",
    "fig, ax = plt.subplots()\n",
    "ss.gamma_inj =1e4\n",
    "ss.B = 5e2\n",
    "ss.index= 4.\n",
    "\n",
    "\n",
    "\n",
    "ax.loglog(xgrid, xgrid**2 * ss(xgrid))\n",
    "\n"
   ]
  },
  {
   "cell_type": "code",
   "execution_count": 67,
   "id": "51a7548b-b40f-4b5f-a3de-7943ffaf0fb9",
   "metadata": {},
   "outputs": [],
   "source": [
    "# setup priors\n",
    "\n",
    "ss.B.prior = Log_uniform_prior(lower_bound = 1e0, upper_bound = 1e8)\n",
    "ss.index.prior = Truncated_gaussian(lower_bound=1., upper_bound=7., mu=3., sigma=1.)\n",
    "ss.K.prior = Log_uniform_prior(lower_bound=1E8, upper_bound = 1E18)\n",
    "ss.K=1e10\n",
    "\n",
    "ss.index.bounds = (1, None)\n",
    "\n",
    "ps_ss = PointSource(\"ss\",0,0, spectral_shape=ss)\n",
    "\n",
    "model_ss = Model(ps_ss)\n"
   ]
  },
  {
   "cell_type": "markdown",
   "id": "c1377fc9-0415-4af0-82b4-609529840009",
   "metadata": {
    "tags": []
   },
   "source": [
    "## Time-dependent synchrotron \n",
    "\n",
    "This is the model that solves the Fokker-Plank equation and integrates the synchrotron emission from each time step [Burgess et al 2020](https://www.nature.com/articles/s41550-019-0911-z)\n"
   ]
  },
  {
   "cell_type": "code",
   "execution_count": 66,
   "id": "a345c542-bcec-4f83-83a6-575544b1bbff",
   "metadata": {},
   "outputs": [],
   "source": [
    "sn = SynchrotronNumerical()\n",
    "\n",
    "sn.K.prior = Log_uniform_prior(lower_bound = 1e-5, upper_bound=1E5)\n",
    "sn.gamma_max.fix=True\n",
    "sn.gamma_min = 1e5\n",
    "sn.gamma_min.fix = True\n",
    "sn.gamma_cool.prior = Log_uniform_prior(lower_bound=1e4, upper_bound=sn.gamma_max.value)\n",
    "sn.B.prior = Log_uniform_prior(lower_bound=1e0, upper_bound=1e4)\n",
    "\n",
    "sn.index.prior = Truncated_gaussian(lower_bound=1., upper_bound=10, mu=3.5, sigma=1)\n",
    "sn.index.bounds = (None, None)\n",
    "\n",
    "\n",
    "ps_sn = PointSource(\"sn\",0,0, spectral_shape=sn)\n",
    "\n",
    "model_sn = Model(ps_sn)\n",
    "\n"
   ]
  },
  {
   "cell_type": "markdown",
   "id": "467f8a68-901f-4a9d-be84-a4fb5fc034f6",
   "metadata": {},
   "source": [
    "# Fitting\n",
    "\n",
    "Now we fit each model"
   ]
  },
  {
   "cell_type": "markdown",
   "id": "1a23cdc0-fdaa-4793-b0b2-42a1cdcb9301",
   "metadata": {
    "tags": []
   },
   "source": [
    "## pitch angle synchrotron"
   ]
  },
  {
   "cell_type": "code",
   "execution_count": 69,
   "id": "8648490a-c3b2-45b6-89c2-907f5036495d",
   "metadata": {},
   "outputs": [],
   "source": [
    "bayes = BayesianAnalysis(model_pa, datalist);"
   ]
  },
  {
   "cell_type": "code",
   "execution_count": 70,
   "id": "9dde2f4b-bc03-4bec-8b35-b80840f7f3f8",
   "metadata": {},
   "outputs": [
    {
     "name": "stdout",
     "output_type": "stream",
     "text": [
      "[\u001b[32mINFO    \u001b[0m]\u001b[32m sampler set to multinest\u001b[0m\n"
     ]
    }
   ],
   "source": [
    "bayes.set_sampler(\"multinest\", share_spectrum=True)"
   ]
  },
  {
   "cell_type": "code",
   "execution_count": 71,
   "id": "d6ee9e7b-7c8a-4fed-a2e9-79e9f9184838",
   "metadata": {},
   "outputs": [],
   "source": [
    "bayes.sampler.setup(resume=False, n_live_points=700)"
   ]
  },
  {
   "cell_type": "code",
   "execution_count": 72,
   "id": "409e9292-d43a-48a4-b91b-1acd0e519a10",
   "metadata": {},
   "outputs": [
    {
     "name": "stdout",
     "output_type": "stream",
     "text": [
      "  analysing data from chains/fit-.txt\n",
      "Maximum a posteriori probability (MAP) point:\n",
      "\n"
     ]
    },
    {
     "data": {
      "text/html": [
       "<div>\n",
       "<style scoped>\n",
       "    .dataframe tbody tr th:only-of-type {\n",
       "        vertical-align: middle;\n",
       "    }\n",
       "\n",
       "    .dataframe tbody tr th {\n",
       "        vertical-align: top;\n",
       "    }\n",
       "\n",
       "    .dataframe thead th {\n",
       "        text-align: right;\n",
       "    }\n",
       "</style>\n",
       "<table border=\"1\" class=\"dataframe\">\n",
       "  <thead>\n",
       "    <tr style=\"text-align: right;\">\n",
       "      <th></th>\n",
       "      <th>result</th>\n",
       "      <th>unit</th>\n",
       "    </tr>\n",
       "    <tr>\n",
       "      <th>parameter</th>\n",
       "      <th></th>\n",
       "      <th></th>\n",
       "    </tr>\n",
       "  </thead>\n",
       "  <tbody>\n",
       "    <tr>\n",
       "      <th>pa.spectrum.main.PitchAngleSynchrotron.K</th>\n",
       "      <td>(1.9 -1.8 +1.2) x 10^16</td>\n",
       "      <td>1 / (cm2 keV s)</td>\n",
       "    </tr>\n",
       "    <tr>\n",
       "      <th>pa.spectrum.main.PitchAngleSynchrotron.B</th>\n",
       "      <td>(1.16 -0.15 +0.13) x 10^4</td>\n",
       "      <td>G</td>\n",
       "    </tr>\n",
       "    <tr>\n",
       "      <th>pa.spectrum.main.PitchAngleSynchrotron.index</th>\n",
       "      <td>3.77 -0.21 +0.22</td>\n",
       "      <td></td>\n",
       "    </tr>\n",
       "    <tr>\n",
       "      <th>pa.spectrum.main.PitchAngleSynchrotron.gamma_cool</th>\n",
       "      <td>(8.6 -1.1 +1.0) x 10^3</td>\n",
       "      <td></td>\n",
       "    </tr>\n",
       "  </tbody>\n",
       "</table>\n",
       "</div>"
      ],
      "text/plain": [
       "                                                                      result  \\\n",
       "parameter                                                                      \n",
       "pa.spectrum.main.PitchAngleSynchrotron.K             (1.9 -1.8 +1.2) x 10^16   \n",
       "pa.spectrum.main.PitchAngleSynchrotron.B           (1.16 -0.15 +0.13) x 10^4   \n",
       "pa.spectrum.main.PitchAngleSynchrotron.index                3.77 -0.21 +0.22   \n",
       "pa.spectrum.main.PitchAngleSynchrotron.gamma_cool     (8.6 -1.1 +1.0) x 10^3   \n",
       "\n",
       "                                                              unit  \n",
       "parameter                                                           \n",
       "pa.spectrum.main.PitchAngleSynchrotron.K           1 / (cm2 keV s)  \n",
       "pa.spectrum.main.PitchAngleSynchrotron.B                         G  \n",
       "pa.spectrum.main.PitchAngleSynchrotron.index                        \n",
       "pa.spectrum.main.PitchAngleSynchrotron.gamma_cool                   "
      ]
     },
     "metadata": {},
     "output_type": "display_data"
    },
    {
     "name": "stdout",
     "output_type": "stream",
     "text": [
      "\n",
      "Values of -log(posterior) at the minimum:\n",
      "\n"
     ]
    },
    {
     "data": {
      "text/html": [
       "<div>\n",
       "<style scoped>\n",
       "    .dataframe tbody tr th:only-of-type {\n",
       "        vertical-align: middle;\n",
       "    }\n",
       "\n",
       "    .dataframe tbody tr th {\n",
       "        vertical-align: top;\n",
       "    }\n",
       "\n",
       "    .dataframe thead th {\n",
       "        text-align: right;\n",
       "    }\n",
       "</style>\n",
       "<table border=\"1\" class=\"dataframe\">\n",
       "  <thead>\n",
       "    <tr style=\"text-align: right;\">\n",
       "      <th></th>\n",
       "      <th>-log(posterior)</th>\n",
       "    </tr>\n",
       "  </thead>\n",
       "  <tbody>\n",
       "    <tr>\n",
       "      <th>b1</th>\n",
       "      <td>-355.810448</td>\n",
       "    </tr>\n",
       "    <tr>\n",
       "      <th>lle</th>\n",
       "      <td>-26.431620</td>\n",
       "    </tr>\n",
       "    <tr>\n",
       "      <th>n6</th>\n",
       "      <td>-491.653314</td>\n",
       "    </tr>\n",
       "    <tr>\n",
       "      <th>n7</th>\n",
       "      <td>-421.927357</td>\n",
       "    </tr>\n",
       "    <tr>\n",
       "      <th>n9</th>\n",
       "      <td>-478.871530</td>\n",
       "    </tr>\n",
       "    <tr>\n",
       "      <th>total</th>\n",
       "      <td>-1774.694268</td>\n",
       "    </tr>\n",
       "  </tbody>\n",
       "</table>\n",
       "</div>"
      ],
      "text/plain": [
       "       -log(posterior)\n",
       "b1         -355.810448\n",
       "lle         -26.431620\n",
       "n6         -491.653314\n",
       "n7         -421.927357\n",
       "n9         -478.871530\n",
       "total     -1774.694268"
      ]
     },
     "metadata": {},
     "output_type": "display_data"
    },
    {
     "name": "stdout",
     "output_type": "stream",
     "text": [
      "\n",
      "Values of statistical measures:\n",
      "\n"
     ]
    },
    {
     "data": {
      "text/html": [
       "<div>\n",
       "<style scoped>\n",
       "    .dataframe tbody tr th:only-of-type {\n",
       "        vertical-align: middle;\n",
       "    }\n",
       "\n",
       "    .dataframe tbody tr th {\n",
       "        vertical-align: top;\n",
       "    }\n",
       "\n",
       "    .dataframe thead th {\n",
       "        text-align: right;\n",
       "    }\n",
       "</style>\n",
       "<table border=\"1\" class=\"dataframe\">\n",
       "  <thead>\n",
       "    <tr style=\"text-align: right;\">\n",
       "      <th></th>\n",
       "      <th>statistical measures</th>\n",
       "    </tr>\n",
       "  </thead>\n",
       "  <tbody>\n",
       "    <tr>\n",
       "      <th>AIC</th>\n",
       "      <td>3557.472569</td>\n",
       "    </tr>\n",
       "    <tr>\n",
       "      <th>BIC</th>\n",
       "      <td>3574.092004</td>\n",
       "    </tr>\n",
       "    <tr>\n",
       "      <th>DIC</th>\n",
       "      <td>-26481.763696</td>\n",
       "    </tr>\n",
       "    <tr>\n",
       "      <th>PDIC</th>\n",
       "      <td>-29849.684618</td>\n",
       "    </tr>\n",
       "    <tr>\n",
       "      <th>log(Z)</th>\n",
       "      <td>-727.164426</td>\n",
       "    </tr>\n",
       "  </tbody>\n",
       "</table>\n",
       "</div>"
      ],
      "text/plain": [
       "        statistical measures\n",
       "AIC              3557.472569\n",
       "BIC              3574.092004\n",
       "DIC            -26481.763696\n",
       "PDIC           -29849.684618\n",
       "log(Z)           -727.164426"
      ]
     },
     "metadata": {},
     "output_type": "display_data"
    }
   ],
   "source": [
    "bayes.sample(quiet=False);"
   ]
  },
  {
   "cell_type": "code",
   "execution_count": 73,
   "id": "2f58eeed-c2d6-4c7c-b130-1ae631f2edaf",
   "metadata": {},
   "outputs": [
    {
     "data": {
      "application/vnd.jupyter.widget-view+json": {
       "model_id": "c91fd00c770443bdbd0b21ad1da58622",
       "version_major": 2,
       "version_minor": 0
      },
      "text/plain": [
       "Canvas(toolbar=Toolbar(toolitems=[('Home', 'Reset original view', 'home', 'home'), ('Back', 'Back to previous …"
      ]
     },
     "metadata": {},
     "output_type": "display_data"
    }
   ],
   "source": [
    "#pa.K = 1E15\n",
    "bayes.restore_median_fit()\n",
    "display_spectrum_model_counts(bayes);"
   ]
  },
  {
   "cell_type": "code",
   "execution_count": 74,
   "id": "f224435e-52b1-40bf-9f14-f39a240cf364",
   "metadata": {},
   "outputs": [],
   "source": [
    "pa_result = bayes.results"
   ]
  },
  {
   "cell_type": "code",
   "execution_count": 75,
   "id": "83859d60-19e1-4d28-a10b-24748f60bd78",
   "metadata": {},
   "outputs": [
    {
     "data": {
      "application/vnd.jupyter.widget-view+json": {
       "model_id": "a90a6e9d370e4483aa939ca2e765119d",
       "version_major": 2,
       "version_minor": 0
      },
      "text/plain": [
       "Canvas(toolbar=Toolbar(toolitems=[('Home', 'Reset original view', 'home', 'home'), ('Back', 'Back to previous …"
      ]
     },
     "metadata": {},
     "output_type": "display_data"
    }
   ],
   "source": [
    "pa_result.corner_plot();"
   ]
  },
  {
   "cell_type": "markdown",
   "id": "6f1bbe2c-00a6-4b19-9b50-8598f56e9444",
   "metadata": {
    "tags": []
   },
   "source": [
    "## old school synchrotron "
   ]
  },
  {
   "cell_type": "code",
   "execution_count": 76,
   "id": "11856644-5f9c-4634-8963-79b6ecfa8e46",
   "metadata": {
    "tags": []
   },
   "outputs": [
    {
     "name": "stdout",
     "output_type": "stream",
     "text": [
      "[\u001b[32mINFO    \u001b[0m]\u001b[32m sampler set to multinest\u001b[0m\n",
      "  analysing data from chains/fit-.txt\n",
      "Maximum a posteriori probability (MAP) point:\n",
      "\n"
     ]
    },
    {
     "data": {
      "text/html": [
       "<div>\n",
       "<style scoped>\n",
       "    .dataframe tbody tr th:only-of-type {\n",
       "        vertical-align: middle;\n",
       "    }\n",
       "\n",
       "    .dataframe tbody tr th {\n",
       "        vertical-align: top;\n",
       "    }\n",
       "\n",
       "    .dataframe thead th {\n",
       "        text-align: right;\n",
       "    }\n",
       "</style>\n",
       "<table border=\"1\" class=\"dataframe\">\n",
       "  <thead>\n",
       "    <tr style=\"text-align: right;\">\n",
       "      <th></th>\n",
       "      <th>result</th>\n",
       "      <th>unit</th>\n",
       "    </tr>\n",
       "    <tr>\n",
       "      <th>parameter</th>\n",
       "      <th></th>\n",
       "      <th></th>\n",
       "    </tr>\n",
       "  </thead>\n",
       "  <tbody>\n",
       "    <tr>\n",
       "      <th>ss.spectrum.main.SlowCoolingSynchrotron.K</th>\n",
       "      <td>(8 -6 +4) x 10^12</td>\n",
       "      <td>1 / (cm2 keV s)</td>\n",
       "    </tr>\n",
       "    <tr>\n",
       "      <th>ss.spectrum.main.SlowCoolingSynchrotron.B</th>\n",
       "      <td>(9.8 +/- 0.5) x 10^2</td>\n",
       "      <td>G</td>\n",
       "    </tr>\n",
       "    <tr>\n",
       "      <th>ss.spectrum.main.SlowCoolingSynchrotron.index</th>\n",
       "      <td>3.80 +/- 0.11</td>\n",
       "      <td></td>\n",
       "    </tr>\n",
       "  </tbody>\n",
       "</table>\n",
       "</div>"
      ],
      "text/plain": [
       "                                                             result  \\\n",
       "parameter                                                             \n",
       "ss.spectrum.main.SlowCoolingSynchrotron.K         (8 -6 +4) x 10^12   \n",
       "ss.spectrum.main.SlowCoolingSynchrotron.B      (9.8 +/- 0.5) x 10^2   \n",
       "ss.spectrum.main.SlowCoolingSynchrotron.index         3.80 +/- 0.11   \n",
       "\n",
       "                                                          unit  \n",
       "parameter                                                       \n",
       "ss.spectrum.main.SlowCoolingSynchrotron.K      1 / (cm2 keV s)  \n",
       "ss.spectrum.main.SlowCoolingSynchrotron.B                    G  \n",
       "ss.spectrum.main.SlowCoolingSynchrotron.index                   "
      ]
     },
     "metadata": {},
     "output_type": "display_data"
    },
    {
     "name": "stdout",
     "output_type": "stream",
     "text": [
      "\n",
      "Values of -log(posterior) at the minimum:\n",
      "\n"
     ]
    },
    {
     "data": {
      "text/html": [
       "<div>\n",
       "<style scoped>\n",
       "    .dataframe tbody tr th:only-of-type {\n",
       "        vertical-align: middle;\n",
       "    }\n",
       "\n",
       "    .dataframe tbody tr th {\n",
       "        vertical-align: top;\n",
       "    }\n",
       "\n",
       "    .dataframe thead th {\n",
       "        text-align: right;\n",
       "    }\n",
       "</style>\n",
       "<table border=\"1\" class=\"dataframe\">\n",
       "  <thead>\n",
       "    <tr style=\"text-align: right;\">\n",
       "      <th></th>\n",
       "      <th>-log(posterior)</th>\n",
       "    </tr>\n",
       "  </thead>\n",
       "  <tbody>\n",
       "    <tr>\n",
       "      <th>b1</th>\n",
       "      <td>-337.037407</td>\n",
       "    </tr>\n",
       "    <tr>\n",
       "      <th>lle</th>\n",
       "      <td>-19.258245</td>\n",
       "    </tr>\n",
       "    <tr>\n",
       "      <th>n6</th>\n",
       "      <td>-447.399405</td>\n",
       "    </tr>\n",
       "    <tr>\n",
       "      <th>n7</th>\n",
       "      <td>-405.371925</td>\n",
       "    </tr>\n",
       "    <tr>\n",
       "      <th>n9</th>\n",
       "      <td>-440.683727</td>\n",
       "    </tr>\n",
       "    <tr>\n",
       "      <th>total</th>\n",
       "      <td>-1649.750709</td>\n",
       "    </tr>\n",
       "  </tbody>\n",
       "</table>\n",
       "</div>"
      ],
      "text/plain": [
       "       -log(posterior)\n",
       "b1         -337.037407\n",
       "lle         -19.258245\n",
       "n6         -447.399405\n",
       "n7         -405.371925\n",
       "n9         -440.683727\n",
       "total     -1649.750709"
      ]
     },
     "metadata": {},
     "output_type": "display_data"
    },
    {
     "name": "stdout",
     "output_type": "stream",
     "text": [
      "\n",
      "Values of statistical measures:\n",
      "\n"
     ]
    },
    {
     "data": {
      "text/html": [
       "<div>\n",
       "<style scoped>\n",
       "    .dataframe tbody tr th:only-of-type {\n",
       "        vertical-align: middle;\n",
       "    }\n",
       "\n",
       "    .dataframe tbody tr th {\n",
       "        vertical-align: top;\n",
       "    }\n",
       "\n",
       "    .dataframe thead th {\n",
       "        text-align: right;\n",
       "    }\n",
       "</style>\n",
       "<table border=\"1\" class=\"dataframe\">\n",
       "  <thead>\n",
       "    <tr style=\"text-align: right;\">\n",
       "      <th></th>\n",
       "      <th>statistical measures</th>\n",
       "    </tr>\n",
       "  </thead>\n",
       "  <tbody>\n",
       "    <tr>\n",
       "      <th>AIC</th>\n",
       "      <td>3305.551732</td>\n",
       "    </tr>\n",
       "    <tr>\n",
       "      <th>BIC</th>\n",
       "      <td>3318.029020</td>\n",
       "    </tr>\n",
       "    <tr>\n",
       "      <th>DIC</th>\n",
       "      <td>135.603653</td>\n",
       "    </tr>\n",
       "    <tr>\n",
       "      <th>PDIC</th>\n",
       "      <td>-3040.879211</td>\n",
       "    </tr>\n",
       "    <tr>\n",
       "      <th>log(Z)</th>\n",
       "      <td>-688.079088</td>\n",
       "    </tr>\n",
       "  </tbody>\n",
       "</table>\n",
       "</div>"
      ],
      "text/plain": [
       "        statistical measures\n",
       "AIC              3305.551732\n",
       "BIC              3318.029020\n",
       "DIC               135.603653\n",
       "PDIC            -3040.879211\n",
       "log(Z)           -688.079088"
      ]
     },
     "metadata": {},
     "output_type": "display_data"
    }
   ],
   "source": [
    "bayes = BayesianAnalysis(model_ss, datalist);\n",
    "\n",
    "bayes.set_sampler(\"multinest\", share_spectrum=True)\n",
    "\n",
    "bayes.sampler.setup(resume=False, n_live_points=700)\n",
    "\n",
    "bayes.sample(quiet=False);"
   ]
  },
  {
   "cell_type": "code",
   "execution_count": 77,
   "id": "4ffced8d-8ae9-4ed5-93e9-d6b6b572401b",
   "metadata": {},
   "outputs": [
    {
     "data": {
      "application/vnd.jupyter.widget-view+json": {
       "model_id": "f520055782b14d42b3a7738ca25d4175",
       "version_major": 2,
       "version_minor": 0
      },
      "text/plain": [
       "Canvas(toolbar=Toolbar(toolitems=[('Home', 'Reset original view', 'home', 'home'), ('Back', 'Back to previous …"
      ]
     },
     "metadata": {},
     "output_type": "display_data"
    }
   ],
   "source": [
    "#pa.K = 1E15\n",
    "bayes.restore_median_fit()\n",
    "display_spectrum_model_counts(bayes);"
   ]
  },
  {
   "cell_type": "code",
   "execution_count": 78,
   "id": "a52f62f8-b8ed-422a-84b6-e8a0a34df77d",
   "metadata": {},
   "outputs": [],
   "source": [
    "ss_result = bayes.results"
   ]
  },
  {
   "cell_type": "code",
   "execution_count": 79,
   "id": "3c40541d-5616-4b9d-b03a-f991b0e81425",
   "metadata": {},
   "outputs": [
    {
     "data": {
      "application/vnd.jupyter.widget-view+json": {
       "model_id": "20f2762e2f024e6bbf956c4c574419bf",
       "version_major": 2,
       "version_minor": 0
      },
      "text/plain": [
       "Canvas(toolbar=Toolbar(toolitems=[('Home', 'Reset original view', 'home', 'home'), ('Back', 'Back to previous …"
      ]
     },
     "metadata": {},
     "output_type": "display_data"
    }
   ],
   "source": [
    "ss_result.corner_plot();"
   ]
  },
  {
   "cell_type": "markdown",
   "id": "139c692e-ab24-491f-99d3-9568fb1e4185",
   "metadata": {},
   "source": [
    "## time-dependent synchrotron model"
   ]
  },
  {
   "cell_type": "code",
   "execution_count": 80,
   "id": "79085c95-8364-47b3-8718-40b2fc57c5e3",
   "metadata": {},
   "outputs": [
    {
     "name": "stdout",
     "output_type": "stream",
     "text": [
      "[\u001b[32mINFO    \u001b[0m]\u001b[32m sampler set to multinest\u001b[0m\n",
      "  analysing data from chains/fit-.txt\n",
      "Maximum a posteriori probability (MAP) point:\n",
      "\n"
     ]
    },
    {
     "data": {
      "text/html": [
       "<div>\n",
       "<style scoped>\n",
       "    .dataframe tbody tr th:only-of-type {\n",
       "        vertical-align: middle;\n",
       "    }\n",
       "\n",
       "    .dataframe tbody tr th {\n",
       "        vertical-align: top;\n",
       "    }\n",
       "\n",
       "    .dataframe thead th {\n",
       "        text-align: right;\n",
       "    }\n",
       "</style>\n",
       "<table border=\"1\" class=\"dataframe\">\n",
       "  <thead>\n",
       "    <tr style=\"text-align: right;\">\n",
       "      <th></th>\n",
       "      <th>result</th>\n",
       "      <th>unit</th>\n",
       "    </tr>\n",
       "    <tr>\n",
       "      <th>parameter</th>\n",
       "      <th></th>\n",
       "      <th></th>\n",
       "    </tr>\n",
       "  </thead>\n",
       "  <tbody>\n",
       "    <tr>\n",
       "      <th>sn.spectrum.main.SynchrotronNumerical.K</th>\n",
       "      <td>(1.28 -0.14 +0.23) x 10^-5</td>\n",
       "      <td>1 / (cm2 G keV s)</td>\n",
       "    </tr>\n",
       "    <tr>\n",
       "      <th>sn.spectrum.main.SynchrotronNumerical.B</th>\n",
       "      <td>(1.074 -0.033 +0.04) x 10^3</td>\n",
       "      <td>G</td>\n",
       "    </tr>\n",
       "    <tr>\n",
       "      <th>sn.spectrum.main.SynchrotronNumerical.index</th>\n",
       "      <td>3.65 -0.08 +0.06</td>\n",
       "      <td></td>\n",
       "    </tr>\n",
       "    <tr>\n",
       "      <th>sn.spectrum.main.SynchrotronNumerical.gamma_cool</th>\n",
       "      <td>(1.6 -1.1 +2.5) x 10^7</td>\n",
       "      <td></td>\n",
       "    </tr>\n",
       "  </tbody>\n",
       "</table>\n",
       "</div>"
      ],
      "text/plain": [
       "                                                                       result  \\\n",
       "parameter                                                                       \n",
       "sn.spectrum.main.SynchrotronNumerical.K            (1.28 -0.14 +0.23) x 10^-5   \n",
       "sn.spectrum.main.SynchrotronNumerical.B           (1.074 -0.033 +0.04) x 10^3   \n",
       "sn.spectrum.main.SynchrotronNumerical.index                  3.65 -0.08 +0.06   \n",
       "sn.spectrum.main.SynchrotronNumerical.gamma_cool       (1.6 -1.1 +2.5) x 10^7   \n",
       "\n",
       "                                                               unit  \n",
       "parameter                                                            \n",
       "sn.spectrum.main.SynchrotronNumerical.K           1 / (cm2 G keV s)  \n",
       "sn.spectrum.main.SynchrotronNumerical.B                           G  \n",
       "sn.spectrum.main.SynchrotronNumerical.index                          \n",
       "sn.spectrum.main.SynchrotronNumerical.gamma_cool                     "
      ]
     },
     "metadata": {},
     "output_type": "display_data"
    },
    {
     "name": "stdout",
     "output_type": "stream",
     "text": [
      "\n",
      "Values of -log(posterior) at the minimum:\n",
      "\n"
     ]
    },
    {
     "data": {
      "text/html": [
       "<div>\n",
       "<style scoped>\n",
       "    .dataframe tbody tr th:only-of-type {\n",
       "        vertical-align: middle;\n",
       "    }\n",
       "\n",
       "    .dataframe tbody tr th {\n",
       "        vertical-align: top;\n",
       "    }\n",
       "\n",
       "    .dataframe thead th {\n",
       "        text-align: right;\n",
       "    }\n",
       "</style>\n",
       "<table border=\"1\" class=\"dataframe\">\n",
       "  <thead>\n",
       "    <tr style=\"text-align: right;\">\n",
       "      <th></th>\n",
       "      <th>-log(posterior)</th>\n",
       "    </tr>\n",
       "  </thead>\n",
       "  <tbody>\n",
       "    <tr>\n",
       "      <th>b1</th>\n",
       "      <td>-326.290212</td>\n",
       "    </tr>\n",
       "    <tr>\n",
       "      <th>lle</th>\n",
       "      <td>-8.372630</td>\n",
       "    </tr>\n",
       "    <tr>\n",
       "      <th>n6</th>\n",
       "      <td>-436.675227</td>\n",
       "    </tr>\n",
       "    <tr>\n",
       "      <th>n7</th>\n",
       "      <td>-394.513382</td>\n",
       "    </tr>\n",
       "    <tr>\n",
       "      <th>n9</th>\n",
       "      <td>-429.935448</td>\n",
       "    </tr>\n",
       "    <tr>\n",
       "      <th>total</th>\n",
       "      <td>-1595.786899</td>\n",
       "    </tr>\n",
       "  </tbody>\n",
       "</table>\n",
       "</div>"
      ],
      "text/plain": [
       "       -log(posterior)\n",
       "b1         -326.290212\n",
       "lle          -8.372630\n",
       "n6         -436.675227\n",
       "n7         -394.513382\n",
       "n9         -429.935448\n",
       "total     -1595.786899"
      ]
     },
     "metadata": {},
     "output_type": "display_data"
    },
    {
     "name": "stdout",
     "output_type": "stream",
     "text": [
      "\n",
      "Values of statistical measures:\n",
      "\n"
     ]
    },
    {
     "data": {
      "text/html": [
       "<div>\n",
       "<style scoped>\n",
       "    .dataframe tbody tr th:only-of-type {\n",
       "        vertical-align: middle;\n",
       "    }\n",
       "\n",
       "    .dataframe tbody tr th {\n",
       "        vertical-align: top;\n",
       "    }\n",
       "\n",
       "    .dataframe thead th {\n",
       "        text-align: right;\n",
       "    }\n",
       "</style>\n",
       "<table border=\"1\" class=\"dataframe\">\n",
       "  <thead>\n",
       "    <tr style=\"text-align: right;\">\n",
       "      <th></th>\n",
       "      <th>statistical measures</th>\n",
       "    </tr>\n",
       "  </thead>\n",
       "  <tbody>\n",
       "    <tr>\n",
       "      <th>AIC</th>\n",
       "      <td>3199.657831</td>\n",
       "    </tr>\n",
       "    <tr>\n",
       "      <th>BIC</th>\n",
       "      <td>3216.277266</td>\n",
       "    </tr>\n",
       "    <tr>\n",
       "      <th>DIC</th>\n",
       "      <td>2669.053800</td>\n",
       "    </tr>\n",
       "    <tr>\n",
       "      <th>PDIC</th>\n",
       "      <td>-484.046327</td>\n",
       "    </tr>\n",
       "    <tr>\n",
       "      <th>log(Z)</th>\n",
       "      <td>-687.943587</td>\n",
       "    </tr>\n",
       "  </tbody>\n",
       "</table>\n",
       "</div>"
      ],
      "text/plain": [
       "        statistical measures\n",
       "AIC              3199.657831\n",
       "BIC              3216.277266\n",
       "DIC              2669.053800\n",
       "PDIC             -484.046327\n",
       "log(Z)           -687.943587"
      ]
     },
     "metadata": {},
     "output_type": "display_data"
    }
   ],
   "source": [
    "bayes = BayesianAnalysis(model_sn, datalist);\n",
    "\n",
    "bayes.set_sampler(\"multinest\", share_spectrum=True)\n",
    "\n",
    "bayes.sampler.setup(resume=False, n_live_points=700)\n",
    "\n",
    "bayes.sample(quiet=False);"
   ]
  },
  {
   "cell_type": "code",
   "execution_count": 81,
   "id": "de9a4ca3-8f10-49b2-8c4b-58de46e399e2",
   "metadata": {},
   "outputs": [
    {
     "data": {
      "application/vnd.jupyter.widget-view+json": {
       "model_id": "72f7bc41c3c64c3d84e1311971e0a574",
       "version_major": 2,
       "version_minor": 0
      },
      "text/plain": [
       "Canvas(toolbar=Toolbar(toolitems=[('Home', 'Reset original view', 'home', 'home'), ('Back', 'Back to previous …"
      ]
     },
     "metadata": {},
     "output_type": "display_data"
    }
   ],
   "source": [
    "#pa.K = 1E15\n",
    "bayes.restore_median_fit()\n",
    "display_spectrum_model_counts(bayes);"
   ]
  },
  {
   "cell_type": "code",
   "execution_count": 82,
   "id": "4c651fb1-fd81-45ce-93b0-6e3064f081a2",
   "metadata": {},
   "outputs": [
    {
     "data": {
      "application/vnd.jupyter.widget-view+json": {
       "model_id": "7d86fb6e34e14614b142245fd2de0073",
       "version_major": 2,
       "version_minor": 0
      },
      "text/plain": [
       "Canvas(toolbar=Toolbar(toolitems=[('Home', 'Reset original view', 'home', 'home'), ('Back', 'Back to previous …"
      ]
     },
     "metadata": {},
     "output_type": "display_data"
    },
    {
     "name": "stderr",
     "output_type": "stream",
     "text": [
      "WARNING:root:Too few points to create valid contours\n",
      "WARNING:root:Too few points to create valid contours\n",
      "WARNING:root:Too few points to create valid contours\n",
      "WARNING:root:Too few points to create valid contours\n",
      "WARNING:root:Too few points to create valid contours\n",
      "WARNING:root:Too few points to create valid contours\n"
     ]
    }
   ],
   "source": [
    "sn_result = bayes.results\n",
    "\n",
    "sn_result.corner_plot();"
   ]
  },
  {
   "cell_type": "markdown",
   "id": "8622fb0c-b37c-4416-abf5-2819388155d1",
   "metadata": {},
   "source": [
    "# examine fits\n",
    "\n",
    "\n",
    "Lets plot the model in $\\nu F_{\\nu}$ space and compare the fits"
   ]
  },
  {
   "cell_type": "code",
   "execution_count": 83,
   "id": "4306f588-450a-4819-ab03-92a23dc36396",
   "metadata": {},
   "outputs": [
    {
     "data": {
      "application/vnd.jupyter.widget-view+json": {
       "model_id": "c0ec66c483664e1791e8cc354a6bb8bc",
       "version_major": 2,
       "version_minor": 0
      },
      "text/plain": [
       "processing MLE analyses: 0it [00:00, ?it/s]"
      ]
     },
     "metadata": {},
     "output_type": "display_data"
    },
    {
     "data": {
      "application/vnd.jupyter.widget-view+json": {
       "model_id": "d6f50a22a22d4b5f976b7ca38b1e6c22",
       "version_major": 2,
       "version_minor": 0
      },
      "text/plain": [
       "processing Bayesian analyses:   0%|          | 0/3 [00:00<?, ?it/s]"
      ]
     },
     "metadata": {},
     "output_type": "display_data"
    },
    {
     "data": {
      "application/vnd.jupyter.widget-view+json": {
       "model_id": "df7b94e4970341aa873cbb5deab68cd6",
       "version_major": 2,
       "version_minor": 0
      },
      "text/plain": [
       "Propagating errors:   0%|          | 0/100 [00:00<?, ?it/s]"
      ]
     },
     "metadata": {},
     "output_type": "display_data"
    },
    {
     "data": {
      "application/vnd.jupyter.widget-view+json": {
       "model_id": "f8e71431fc164451a07cf6b7ef520871",
       "version_major": 2,
       "version_minor": 0
      },
      "text/plain": [
       "Propagating errors:   0%|          | 0/100 [00:00<?, ?it/s]"
      ]
     },
     "metadata": {},
     "output_type": "display_data"
    },
    {
     "data": {
      "application/vnd.jupyter.widget-view+json": {
       "model_id": "a190dac34d234e6a82b168bbe6730a99",
       "version_major": 2,
       "version_minor": 0
      },
      "text/plain": [
       "Propagating errors:   0%|          | 0/100 [00:00<?, ?it/s]"
      ]
     },
     "metadata": {},
     "output_type": "display_data"
    },
    {
     "data": {
      "application/vnd.jupyter.widget-view+json": {
       "model_id": "25f307249f02498299adb1c3966075ed",
       "version_major": 2,
       "version_minor": 0
      },
      "text/plain": [
       "Canvas(toolbar=Toolbar(toolitems=[('Home', 'Reset original view', 'home', 'home'), ('Back', 'Back to previous …"
      ]
     },
     "metadata": {},
     "output_type": "display_data"
    }
   ],
   "source": [
    "plot_spectra(pa_result, ss_result, sn_result, flux_unit=\"erg2/(cm2 s keV)\");"
   ]
  },
  {
   "cell_type": "code",
   "execution_count": null,
   "id": "81b76702-925e-4171-b496-b0739a6dcdd5",
   "metadata": {},
   "outputs": [],
   "source": []
  }
 ],
 "metadata": {
  "kernelspec": {
   "display_name": "Python 3",
   "language": "python",
   "name": "python3"
  },
  "language_info": {
   "codemirror_mode": {
    "name": "ipython",
    "version": 3
   },
   "file_extension": ".py",
   "mimetype": "text/x-python",
   "name": "python",
   "nbconvert_exporter": "python",
   "pygments_lexer": "ipython3",
   "version": "3.9.4"
  }
 },
 "nbformat": 4,
 "nbformat_minor": 5
}
