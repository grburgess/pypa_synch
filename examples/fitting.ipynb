{
 "cells": [
  {
   "cell_type": "code",
   "execution_count": 33,
   "id": "6dff0ea2-f7ec-404f-8565-68f825faa66d",
   "metadata": {},
   "outputs": [],
   "source": [
    "import matplotlib.pyplot as plt\n",
    "\n",
    "import numpy as np\n",
    "\n",
    "\n",
    "plt.style.use(\"mike\")\n",
    "\n",
    "\n",
    "from threeML import *\n",
    "\n",
    "from pypa_synch import PitchAngleSynchrotron, FastCoolingSynchrotron, SlowCoolingSynchrotron\n",
    "from pynchrotron import SynchrotronNumerical \n",
    "\n",
    "\n",
    "import warnings\n",
    "\n",
    "warnings.simplefilter(\"ignore\")\n",
    "\n",
    "\n",
    "\n",
    "%matplotlib widget\n",
    "\n",
    "\n",
    "\n",
    "silence_warnings()"
   ]
  },
  {
   "cell_type": "markdown",
   "id": "e96177d3-78ba-4ac5-8b80-abe0bcdedb7a",
   "metadata": {
    "heading_collapsed": "true",
    "tags": []
   },
   "source": [
    "# Setup data\n",
    "\n",
    "We will look at GRB 141028A which is in the sample \n"
   ]
  },
  {
   "cell_type": "code",
   "execution_count": 2,
   "id": "aa8a3a94-3d6b-4108-a936-1db6982d6831",
   "metadata": {},
   "outputs": [],
   "source": [
    "gbm_cat = FermiGBMBurstCatalog()"
   ]
  },
  {
   "cell_type": "code",
   "execution_count": 3,
   "id": "18971b3e-f20b-407c-b35a-9ecec265e3a2",
   "metadata": {},
   "outputs": [
    {
     "data": {
      "text/html": [
       "<i>Table length=1</i>\n",
       "<table id=\"table4999423360\" class=\"table-striped table-bordered table-condensed\">\n",
       "<thead><tr><th>name</th><th>ra</th><th>dec</th><th>trigger_time</th><th>t90</th></tr></thead>\n",
       "<thead><tr><th>object</th><th>float64</th><th>float64</th><th>float64</th><th>float64</th></tr></thead>\n",
       "<tr><td>GRB141028455</td><td>322.601</td><td>-0.231</td><td>56958.4547081</td><td>31.489</td></tr>\n",
       "</table>"
      ],
      "text/plain": [
       "<Table length=1>\n",
       "    name        ra     dec    trigger_time   t90  \n",
       "   object    float64 float64    float64    float64\n",
       "------------ ------- ------- ------------- -------\n",
       "GRB141028455 322.601  -0.231 56958.4547081  31.489"
      ]
     },
     "execution_count": 3,
     "metadata": {},
     "output_type": "execute_result"
    }
   ],
   "source": [
    "gbm_cat.query_sources(\"GRB141028455\")"
   ]
  },
  {
   "cell_type": "code",
   "execution_count": 4,
   "id": "4a140b79-774b-4752-9894-ab5f143cfc8a",
   "metadata": {},
   "outputs": [],
   "source": [
    "dinfo = gbm_cat.get_detector_information()[\"GRB141028455\"]\n",
    "dets = dinfo[\"detectors\"]\n"
   ]
  },
  {
   "cell_type": "code",
   "execution_count": 5,
   "id": "4183167c-0cd2-44bf-af19-754b5888216b",
   "metadata": {},
   "outputs": [
    {
     "data": {
      "application/vnd.jupyter.widget-view+json": {
       "model_id": "0494dc31a1fa4766a090330e1997b619",
       "version_major": 2,
       "version_minor": 0
      },
      "text/plain": [
       "Downloading glg_cspec_n6_bn141028455_v00.pha:   0%|          | 0.00/802k [00:00<?, ?B/s]"
      ]
     },
     "metadata": {},
     "output_type": "display_data"
    },
    {
     "data": {
      "application/vnd.jupyter.widget-view+json": {
       "model_id": "960d622b04b74190b0372cd4ca00d419",
       "version_major": 2,
       "version_minor": 0
      },
      "text/plain": [
       "Downloading glg_cspec_n6_bn141028455_v01.rsp2:   0%|          | 0.00/1.37M [00:00<?, ?B/s]"
      ]
     },
     "metadata": {},
     "output_type": "display_data"
    },
    {
     "data": {
      "application/vnd.jupyter.widget-view+json": {
       "model_id": "196ff1511e7e46b7953bb76800484fe3",
       "version_major": 2,
       "version_minor": 0
      },
      "text/plain": [
       "Downloading glg_tte_n6_bn141028455_v00.fit:   0%|          | 0.00/6.06M [00:00<?, ?B/s]"
      ]
     },
     "metadata": {},
     "output_type": "display_data"
    },
    {
     "data": {
      "application/vnd.jupyter.widget-view+json": {
       "model_id": "0de68f0cdb884165a9667a5d73220a99",
       "version_major": 2,
       "version_minor": 0
      },
      "text/plain": [
       "Downloading glg_cspec_n7_bn141028455_v00.pha:   0%|          | 0.00/802k [00:00<?, ?B/s]"
      ]
     },
     "metadata": {},
     "output_type": "display_data"
    },
    {
     "data": {
      "application/vnd.jupyter.widget-view+json": {
       "model_id": "b4074501b676495fb1990f8610301db6",
       "version_major": 2,
       "version_minor": 0
      },
      "text/plain": [
       "Downloading glg_cspec_n7_bn141028455_v01.rsp2:   0%|          | 0.00/1.37M [00:00<?, ?B/s]"
      ]
     },
     "metadata": {},
     "output_type": "display_data"
    },
    {
     "data": {
      "application/vnd.jupyter.widget-view+json": {
       "model_id": "31b01f7d787349e29c9d27c1893c2d72",
       "version_major": 2,
       "version_minor": 0
      },
      "text/plain": [
       "Downloading glg_tte_n7_bn141028455_v00.fit:   0%|          | 0.00/6.78M [00:00<?, ?B/s]"
      ]
     },
     "metadata": {},
     "output_type": "display_data"
    },
    {
     "data": {
      "application/vnd.jupyter.widget-view+json": {
       "model_id": "5e9d7603a6824e1e8802bce526a8aeea",
       "version_major": 2,
       "version_minor": 0
      },
      "text/plain": [
       "Downloading glg_cspec_n9_bn141028455_v00.pha:   0%|          | 0.00/802k [00:00<?, ?B/s]"
      ]
     },
     "metadata": {},
     "output_type": "display_data"
    },
    {
     "data": {
      "application/vnd.jupyter.widget-view+json": {
       "model_id": "b3ed22b46bee4d17a0578e0636617ad4",
       "version_major": 2,
       "version_minor": 0
      },
      "text/plain": [
       "Downloading glg_cspec_n9_bn141028455_v01.rsp2:   0%|          | 0.00/1.37M [00:00<?, ?B/s]"
      ]
     },
     "metadata": {},
     "output_type": "display_data"
    },
    {
     "data": {
      "application/vnd.jupyter.widget-view+json": {
       "model_id": "502d122707cc49a4b02ce2ee345c860c",
       "version_major": 2,
       "version_minor": 0
      },
      "text/plain": [
       "Downloading glg_tte_n9_bn141028455_v00.fit:   0%|          | 0.00/6.66M [00:00<?, ?B/s]"
      ]
     },
     "metadata": {},
     "output_type": "display_data"
    },
    {
     "data": {
      "application/vnd.jupyter.widget-view+json": {
       "model_id": "4577ff716a0b4c28944968ad06a32f30",
       "version_major": 2,
       "version_minor": 0
      },
      "text/plain": [
       "Downloading glg_cspec_b1_bn141028455_v00.pha:   0%|          | 0.00/802k [00:00<?, ?B/s]"
      ]
     },
     "metadata": {},
     "output_type": "display_data"
    },
    {
     "data": {
      "application/vnd.jupyter.widget-view+json": {
       "model_id": "5a198814ebc2451fbb4ddadda0445098",
       "version_major": 2,
       "version_minor": 0
      },
      "text/plain": [
       "Downloading glg_cspec_b1_bn141028455_v01.rsp2:   0%|          | 0.00/1.37M [00:00<?, ?B/s]"
      ]
     },
     "metadata": {},
     "output_type": "display_data"
    },
    {
     "data": {
      "application/vnd.jupyter.widget-view+json": {
       "model_id": "dde550d564874ade9be250ab8ac9a6de",
       "version_major": 2,
       "version_minor": 0
      },
      "text/plain": [
       "Downloading glg_tte_b1_bn141028455_v00.fit:   0%|          | 0.00/8.43M [00:00<?, ?B/s]"
      ]
     },
     "metadata": {},
     "output_type": "display_data"
    }
   ],
   "source": [
    "gbm_dl = download_GBM_trigger_data(\"bn141028455\", detectors=dets)"
   ]
  },
  {
   "cell_type": "code",
   "execution_count": 6,
   "id": "96b40436-f6e5-4b2c-8c13-389d3eafc7b2",
   "metadata": {},
   "outputs": [
    {
     "data": {
      "application/vnd.jupyter.widget-view+json": {
       "model_id": "fc6e493f0e9e4566b15e0702c1f7554b",
       "version_major": 2,
       "version_minor": 0
      },
      "text/plain": [
       "Loading PHAII Spectra:   0%|          | 0/2835 [00:00<?, ?it/s]"
      ]
     },
     "metadata": {},
     "output_type": "display_data"
    },
    {
     "data": {
      "application/vnd.jupyter.widget-view+json": {
       "model_id": "0af1d4bfbf0f491688085c44e5bc0898",
       "version_major": 2,
       "version_minor": 0
      },
      "text/plain": [
       "Finding best polynomial Order:   0%|          | 0/5 [00:00<?, ?it/s]"
      ]
     },
     "metadata": {},
     "output_type": "display_data"
    },
    {
     "name": "stdout",
     "output_type": "stream",
     "text": [
      "[\u001b[32mINFO    \u001b[0m]\u001b[32m Auto-determined polynomial order: 1\u001b[0m\n"
     ]
    },
    {
     "data": {
      "application/vnd.jupyter.widget-view+json": {
       "model_id": "c34f6735c9924942b3b887a030ca640d",
       "version_major": 2,
       "version_minor": 0
      },
      "text/plain": [
       "Fitting GBM_NAI_06 background:   0%|          | 0/128 [00:00<?, ?it/s]"
      ]
     },
     "metadata": {},
     "output_type": "display_data"
    },
    {
     "name": "stdout",
     "output_type": "stream",
     "text": [
      "[\u001b[32mINFO    \u001b[0m]\u001b[32m None 1-order polynomial fit with the bayes method\u001b[0m\n",
      "[\u001b[32mINFO    \u001b[0m]\u001b[32m Saved fitted background to n6_bkg.h5\u001b[0m\n",
      "[\u001b[32mINFO    \u001b[0m]\u001b[32m Saved background to n6_bkg.h5\u001b[0m\n",
      "[\u001b[32mINFO    \u001b[0m]\u001b[32m Successfully restored fit from n6_bkg.h5\u001b[0m\n",
      "[\u001b[32mINFO    \u001b[0m]\u001b[32m Interval set to 10.0-12.0 for n6\u001b[0m\n",
      "[\u001b[32mINFO    \u001b[0m]\u001b[32m Auto-probed noise models:\u001b[0m\n",
      "[\u001b[32mINFO    \u001b[0m]\u001b[32m - observation: poisson\u001b[0m\n",
      "[\u001b[32mINFO    \u001b[0m]\u001b[32m - background: gaussian\u001b[0m\n",
      "[\u001b[32mINFO    \u001b[0m]\u001b[32m Range 9-900 translates to channels 3-123\u001b[0m\n",
      "[\u001b[32mINFO    \u001b[0m]\u001b[32m Now using 121 bins\u001b[0m\n"
     ]
    },
    {
     "data": {
      "application/vnd.jupyter.widget-view+json": {
       "model_id": "ee08f5182eea4f6db858152c8456dffd",
       "version_major": 2,
       "version_minor": 0
      },
      "text/plain": [
       "Loading PHAII Spectra:   0%|          | 0/2835 [00:00<?, ?it/s]"
      ]
     },
     "metadata": {},
     "output_type": "display_data"
    },
    {
     "data": {
      "application/vnd.jupyter.widget-view+json": {
       "model_id": "786d2fd6e2a94871aa43c4b8b4bf6314",
       "version_major": 2,
       "version_minor": 0
      },
      "text/plain": [
       "Finding best polynomial Order:   0%|          | 0/5 [00:00<?, ?it/s]"
      ]
     },
     "metadata": {},
     "output_type": "display_data"
    },
    {
     "name": "stdout",
     "output_type": "stream",
     "text": [
      "[\u001b[32mINFO    \u001b[0m]\u001b[32m Auto-determined polynomial order: 0\u001b[0m\n"
     ]
    },
    {
     "data": {
      "application/vnd.jupyter.widget-view+json": {
       "model_id": "3a743c66ec6f473e97dfbc5d2d01797f",
       "version_major": 2,
       "version_minor": 0
      },
      "text/plain": [
       "Fitting GBM_NAI_07 background:   0%|          | 0/128 [00:00<?, ?it/s]"
      ]
     },
     "metadata": {},
     "output_type": "display_data"
    },
    {
     "name": "stdout",
     "output_type": "stream",
     "text": [
      "[\u001b[32mINFO    \u001b[0m]\u001b[32m None 0-order polynomial fit with the bayes method\u001b[0m\n",
      "[\u001b[32mINFO    \u001b[0m]\u001b[32m Saved fitted background to n7_bkg.h5\u001b[0m\n",
      "[\u001b[32mINFO    \u001b[0m]\u001b[32m Saved background to n7_bkg.h5\u001b[0m\n",
      "[\u001b[32mINFO    \u001b[0m]\u001b[32m Successfully restored fit from n7_bkg.h5\u001b[0m\n",
      "[\u001b[32mINFO    \u001b[0m]\u001b[32m Interval set to 10.0-12.0 for n7\u001b[0m\n",
      "[\u001b[32mINFO    \u001b[0m]\u001b[32m Auto-probed noise models:\u001b[0m\n",
      "[\u001b[32mINFO    \u001b[0m]\u001b[32m - observation: poisson\u001b[0m\n",
      "[\u001b[32mINFO    \u001b[0m]\u001b[32m - background: gaussian\u001b[0m\n",
      "[\u001b[32mINFO    \u001b[0m]\u001b[32m Range 9-900 translates to channels 5-123\u001b[0m\n",
      "[\u001b[32mINFO    \u001b[0m]\u001b[32m Now using 119 bins\u001b[0m\n"
     ]
    },
    {
     "data": {
      "application/vnd.jupyter.widget-view+json": {
       "model_id": "6fccd02b9fde4e3d8f398b8b421a311a",
       "version_major": 2,
       "version_minor": 0
      },
      "text/plain": [
       "Loading PHAII Spectra:   0%|          | 0/2835 [00:00<?, ?it/s]"
      ]
     },
     "metadata": {},
     "output_type": "display_data"
    },
    {
     "data": {
      "application/vnd.jupyter.widget-view+json": {
       "model_id": "27980b4ebd92409e8c6b38d1d4b6c502",
       "version_major": 2,
       "version_minor": 0
      },
      "text/plain": [
       "Finding best polynomial Order:   0%|          | 0/5 [00:00<?, ?it/s]"
      ]
     },
     "metadata": {},
     "output_type": "display_data"
    },
    {
     "name": "stdout",
     "output_type": "stream",
     "text": [
      "[\u001b[32mINFO    \u001b[0m]\u001b[32m Auto-determined polynomial order: 1\u001b[0m\n"
     ]
    },
    {
     "data": {
      "application/vnd.jupyter.widget-view+json": {
       "model_id": "d48ca80159da4061936316d60a1eabfd",
       "version_major": 2,
       "version_minor": 0
      },
      "text/plain": [
       "Fitting GBM_NAI_09 background:   0%|          | 0/128 [00:00<?, ?it/s]"
      ]
     },
     "metadata": {},
     "output_type": "display_data"
    },
    {
     "name": "stdout",
     "output_type": "stream",
     "text": [
      "[\u001b[32mINFO    \u001b[0m]\u001b[32m None 1-order polynomial fit with the bayes method\u001b[0m\n",
      "[\u001b[32mINFO    \u001b[0m]\u001b[32m Saved fitted background to n9_bkg.h5\u001b[0m\n",
      "[\u001b[32mINFO    \u001b[0m]\u001b[32m Saved background to n9_bkg.h5\u001b[0m\n",
      "[\u001b[32mINFO    \u001b[0m]\u001b[32m Successfully restored fit from n9_bkg.h5\u001b[0m\n",
      "[\u001b[32mINFO    \u001b[0m]\u001b[32m Interval set to 10.0-12.0 for n9\u001b[0m\n",
      "[\u001b[32mINFO    \u001b[0m]\u001b[32m Auto-probed noise models:\u001b[0m\n",
      "[\u001b[32mINFO    \u001b[0m]\u001b[32m - observation: poisson\u001b[0m\n",
      "[\u001b[32mINFO    \u001b[0m]\u001b[32m - background: gaussian\u001b[0m\n",
      "[\u001b[32mINFO    \u001b[0m]\u001b[32m Range 9-900 translates to channels 5-124\u001b[0m\n",
      "[\u001b[32mINFO    \u001b[0m]\u001b[32m Now using 120 bins\u001b[0m\n"
     ]
    },
    {
     "data": {
      "application/vnd.jupyter.widget-view+json": {
       "model_id": "7a901bb0f23741a3acf6cd4201b98c39",
       "version_major": 2,
       "version_minor": 0
      },
      "text/plain": [
       "Loading PHAII Spectra:   0%|          | 0/2835 [00:00<?, ?it/s]"
      ]
     },
     "metadata": {},
     "output_type": "display_data"
    },
    {
     "data": {
      "application/vnd.jupyter.widget-view+json": {
       "model_id": "3eec4ea9b24f4471b086d7c4b6a8e8cd",
       "version_major": 2,
       "version_minor": 0
      },
      "text/plain": [
       "Finding best polynomial Order:   0%|          | 0/5 [00:00<?, ?it/s]"
      ]
     },
     "metadata": {},
     "output_type": "display_data"
    },
    {
     "name": "stdout",
     "output_type": "stream",
     "text": [
      "[\u001b[32mINFO    \u001b[0m]\u001b[32m Auto-determined polynomial order: 0\u001b[0m\n"
     ]
    },
    {
     "data": {
      "application/vnd.jupyter.widget-view+json": {
       "model_id": "336852259e944aaab1e3c988cce12e38",
       "version_major": 2,
       "version_minor": 0
      },
      "text/plain": [
       "Fitting GBM_BGO_01 background:   0%|          | 0/128 [00:00<?, ?it/s]"
      ]
     },
     "metadata": {},
     "output_type": "display_data"
    },
    {
     "name": "stdout",
     "output_type": "stream",
     "text": [
      "[\u001b[32mINFO    \u001b[0m]\u001b[32m None 0-order polynomial fit with the bayes method\u001b[0m\n",
      "[\u001b[32mINFO    \u001b[0m]\u001b[32m Saved fitted background to b1_bkg.h5\u001b[0m\n",
      "[\u001b[32mINFO    \u001b[0m]\u001b[32m Saved background to b1_bkg.h5\u001b[0m\n",
      "[\u001b[32mINFO    \u001b[0m]\u001b[32m Successfully restored fit from b1_bkg.h5\u001b[0m\n",
      "[\u001b[32mINFO    \u001b[0m]\u001b[32m Interval set to 10.0-12.0 for b1\u001b[0m\n",
      "[\u001b[32mINFO    \u001b[0m]\u001b[32m Auto-probed noise models:\u001b[0m\n",
      "[\u001b[32mINFO    \u001b[0m]\u001b[32m - observation: poisson\u001b[0m\n",
      "[\u001b[32mINFO    \u001b[0m]\u001b[32m - background: gaussian\u001b[0m\n",
      "[\u001b[32mINFO    \u001b[0m]\u001b[32m Range 250-30000 translates to channels 4-119\u001b[0m\n",
      "[\u001b[32mINFO    \u001b[0m]\u001b[32m Now using 116 bins\u001b[0m\n"
     ]
    }
   ],
   "source": [
    "fluence_plugins = []\n",
    "time_series = {}\n",
    "\n",
    "bkg_pre = -0.5\n",
    "bkg_post = 60.\n",
    "\n",
    "src_start = 10.\n",
    "src_stop = 12.\n",
    "\n",
    "\n",
    "background_interval = [f\"{float(bkg_pre - 20)}-{float(bkg_pre)}\", f\"{float(bkg_post)}-{float(bkg_post +50)}\"]\n",
    "source_interval = f\"{float(src_start)}-{float(src_stop)}\"\n",
    "\n",
    "\n",
    "\n",
    "for det in dets:\n",
    "\n",
    "    \n",
    "    ts_cspec = TimeSeriesBuilder.from_gbm_cspec_or_ctime(\n",
    "        det,\n",
    "        cspec_or_ctime_file=gbm_dl[det][\"cspec\"],\n",
    "        rsp_file=gbm_dl[det][\"rsp\"], verbose=False\n",
    "    )\n",
    "\n",
    "    ts_cspec.set_background_interval(*background_interval)\n",
    "    ts_cspec.save_background(f\"{det}_bkg.h5\", overwrite=True)\n",
    "\n",
    "    ts_tte = TimeSeriesBuilder.from_gbm_tte(\n",
    "        det,\n",
    "        tte_file=gbm_dl[det][\"tte\"],\n",
    "        rsp_file=gbm_dl[det][\"rsp\"],\n",
    "        restore_background=f\"{det}_bkg.h5\",\n",
    "        verbose=False\n",
    "    )\n",
    "    \n",
    "    time_series[det] = ts_tte\n",
    "\n",
    "    ts_tte.set_active_time_interval(source_interval)\n",
    "\n",
    "    ts_tte.view_lightcurve(bkg_pre, bkg_post)\n",
    "    \n",
    "    fluence_plugin = ts_tte.to_spectrumlike()\n",
    "    \n",
    "    if det.startswith(\"b\"):\n",
    "        \n",
    "        fluence_plugin.set_active_measurements(\"250-30000\")\n",
    "    \n",
    "    else:\n",
    "        \n",
    "        fluence_plugin.set_active_measurements(\"9-900\")\n",
    "    \n",
    "    fluence_plugin.rebin_on_background(1.)\n",
    "    \n",
    "    fluence_plugins.append(fluence_plugin)"
   ]
  },
  {
   "cell_type": "code",
   "execution_count": 7,
   "id": "c6b3370d-5e2e-4f9e-89e1-9d3ee27a8a31",
   "metadata": {},
   "outputs": [
    {
     "data": {
      "application/vnd.jupyter.widget-view+json": {
       "model_id": "1d2f3dc53ef444fa906c780308f3fede",
       "version_major": 2,
       "version_minor": 0
      },
      "text/plain": [
       "Downloading gll_cspec_bn141028455_v03.pha:   0%|          | 0.00/467k [00:00<?, ?B/s]"
      ]
     },
     "metadata": {},
     "output_type": "display_data"
    },
    {
     "data": {
      "application/vnd.jupyter.widget-view+json": {
       "model_id": "9f5fb79cdb454d58b09613882a6632a5",
       "version_major": 2,
       "version_minor": 0
      },
      "text/plain": [
       "Downloading gll_cspec_bn141028455_v03.rsp:   0%|          | 0.00/33.8k [00:00<?, ?B/s]"
      ]
     },
     "metadata": {},
     "output_type": "display_data"
    },
    {
     "data": {
      "application/vnd.jupyter.widget-view+json": {
       "model_id": "ef78f1b7a61440f1b25e21fc761c39ca",
       "version_major": 2,
       "version_minor": 0
      },
      "text/plain": [
       "Downloading gll_lle_bn141028455_v03.fit:   0%|          | 0.00/1.78M [00:00<?, ?B/s]"
      ]
     },
     "metadata": {},
     "output_type": "display_data"
    },
    {
     "data": {
      "application/vnd.jupyter.widget-view+json": {
       "model_id": "a666b764a28948fda05aff79f8ff2600",
       "version_major": 2,
       "version_minor": 0
      },
      "text/plain": [
       "Downloading gll_pt_bn141028455_v03.fit:   0%|          | 0.00/1.35M [00:00<?, ?B/s]"
      ]
     },
     "metadata": {},
     "output_type": "display_data"
    }
   ],
   "source": [
    "lle_dl = download_LLE_trigger_data(\"GRB141028455\")"
   ]
  },
  {
   "cell_type": "code",
   "execution_count": 8,
   "id": "b9638c8f-623a-432a-bfc9-3274698c8c21",
   "metadata": {},
   "outputs": [],
   "source": [
    "lle_ts = TimeSeriesBuilder.from_lat_lle(\"lle\", lle_file=lle_dl[\"lle\"], ft2_file=lle_dl[\"ft2\"],rsp_file=lle_dl[\"rsp\"])"
   ]
  },
  {
   "cell_type": "code",
   "execution_count": 9,
   "id": "1fc31d7f-86ef-4964-a08f-ed95fbacee43",
   "metadata": {},
   "outputs": [
    {
     "data": {
      "application/vnd.jupyter.widget-view+json": {
       "model_id": "f6ba7e3aa1ea4b5582724626a20716fd",
       "version_major": 2,
       "version_minor": 0
      },
      "text/plain": [
       "Finding best polynomial Order:   0%|          | 0/5 [00:00<?, ?it/s]"
      ]
     },
     "metadata": {},
     "output_type": "display_data"
    },
    {
     "name": "stdout",
     "output_type": "stream",
     "text": [
      "[\u001b[32mINFO    \u001b[0m]\u001b[32m Auto-determined polynomial order: 0\u001b[0m\n"
     ]
    },
    {
     "data": {
      "application/vnd.jupyter.widget-view+json": {
       "model_id": "a10c83fdcb734eaf9c5ca1bcc629921a",
       "version_major": 2,
       "version_minor": 0
      },
      "text/plain": [
       "Fitting GLAST_LLE background:   0%|          | 0/50 [00:00<?, ?it/s]"
      ]
     },
     "metadata": {},
     "output_type": "display_data"
    },
    {
     "name": "stdout",
     "output_type": "stream",
     "text": [
      "[\u001b[32mINFO    \u001b[0m]\u001b[32m None 0-order polynomial fit with the bayes method\u001b[0m\n"
     ]
    }
   ],
   "source": [
    "lle_ts.set_background_interval(\"-20--1\", \"50-100\")"
   ]
  },
  {
   "cell_type": "code",
   "execution_count": 10,
   "id": "d2147f9e-330f-4900-a5e9-67665bbe3ca1",
   "metadata": {},
   "outputs": [
    {
     "name": "stdout",
     "output_type": "stream",
     "text": [
      "[\u001b[32mINFO    \u001b[0m]\u001b[32m Interval set to 10.0-12.0 for lle\u001b[0m\n",
      "[\u001b[32mINFO    \u001b[0m]\u001b[32m Auto-probed noise models:\u001b[0m\n",
      "[\u001b[32mINFO    \u001b[0m]\u001b[32m - observation: poisson\u001b[0m\n",
      "[\u001b[32mINFO    \u001b[0m]\u001b[32m - background: gaussian\u001b[0m\n",
      "[\u001b[32mINFO    \u001b[0m]\u001b[32m Range 50000-100000 translates to channels 8-12\u001b[0m\n"
     ]
    }
   ],
   "source": [
    "lle_ts.set_active_time_interval(source_interval)\n",
    "\n",
    "lle_ts.view_lightcurve(-10,100)\n",
    "\n",
    "\n",
    "\n",
    "lle = lle_ts.to_spectrumlike()\n",
    "\n",
    "\n",
    "lle.set_active_measurements(\"50000-100000\")"
   ]
  },
  {
   "cell_type": "code",
   "execution_count": 11,
   "id": "39661e1e-db50-400d-b037-91ce65472c2b",
   "metadata": {},
   "outputs": [],
   "source": [
    "fluence_plugins.append(lle)"
   ]
  },
  {
   "cell_type": "code",
   "execution_count": 12,
   "id": "cd9fdbf6-7a32-4ca6-9816-cbaa0e50b7ad",
   "metadata": {},
   "outputs": [],
   "source": [
    "datalist = DataList(*fluence_plugins)"
   ]
  },
  {
   "cell_type": "markdown",
   "id": "67990c12-c5d5-4673-905b-1589e392d6a4",
   "metadata": {
    "tags": []
   },
   "source": [
    "# Setup models"
   ]
  },
  {
   "cell_type": "markdown",
   "id": "87487416-3db1-4d8d-ba4d-871089e428dc",
   "metadata": {
    "heading_collapsed": "true",
    "tags": []
   },
   "source": [
    "## Pitch angle synchrotron \n",
    "\n",
    "The new model from Sobacchi, Sironi, and Beloborodov (from now on the SSB model *not* to be confused with the SSC model!)"
   ]
  },
  {
   "cell_type": "code",
   "execution_count": 13,
   "id": "f646ac91-f51d-42d4-b03f-4d4aedd35980",
   "metadata": {},
   "outputs": [
    {
     "data": {
      "text/plain": [
       "[<matplotlib.lines.Line2D at 0x130b2b880>]"
      ]
     },
     "execution_count": 13,
     "metadata": {},
     "output_type": "execute_result"
    }
   ],
   "source": [
    "# get parameters correct\n",
    "\n",
    "pa = PitchAngleSynchrotron()\n",
    "pa.gamma_inj.fix = True\n",
    "\n",
    "xgrid = np.geomspace(10, 1e4, 500)\n",
    "\n",
    "\n",
    "fig, ax = plt.subplots()\n",
    "pa.gamma_inj =1e4\n",
    "pa.gamma_min =1\n",
    "pa.B = 5e2\n",
    "\n",
    "pa.gamma_cool = 5000\n",
    "\n",
    "\n",
    "ax.loglog(xgrid, xgrid**2 * pa(xgrid))\n",
    "\n"
   ]
  },
  {
   "cell_type": "code",
   "execution_count": 14,
   "id": "4c46d3b0-b8c5-4c9e-b017-fcf686a4a872",
   "metadata": {},
   "outputs": [],
   "source": [
    "# set priors and make model\n",
    "\n",
    "pa.gamma_cool.prior = Log_uniform_prior(lower_bound=pa.gamma_min.value, upper_bound=pa.gamma_inj.value)\n",
    "pa.B.prior = Log_uniform_prior(lower_bound = 1e0, upper_bound = 1e8)\n",
    "pa.index.prior = Truncated_gaussian(lower_bound=1., upper_bound=7., mu=3., sigma=1.)\n",
    "pa.K.prior = Log_uniform_prior(lower_bound=1E1, upper_bound = 1E20)\n",
    "pa.K=1e10\n",
    "\n",
    "pa.index.bounds = (1, None)\n",
    "\n",
    "pa.gamma_cool = 1e2\n",
    "\n",
    "\n",
    "\n",
    "ps_pa = PointSource(\"pa\",0,0, spectral_shape=pa)\n",
    "\n",
    "model_pa = Model(ps_pa)\n",
    "\n"
   ]
  },
  {
   "cell_type": "markdown",
   "id": "cece3718-415c-410c-9d09-c51f7e03405a",
   "metadata": {
    "tags": []
   },
   "source": [
    "## Old school slow cooled synchrotron\n",
    "This is similiar to the model used in [Burgess et al 2014](https://iopscience.iop.org/article/10.1088/0004-637X/784/1/17)"
   ]
  },
  {
   "cell_type": "code",
   "execution_count": 35,
   "id": "db04b504-c01b-4c4d-8080-c8a2687840bf",
   "metadata": {},
   "outputs": [
    {
     "data": {
      "application/vnd.jupyter.widget-view+json": {
       "model_id": "7dd28642b843435284152bfe7470061e",
       "version_major": 2,
       "version_minor": 0
      },
      "text/plain": [
       "Canvas(toolbar=Toolbar(toolitems=[('Home', 'Reset original view', 'home', 'home'), ('Back', 'Back to previous …"
      ]
     },
     "metadata": {},
     "output_type": "display_data"
    },
    {
     "data": {
      "text/plain": [
       "[<matplotlib.lines.Line2D at 0x1394fb070>]"
      ]
     },
     "execution_count": 35,
     "metadata": {},
     "output_type": "execute_result"
    }
   ],
   "source": [
    "# get parameters right\n",
    "\n",
    "ss = SlowCoolingSynchrotron()\n",
    "ss.gamma_inj.fix = True\n",
    "\n",
    "xgrid = np.geomspace(10, 1e4, 500)\n",
    "\n",
    "\n",
    "fig, ax = plt.subplots()\n",
    "ss.gamma_inj =1e4\n",
    "ss.B = 5e2\n",
    "ss.index= 4.\n",
    "\n",
    "\n",
    "\n",
    "ax.loglog(xgrid, xgrid**2 * ss(xgrid))\n",
    "\n"
   ]
  },
  {
   "cell_type": "code",
   "execution_count": 36,
   "id": "51a7548b-b40f-4b5f-a3de-7943ffaf0fb9",
   "metadata": {},
   "outputs": [],
   "source": [
    "# setup priors\n",
    "\n",
    "ss.B.prior = Log_uniform_prior(lower_bound = 1e0, upper_bound = 1e8)\n",
    "ss.index.prior = Truncated_gaussian(lower_bound=1., upper_bound=7., mu=3., sigma=1.)\n",
    "ss.K.prior = Log_uniform_prior(lower_bound=1E8, upper_bound = 1E18)\n",
    "ss.K=1e10\n",
    "\n",
    "ss.index.bounds = (1, None)\n",
    "\n",
    "ps_ss = PointSource(\"ss\",0,0, spectral_shape=ss)\n",
    "\n",
    "model_ss = Model(ps_ss)\n"
   ]
  },
  {
   "cell_type": "markdown",
   "id": "c1377fc9-0415-4af0-82b4-609529840009",
   "metadata": {
    "tags": []
   },
   "source": [
    "## Time-dependent synchrotron \n",
    "\n",
    "This is the model that solves the Fokker-Plank equation and integrates the synchrotron emission from each time step [Burgess et al 2020](https://www.nature.com/articles/s41550-019-0911-z)\n"
   ]
  },
  {
   "cell_type": "code",
   "execution_count": 37,
   "id": "a345c542-bcec-4f83-83a6-575544b1bbff",
   "metadata": {},
   "outputs": [],
   "source": [
    "sn = SynchrotronNumerical()\n",
    "\n",
    "sn.K.prior = Log_uniform_prior(lower_bound = 1e-5, upper_bound=1E5)\n",
    "sn.gamma_max.fix=True\n",
    "sn.gamma_min = 1e5\n",
    "sn.gamma_min.fix = True\n",
    "sn.gamma_cool.prior = Log_uniform_prior(lower_bound=1e4, upper_bound=sn.gamma_max.value)\n",
    "sn.B.prior = Log_uniform_prior(lower_bound=1e0, upper_bound=1e4)\n",
    "\n",
    "sn.index.prior = Truncated_gaussian(lower_bound=1., upper_bound=10, mu=3.5, sigma=1)\n",
    "sn.index.bounds = (None, None)\n",
    "\n",
    "\n",
    "ps_sn = PointSource(\"sn\",0,0, spectral_shape=sn)\n",
    "\n",
    "model_sn = Model(ps_sn)\n",
    "\n"
   ]
  },
  {
   "cell_type": "markdown",
   "id": "467f8a68-901f-4a9d-be84-a4fb5fc034f6",
   "metadata": {},
   "source": [
    "# Fitting\n",
    "\n",
    "Now we fit each model"
   ]
  },
  {
   "cell_type": "markdown",
   "id": "1a23cdc0-fdaa-4793-b0b2-42a1cdcb9301",
   "metadata": {
    "tags": []
   },
   "source": [
    "## pitch angle synchrotron"
   ]
  },
  {
   "cell_type": "code",
   "execution_count": 38,
   "id": "8648490a-c3b2-45b6-89c2-907f5036495d",
   "metadata": {},
   "outputs": [],
   "source": [
    "bayes = BayesianAnalysis(model_pa, datalist);"
   ]
  },
  {
   "cell_type": "code",
   "execution_count": 39,
   "id": "9dde2f4b-bc03-4bec-8b35-b80840f7f3f8",
   "metadata": {},
   "outputs": [
    {
     "name": "stdout",
     "output_type": "stream",
     "text": [
      "[\u001b[32mINFO    \u001b[0m]\u001b[32m sampler set to multinest\u001b[0m\n"
     ]
    }
   ],
   "source": [
    "bayes.set_sampler(\"multinest\", share_spectrum=True)"
   ]
  },
  {
   "cell_type": "code",
   "execution_count": 40,
   "id": "d6ee9e7b-7c8a-4fed-a2e9-79e9f9184838",
   "metadata": {},
   "outputs": [],
   "source": [
    "bayes.sampler.setup(resume=False, n_live_points=700)"
   ]
  },
  {
   "cell_type": "code",
   "execution_count": 41,
   "id": "409e9292-d43a-48a4-b91b-1acd0e519a10",
   "metadata": {},
   "outputs": [
    {
     "name": "stdout",
     "output_type": "stream",
     "text": [
      "  analysing data from chains/fit-.txt\n",
      "Maximum a posteriori probability (MAP) point:\n",
      "\n"
     ]
    },
    {
     "data": {
      "text/html": [
       "<div>\n",
       "<style scoped>\n",
       "    .dataframe tbody tr th:only-of-type {\n",
       "        vertical-align: middle;\n",
       "    }\n",
       "\n",
       "    .dataframe tbody tr th {\n",
       "        vertical-align: top;\n",
       "    }\n",
       "\n",
       "    .dataframe thead th {\n",
       "        text-align: right;\n",
       "    }\n",
       "</style>\n",
       "<table border=\"1\" class=\"dataframe\">\n",
       "  <thead>\n",
       "    <tr style=\"text-align: right;\">\n",
       "      <th></th>\n",
       "      <th>result</th>\n",
       "      <th>unit</th>\n",
       "    </tr>\n",
       "    <tr>\n",
       "      <th>parameter</th>\n",
       "      <th></th>\n",
       "      <th></th>\n",
       "    </tr>\n",
       "  </thead>\n",
       "  <tbody>\n",
       "    <tr>\n",
       "      <th>pa.spectrum.main.PitchAngleSynchrotron.K</th>\n",
       "      <td>(2.0 -1.9 +1.4) x 10^16</td>\n",
       "      <td>1 / (cm2 keV s)</td>\n",
       "    </tr>\n",
       "    <tr>\n",
       "      <th>pa.spectrum.main.PitchAngleSynchrotron.B</th>\n",
       "      <td>(1.17 -0.16 +0.15) x 10^4</td>\n",
       "      <td>G</td>\n",
       "    </tr>\n",
       "    <tr>\n",
       "      <th>pa.spectrum.main.PitchAngleSynchrotron.index</th>\n",
       "      <td>3.77 +/- 0.23</td>\n",
       "      <td></td>\n",
       "    </tr>\n",
       "    <tr>\n",
       "      <th>pa.spectrum.main.PitchAngleSynchrotron.gamma_cool</th>\n",
       "      <td>(8.5 +/- 1.1) x 10^3</td>\n",
       "      <td></td>\n",
       "    </tr>\n",
       "  </tbody>\n",
       "</table>\n",
       "</div>"
      ],
      "text/plain": [
       "                                                                      result  \\\n",
       "parameter                                                                      \n",
       "pa.spectrum.main.PitchAngleSynchrotron.K             (2.0 -1.9 +1.4) x 10^16   \n",
       "pa.spectrum.main.PitchAngleSynchrotron.B           (1.17 -0.16 +0.15) x 10^4   \n",
       "pa.spectrum.main.PitchAngleSynchrotron.index                   3.77 +/- 0.23   \n",
       "pa.spectrum.main.PitchAngleSynchrotron.gamma_cool       (8.5 +/- 1.1) x 10^3   \n",
       "\n",
       "                                                              unit  \n",
       "parameter                                                           \n",
       "pa.spectrum.main.PitchAngleSynchrotron.K           1 / (cm2 keV s)  \n",
       "pa.spectrum.main.PitchAngleSynchrotron.B                         G  \n",
       "pa.spectrum.main.PitchAngleSynchrotron.index                        \n",
       "pa.spectrum.main.PitchAngleSynchrotron.gamma_cool                   "
      ]
     },
     "metadata": {},
     "output_type": "display_data"
    },
    {
     "name": "stdout",
     "output_type": "stream",
     "text": [
      "\n",
      "Values of -log(posterior) at the minimum:\n",
      "\n"
     ]
    },
    {
     "data": {
      "text/html": [
       "<div>\n",
       "<style scoped>\n",
       "    .dataframe tbody tr th:only-of-type {\n",
       "        vertical-align: middle;\n",
       "    }\n",
       "\n",
       "    .dataframe tbody tr th {\n",
       "        vertical-align: top;\n",
       "    }\n",
       "\n",
       "    .dataframe thead th {\n",
       "        text-align: right;\n",
       "    }\n",
       "</style>\n",
       "<table border=\"1\" class=\"dataframe\">\n",
       "  <thead>\n",
       "    <tr style=\"text-align: right;\">\n",
       "      <th></th>\n",
       "      <th>-log(posterior)</th>\n",
       "    </tr>\n",
       "  </thead>\n",
       "  <tbody>\n",
       "    <tr>\n",
       "      <th>b1</th>\n",
       "      <td>-355.397361</td>\n",
       "    </tr>\n",
       "    <tr>\n",
       "      <th>lle</th>\n",
       "      <td>-26.329211</td>\n",
       "    </tr>\n",
       "    <tr>\n",
       "      <th>n6</th>\n",
       "      <td>-491.680453</td>\n",
       "    </tr>\n",
       "    <tr>\n",
       "      <th>n7</th>\n",
       "      <td>-421.654558</td>\n",
       "    </tr>\n",
       "    <tr>\n",
       "      <th>n9</th>\n",
       "      <td>-478.814860</td>\n",
       "    </tr>\n",
       "    <tr>\n",
       "      <th>total</th>\n",
       "      <td>-1773.876442</td>\n",
       "    </tr>\n",
       "  </tbody>\n",
       "</table>\n",
       "</div>"
      ],
      "text/plain": [
       "       -log(posterior)\n",
       "b1         -355.397361\n",
       "lle         -26.329211\n",
       "n6         -491.680453\n",
       "n7         -421.654558\n",
       "n9         -478.814860\n",
       "total     -1773.876442"
      ]
     },
     "metadata": {},
     "output_type": "display_data"
    },
    {
     "name": "stdout",
     "output_type": "stream",
     "text": [
      "\n",
      "Values of statistical measures:\n",
      "\n"
     ]
    },
    {
     "data": {
      "text/html": [
       "<div>\n",
       "<style scoped>\n",
       "    .dataframe tbody tr th:only-of-type {\n",
       "        vertical-align: middle;\n",
       "    }\n",
       "\n",
       "    .dataframe tbody tr th {\n",
       "        vertical-align: top;\n",
       "    }\n",
       "\n",
       "    .dataframe thead th {\n",
       "        text-align: right;\n",
       "    }\n",
       "</style>\n",
       "<table border=\"1\" class=\"dataframe\">\n",
       "  <thead>\n",
       "    <tr style=\"text-align: right;\">\n",
       "      <th></th>\n",
       "      <th>statistical measures</th>\n",
       "    </tr>\n",
       "  </thead>\n",
       "  <tbody>\n",
       "    <tr>\n",
       "      <th>AIC</th>\n",
       "      <td>3555.836917</td>\n",
       "    </tr>\n",
       "    <tr>\n",
       "      <th>BIC</th>\n",
       "      <td>3572.456352</td>\n",
       "    </tr>\n",
       "    <tr>\n",
       "      <th>DIC</th>\n",
       "      <td>-27182.808090</td>\n",
       "    </tr>\n",
       "    <tr>\n",
       "      <th>PDIC</th>\n",
       "      <td>-30550.965809</td>\n",
       "    </tr>\n",
       "    <tr>\n",
       "      <th>log(Z)</th>\n",
       "      <td>-727.208079</td>\n",
       "    </tr>\n",
       "  </tbody>\n",
       "</table>\n",
       "</div>"
      ],
      "text/plain": [
       "        statistical measures\n",
       "AIC              3555.836917\n",
       "BIC              3572.456352\n",
       "DIC            -27182.808090\n",
       "PDIC           -30550.965809\n",
       "log(Z)           -727.208079"
      ]
     },
     "metadata": {},
     "output_type": "display_data"
    }
   ],
   "source": [
    "bayes.sample(quiet=False);"
   ]
  },
  {
   "cell_type": "code",
   "execution_count": 42,
   "id": "2f58eeed-c2d6-4c7c-b130-1ae631f2edaf",
   "metadata": {},
   "outputs": [
    {
     "data": {
      "application/vnd.jupyter.widget-view+json": {
       "model_id": "72079a5fbe09461bb15e81a1e7e9cc2f",
       "version_major": 2,
       "version_minor": 0
      },
      "text/plain": [
       "Canvas(toolbar=Toolbar(toolitems=[('Home', 'Reset original view', 'home', 'home'), ('Back', 'Back to previous …"
      ]
     },
     "metadata": {},
     "output_type": "display_data"
    }
   ],
   "source": [
    "#pa.K = 1E15\n",
    "bayes.restore_median_fit()\n",
    "display_spectrum_model_counts(bayes);"
   ]
  },
  {
   "cell_type": "code",
   "execution_count": 43,
   "id": "f224435e-52b1-40bf-9f14-f39a240cf364",
   "metadata": {},
   "outputs": [],
   "source": [
    "pa_result = bayes.results"
   ]
  },
  {
   "cell_type": "code",
   "execution_count": 44,
   "id": "83859d60-19e1-4d28-a10b-24748f60bd78",
   "metadata": {},
   "outputs": [
    {
     "data": {
      "application/vnd.jupyter.widget-view+json": {
       "model_id": "1d2fdf88187c44fd8a68aeac36ca35b0",
       "version_major": 2,
       "version_minor": 0
      },
      "text/plain": [
       "Canvas(toolbar=Toolbar(toolitems=[('Home', 'Reset original view', 'home', 'home'), ('Back', 'Back to previous …"
      ]
     },
     "metadata": {},
     "output_type": "display_data"
    }
   ],
   "source": [
    "pa_result.corner_plot();"
   ]
  },
  {
   "cell_type": "markdown",
   "id": "6f1bbe2c-00a6-4b19-9b50-8598f56e9444",
   "metadata": {
    "tags": []
   },
   "source": [
    "## old school synchrotron "
   ]
  },
  {
   "cell_type": "code",
   "execution_count": 45,
   "id": "11856644-5f9c-4634-8963-79b6ecfa8e46",
   "metadata": {
    "tags": []
   },
   "outputs": [
    {
     "name": "stdout",
     "output_type": "stream",
     "text": [
      "[\u001b[32mINFO    \u001b[0m]\u001b[32m sampler set to multinest\u001b[0m\n",
      "  analysing data from chains/fit-.txt\n",
      "Maximum a posteriori probability (MAP) point:\n",
      "\n"
     ]
    },
    {
     "data": {
      "text/html": [
       "<div>\n",
       "<style scoped>\n",
       "    .dataframe tbody tr th:only-of-type {\n",
       "        vertical-align: middle;\n",
       "    }\n",
       "\n",
       "    .dataframe tbody tr th {\n",
       "        vertical-align: top;\n",
       "    }\n",
       "\n",
       "    .dataframe thead th {\n",
       "        text-align: right;\n",
       "    }\n",
       "</style>\n",
       "<table border=\"1\" class=\"dataframe\">\n",
       "  <thead>\n",
       "    <tr style=\"text-align: right;\">\n",
       "      <th></th>\n",
       "      <th>result</th>\n",
       "      <th>unit</th>\n",
       "    </tr>\n",
       "    <tr>\n",
       "      <th>parameter</th>\n",
       "      <th></th>\n",
       "      <th></th>\n",
       "    </tr>\n",
       "  </thead>\n",
       "  <tbody>\n",
       "    <tr>\n",
       "      <th>ss.spectrum.main.SlowCoolingSynchrotron.K</th>\n",
       "      <td>(7.7 -6 +3.1) x 10^12</td>\n",
       "      <td>1 / (cm2 keV s)</td>\n",
       "    </tr>\n",
       "    <tr>\n",
       "      <th>ss.spectrum.main.SlowCoolingSynchrotron.B</th>\n",
       "      <td>(9.8 +/- 0.5) x 10^2</td>\n",
       "      <td>G</td>\n",
       "    </tr>\n",
       "    <tr>\n",
       "      <th>ss.spectrum.main.SlowCoolingSynchrotron.index</th>\n",
       "      <td>3.79 +/- 0.11</td>\n",
       "      <td></td>\n",
       "    </tr>\n",
       "  </tbody>\n",
       "</table>\n",
       "</div>"
      ],
      "text/plain": [
       "                                                              result  \\\n",
       "parameter                                                              \n",
       "ss.spectrum.main.SlowCoolingSynchrotron.K      (7.7 -6 +3.1) x 10^12   \n",
       "ss.spectrum.main.SlowCoolingSynchrotron.B       (9.8 +/- 0.5) x 10^2   \n",
       "ss.spectrum.main.SlowCoolingSynchrotron.index          3.79 +/- 0.11   \n",
       "\n",
       "                                                          unit  \n",
       "parameter                                                       \n",
       "ss.spectrum.main.SlowCoolingSynchrotron.K      1 / (cm2 keV s)  \n",
       "ss.spectrum.main.SlowCoolingSynchrotron.B                    G  \n",
       "ss.spectrum.main.SlowCoolingSynchrotron.index                   "
      ]
     },
     "metadata": {},
     "output_type": "display_data"
    },
    {
     "name": "stdout",
     "output_type": "stream",
     "text": [
      "\n",
      "Values of -log(posterior) at the minimum:\n",
      "\n"
     ]
    },
    {
     "data": {
      "text/html": [
       "<div>\n",
       "<style scoped>\n",
       "    .dataframe tbody tr th:only-of-type {\n",
       "        vertical-align: middle;\n",
       "    }\n",
       "\n",
       "    .dataframe tbody tr th {\n",
       "        vertical-align: top;\n",
       "    }\n",
       "\n",
       "    .dataframe thead th {\n",
       "        text-align: right;\n",
       "    }\n",
       "</style>\n",
       "<table border=\"1\" class=\"dataframe\">\n",
       "  <thead>\n",
       "    <tr style=\"text-align: right;\">\n",
       "      <th></th>\n",
       "      <th>-log(posterior)</th>\n",
       "    </tr>\n",
       "  </thead>\n",
       "  <tbody>\n",
       "    <tr>\n",
       "      <th>b1</th>\n",
       "      <td>-337.003471</td>\n",
       "    </tr>\n",
       "    <tr>\n",
       "      <th>lle</th>\n",
       "      <td>-19.262184</td>\n",
       "    </tr>\n",
       "    <tr>\n",
       "      <th>n6</th>\n",
       "      <td>-447.472455</td>\n",
       "    </tr>\n",
       "    <tr>\n",
       "      <th>n7</th>\n",
       "      <td>-405.121130</td>\n",
       "    </tr>\n",
       "    <tr>\n",
       "      <th>n9</th>\n",
       "      <td>-440.691624</td>\n",
       "    </tr>\n",
       "    <tr>\n",
       "      <th>total</th>\n",
       "      <td>-1649.550864</td>\n",
       "    </tr>\n",
       "  </tbody>\n",
       "</table>\n",
       "</div>"
      ],
      "text/plain": [
       "       -log(posterior)\n",
       "b1         -337.003471\n",
       "lle         -19.262184\n",
       "n6         -447.472455\n",
       "n7         -405.121130\n",
       "n9         -440.691624\n",
       "total     -1649.550864"
      ]
     },
     "metadata": {},
     "output_type": "display_data"
    },
    {
     "name": "stdout",
     "output_type": "stream",
     "text": [
      "\n",
      "Values of statistical measures:\n",
      "\n"
     ]
    },
    {
     "data": {
      "text/html": [
       "<div>\n",
       "<style scoped>\n",
       "    .dataframe tbody tr th:only-of-type {\n",
       "        vertical-align: middle;\n",
       "    }\n",
       "\n",
       "    .dataframe tbody tr th {\n",
       "        vertical-align: top;\n",
       "    }\n",
       "\n",
       "    .dataframe thead th {\n",
       "        text-align: right;\n",
       "    }\n",
       "</style>\n",
       "<table border=\"1\" class=\"dataframe\">\n",
       "  <thead>\n",
       "    <tr style=\"text-align: right;\">\n",
       "      <th></th>\n",
       "      <th>statistical measures</th>\n",
       "    </tr>\n",
       "  </thead>\n",
       "  <tbody>\n",
       "    <tr>\n",
       "      <th>AIC</th>\n",
       "      <td>3305.152043</td>\n",
       "    </tr>\n",
       "    <tr>\n",
       "      <th>BIC</th>\n",
       "      <td>3317.629330</td>\n",
       "    </tr>\n",
       "    <tr>\n",
       "      <th>DIC</th>\n",
       "      <td>-519.406433</td>\n",
       "    </tr>\n",
       "    <tr>\n",
       "      <th>PDIC</th>\n",
       "      <td>-3695.750117</td>\n",
       "    </tr>\n",
       "    <tr>\n",
       "      <th>log(Z)</th>\n",
       "      <td>-688.128411</td>\n",
       "    </tr>\n",
       "  </tbody>\n",
       "</table>\n",
       "</div>"
      ],
      "text/plain": [
       "        statistical measures\n",
       "AIC              3305.152043\n",
       "BIC              3317.629330\n",
       "DIC              -519.406433\n",
       "PDIC            -3695.750117\n",
       "log(Z)           -688.128411"
      ]
     },
     "metadata": {},
     "output_type": "display_data"
    }
   ],
   "source": [
    "bayes = BayesianAnalysis(model_ss, datalist);\n",
    "\n",
    "bayes.set_sampler(\"multinest\", share_spectrum=True)\n",
    "\n",
    "bayes.sampler.setup(resume=False, n_live_points=700)\n",
    "\n",
    "bayes.sample(quiet=False);"
   ]
  },
  {
   "cell_type": "code",
   "execution_count": 46,
   "id": "4ffced8d-8ae9-4ed5-93e9-d6b6b572401b",
   "metadata": {},
   "outputs": [
    {
     "data": {
      "application/vnd.jupyter.widget-view+json": {
       "model_id": "c94b9d0fab264af8bd29d45281902813",
       "version_major": 2,
       "version_minor": 0
      },
      "text/plain": [
       "Canvas(toolbar=Toolbar(toolitems=[('Home', 'Reset original view', 'home', 'home'), ('Back', 'Back to previous …"
      ]
     },
     "metadata": {},
     "output_type": "display_data"
    }
   ],
   "source": [
    "#pa.K = 1E15\n",
    "bayes.restore_median_fit()\n",
    "display_spectrum_model_counts(bayes);"
   ]
  },
  {
   "cell_type": "code",
   "execution_count": 47,
   "id": "a52f62f8-b8ed-422a-84b6-e8a0a34df77d",
   "metadata": {},
   "outputs": [],
   "source": [
    "ss_result = bayes.results"
   ]
  },
  {
   "cell_type": "code",
   "execution_count": 48,
   "id": "3c40541d-5616-4b9d-b03a-f991b0e81425",
   "metadata": {},
   "outputs": [
    {
     "data": {
      "application/vnd.jupyter.widget-view+json": {
       "model_id": "2dc1a740c55245719bb6caa1b60c5758",
       "version_major": 2,
       "version_minor": 0
      },
      "text/plain": [
       "Canvas(toolbar=Toolbar(toolitems=[('Home', 'Reset original view', 'home', 'home'), ('Back', 'Back to previous …"
      ]
     },
     "metadata": {},
     "output_type": "display_data"
    }
   ],
   "source": [
    "ss_result.corner_plot();"
   ]
  },
  {
   "cell_type": "markdown",
   "id": "139c692e-ab24-491f-99d3-9568fb1e4185",
   "metadata": {},
   "source": [
    "## time-dependent synchrotron model"
   ]
  },
  {
   "cell_type": "code",
   "execution_count": 49,
   "id": "79085c95-8364-47b3-8718-40b2fc57c5e3",
   "metadata": {},
   "outputs": [
    {
     "name": "stdout",
     "output_type": "stream",
     "text": [
      "[\u001b[32mINFO    \u001b[0m]\u001b[32m sampler set to multinest\u001b[0m\n",
      "  analysing data from chains/fit-.txt\n",
      "Maximum a posteriori probability (MAP) point:\n",
      "\n"
     ]
    },
    {
     "data": {
      "text/html": [
       "<div>\n",
       "<style scoped>\n",
       "    .dataframe tbody tr th:only-of-type {\n",
       "        vertical-align: middle;\n",
       "    }\n",
       "\n",
       "    .dataframe tbody tr th {\n",
       "        vertical-align: top;\n",
       "    }\n",
       "\n",
       "    .dataframe thead th {\n",
       "        text-align: right;\n",
       "    }\n",
       "</style>\n",
       "<table border=\"1\" class=\"dataframe\">\n",
       "  <thead>\n",
       "    <tr style=\"text-align: right;\">\n",
       "      <th></th>\n",
       "      <th>result</th>\n",
       "      <th>unit</th>\n",
       "    </tr>\n",
       "    <tr>\n",
       "      <th>parameter</th>\n",
       "      <th></th>\n",
       "      <th></th>\n",
       "    </tr>\n",
       "  </thead>\n",
       "  <tbody>\n",
       "    <tr>\n",
       "      <th>sn.spectrum.main.SynchrotronNumerical.K</th>\n",
       "      <td>(1.34 +/- 0.24) x 10^-5</td>\n",
       "      <td>1 / (cm2 G keV s)</td>\n",
       "    </tr>\n",
       "    <tr>\n",
       "      <th>sn.spectrum.main.SynchrotronNumerical.B</th>\n",
       "      <td>(1.07 +/- 0.05) x 10^3</td>\n",
       "      <td>G</td>\n",
       "    </tr>\n",
       "    <tr>\n",
       "      <th>sn.spectrum.main.SynchrotronNumerical.index</th>\n",
       "      <td>3.63 +/- 0.12</td>\n",
       "      <td></td>\n",
       "    </tr>\n",
       "    <tr>\n",
       "      <th>sn.spectrum.main.SynchrotronNumerical.gamma_cool</th>\n",
       "      <td>(9 +/- 5) x 10^6</td>\n",
       "      <td></td>\n",
       "    </tr>\n",
       "  </tbody>\n",
       "</table>\n",
       "</div>"
      ],
      "text/plain": [
       "                                                                   result  \\\n",
       "parameter                                                                   \n",
       "sn.spectrum.main.SynchrotronNumerical.K           (1.34 +/- 0.24) x 10^-5   \n",
       "sn.spectrum.main.SynchrotronNumerical.B            (1.07 +/- 0.05) x 10^3   \n",
       "sn.spectrum.main.SynchrotronNumerical.index                 3.63 +/- 0.12   \n",
       "sn.spectrum.main.SynchrotronNumerical.gamma_cool         (9 +/- 5) x 10^6   \n",
       "\n",
       "                                                               unit  \n",
       "parameter                                                            \n",
       "sn.spectrum.main.SynchrotronNumerical.K           1 / (cm2 G keV s)  \n",
       "sn.spectrum.main.SynchrotronNumerical.B                           G  \n",
       "sn.spectrum.main.SynchrotronNumerical.index                          \n",
       "sn.spectrum.main.SynchrotronNumerical.gamma_cool                     "
      ]
     },
     "metadata": {},
     "output_type": "display_data"
    },
    {
     "name": "stdout",
     "output_type": "stream",
     "text": [
      "\n",
      "Values of -log(posterior) at the minimum:\n",
      "\n"
     ]
    },
    {
     "data": {
      "text/html": [
       "<div>\n",
       "<style scoped>\n",
       "    .dataframe tbody tr th:only-of-type {\n",
       "        vertical-align: middle;\n",
       "    }\n",
       "\n",
       "    .dataframe tbody tr th {\n",
       "        vertical-align: top;\n",
       "    }\n",
       "\n",
       "    .dataframe thead th {\n",
       "        text-align: right;\n",
       "    }\n",
       "</style>\n",
       "<table border=\"1\" class=\"dataframe\">\n",
       "  <thead>\n",
       "    <tr style=\"text-align: right;\">\n",
       "      <th></th>\n",
       "      <th>-log(posterior)</th>\n",
       "    </tr>\n",
       "  </thead>\n",
       "  <tbody>\n",
       "    <tr>\n",
       "      <th>b1</th>\n",
       "      <td>-326.038291</td>\n",
       "    </tr>\n",
       "    <tr>\n",
       "      <th>lle</th>\n",
       "      <td>-8.108290</td>\n",
       "    </tr>\n",
       "    <tr>\n",
       "      <th>n6</th>\n",
       "      <td>-436.971058</td>\n",
       "    </tr>\n",
       "    <tr>\n",
       "      <th>n7</th>\n",
       "      <td>-394.169286</td>\n",
       "    </tr>\n",
       "    <tr>\n",
       "      <th>n9</th>\n",
       "      <td>-429.995210</td>\n",
       "    </tr>\n",
       "    <tr>\n",
       "      <th>total</th>\n",
       "      <td>-1595.282136</td>\n",
       "    </tr>\n",
       "  </tbody>\n",
       "</table>\n",
       "</div>"
      ],
      "text/plain": [
       "       -log(posterior)\n",
       "b1         -326.038291\n",
       "lle          -8.108290\n",
       "n6         -436.971058\n",
       "n7         -394.169286\n",
       "n9         -429.995210\n",
       "total     -1595.282136"
      ]
     },
     "metadata": {},
     "output_type": "display_data"
    },
    {
     "name": "stdout",
     "output_type": "stream",
     "text": [
      "\n",
      "Values of statistical measures:\n",
      "\n"
     ]
    },
    {
     "data": {
      "text/html": [
       "<div>\n",
       "<style scoped>\n",
       "    .dataframe tbody tr th:only-of-type {\n",
       "        vertical-align: middle;\n",
       "    }\n",
       "\n",
       "    .dataframe tbody tr th {\n",
       "        vertical-align: top;\n",
       "    }\n",
       "\n",
       "    .dataframe thead th {\n",
       "        text-align: right;\n",
       "    }\n",
       "</style>\n",
       "<table border=\"1\" class=\"dataframe\">\n",
       "  <thead>\n",
       "    <tr style=\"text-align: right;\">\n",
       "      <th></th>\n",
       "      <th>statistical measures</th>\n",
       "    </tr>\n",
       "  </thead>\n",
       "  <tbody>\n",
       "    <tr>\n",
       "      <th>AIC</th>\n",
       "      <td>3198.648305</td>\n",
       "    </tr>\n",
       "    <tr>\n",
       "      <th>BIC</th>\n",
       "      <td>3215.267741</td>\n",
       "    </tr>\n",
       "    <tr>\n",
       "      <th>DIC</th>\n",
       "      <td>3156.651967</td>\n",
       "    </tr>\n",
       "    <tr>\n",
       "      <th>PDIC</th>\n",
       "      <td>1.961541</td>\n",
       "    </tr>\n",
       "    <tr>\n",
       "      <th>log(Z)</th>\n",
       "      <td>-688.086165</td>\n",
       "    </tr>\n",
       "  </tbody>\n",
       "</table>\n",
       "</div>"
      ],
      "text/plain": [
       "        statistical measures\n",
       "AIC              3198.648305\n",
       "BIC              3215.267741\n",
       "DIC              3156.651967\n",
       "PDIC                1.961541\n",
       "log(Z)           -688.086165"
      ]
     },
     "metadata": {},
     "output_type": "display_data"
    }
   ],
   "source": [
    "bayes = BayesianAnalysis(model_sn, datalist);\n",
    "\n",
    "bayes.set_sampler(\"multinest\", share_spectrum=True)\n",
    "\n",
    "bayes.sampler.setup(resume=False, n_live_points=700)\n",
    "\n",
    "bayes.sample(quiet=False);"
   ]
  },
  {
   "cell_type": "code",
   "execution_count": 50,
   "id": "de9a4ca3-8f10-49b2-8c4b-58de46e399e2",
   "metadata": {},
   "outputs": [
    {
     "data": {
      "application/vnd.jupyter.widget-view+json": {
       "model_id": "d041e59d902c4bde96e92a4ae40b1434",
       "version_major": 2,
       "version_minor": 0
      },
      "text/plain": [
       "Canvas(toolbar=Toolbar(toolitems=[('Home', 'Reset original view', 'home', 'home'), ('Back', 'Back to previous …"
      ]
     },
     "metadata": {},
     "output_type": "display_data"
    }
   ],
   "source": [
    "#pa.K = 1E15\n",
    "bayes.restore_median_fit()\n",
    "display_spectrum_model_counts(bayes);"
   ]
  },
  {
   "cell_type": "code",
   "execution_count": 51,
   "id": "4c651fb1-fd81-45ce-93b0-6e3064f081a2",
   "metadata": {},
   "outputs": [
    {
     "data": {
      "application/vnd.jupyter.widget-view+json": {
       "model_id": "7880eb7782c04c07acb6a29d651fa67d",
       "version_major": 2,
       "version_minor": 0
      },
      "text/plain": [
       "Canvas(toolbar=Toolbar(toolitems=[('Home', 'Reset original view', 'home', 'home'), ('Back', 'Back to previous …"
      ]
     },
     "metadata": {},
     "output_type": "display_data"
    }
   ],
   "source": [
    "sn_result = bayes.results\n",
    "\n",
    "sn_result.corner_plot();"
   ]
  },
  {
   "cell_type": "markdown",
   "id": "8622fb0c-b37c-4416-abf5-2819388155d1",
   "metadata": {},
   "source": [
    "# examine fits\n",
    "\n",
    "\n",
    "Lets plot the model in $\\nu F_{\\nu}$ space and compare the fits"
   ]
  },
  {
   "cell_type": "code",
   "execution_count": 52,
   "id": "4306f588-450a-4819-ab03-92a23dc36396",
   "metadata": {},
   "outputs": [
    {
     "data": {
      "application/vnd.jupyter.widget-view+json": {
       "model_id": "76edf060132645409b6e913a092626d2",
       "version_major": 2,
       "version_minor": 0
      },
      "text/plain": [
       "processing MLE analyses: 0it [00:00, ?it/s]"
      ]
     },
     "metadata": {},
     "output_type": "display_data"
    },
    {
     "data": {
      "application/vnd.jupyter.widget-view+json": {
       "model_id": "c877022b62124fc195eab523d0f556ee",
       "version_major": 2,
       "version_minor": 0
      },
      "text/plain": [
       "processing Bayesian analyses:   0%|          | 0/3 [00:00<?, ?it/s]"
      ]
     },
     "metadata": {},
     "output_type": "display_data"
    },
    {
     "data": {
      "application/vnd.jupyter.widget-view+json": {
       "model_id": "9505d10b508f4bbeb9d80d6333162908",
       "version_major": 2,
       "version_minor": 0
      },
      "text/plain": [
       "Propagating errors:   0%|          | 0/100 [00:00<?, ?it/s]"
      ]
     },
     "metadata": {},
     "output_type": "display_data"
    },
    {
     "data": {
      "application/vnd.jupyter.widget-view+json": {
       "model_id": "8841cc8f06ba480989eaae12897aff9f",
       "version_major": 2,
       "version_minor": 0
      },
      "text/plain": [
       "Propagating errors:   0%|          | 0/100 [00:00<?, ?it/s]"
      ]
     },
     "metadata": {},
     "output_type": "display_data"
    },
    {
     "data": {
      "application/vnd.jupyter.widget-view+json": {
       "model_id": "bb5dac4a1d0c4f58b164918367bcee46",
       "version_major": 2,
       "version_minor": 0
      },
      "text/plain": [
       "Propagating errors:   0%|          | 0/100 [00:00<?, ?it/s]"
      ]
     },
     "metadata": {},
     "output_type": "display_data"
    },
    {
     "data": {
      "application/vnd.jupyter.widget-view+json": {
       "model_id": "4bc54be268aa44f5b94936952d588f12",
       "version_major": 2,
       "version_minor": 0
      },
      "text/plain": [
       "Canvas(toolbar=Toolbar(toolitems=[('Home', 'Reset original view', 'home', 'home'), ('Back', 'Back to previous …"
      ]
     },
     "metadata": {},
     "output_type": "display_data"
    }
   ],
   "source": [
    "plot_spectra(pa_result, ss_result, sn_result, flux_unit=\"erg2/(cm2 s keV)\");"
   ]
  },
  {
   "cell_type": "code",
   "execution_count": null,
   "id": "81b76702-925e-4171-b496-b0739a6dcdd5",
   "metadata": {},
   "outputs": [],
   "source": []
  }
 ],
 "metadata": {
  "kernelspec": {
   "display_name": "Python 3",
   "language": "python",
   "name": "python3"
  },
  "language_info": {
   "codemirror_mode": {
    "name": "ipython",
    "version": 3
   },
   "file_extension": ".py",
   "mimetype": "text/x-python",
   "name": "python",
   "nbconvert_exporter": "python",
   "pygments_lexer": "ipython3",
   "version": "3.9.4"
  }
 },
 "nbformat": 4,
 "nbformat_minor": 5
}
