{
 "cells": [
  {
   "cell_type": "code",
   "execution_count": 1,
   "id": "6dff0ea2-f7ec-404f-8565-68f825faa66d",
   "metadata": {},
   "outputs": [],
   "source": [
    "import matplotlib.pyplot as plt\n",
    "\n",
    "import numpy as np\n",
    "\n",
    "\n",
    "plt.style.use(\"mike\")\n",
    "\n",
    "\n",
    "from threeML import *\n",
    "\n",
    "from pypa_synch import PitchAngleSynchrotron, FastCoolingSynchrotron, SlowCoolingSynchrotron\n",
    "from pynchrotron import SynchrotronNumerical \n",
    "\n",
    "\n",
    "import warnings\n",
    "\n",
    "warnings.simplefilter(\"ignore\")\n",
    "\n",
    "\n",
    "\n",
    "%matplotlib widget\n",
    "\n",
    "\n",
    "\n",
    "silence_warnings()"
   ]
  },
  {
   "cell_type": "markdown",
   "id": "e96177d3-78ba-4ac5-8b80-abe0bcdedb7a",
   "metadata": {
    "tags": []
   },
   "source": [
    "# Setup data\n",
    "\n",
    "We will look at GRB 141028A which is in the sample \n"
   ]
  },
  {
   "cell_type": "code",
   "execution_count": 2,
   "id": "aa8a3a94-3d6b-4108-a936-1db6982d6831",
   "metadata": {},
   "outputs": [],
   "source": [
    "gbm_cat = FermiGBMBurstCatalog()"
   ]
  },
  {
   "cell_type": "code",
   "execution_count": 3,
   "id": "18971b3e-f20b-407c-b35a-9ecec265e3a2",
   "metadata": {},
   "outputs": [
    {
     "data": {
      "text/html": [
       "<i>Table length=1</i>\n",
       "<table id=\"table4948090256\" class=\"table-striped table-bordered table-condensed\">\n",
       "<thead><tr><th>name</th><th>ra</th><th>dec</th><th>trigger_time</th><th>t90</th></tr></thead>\n",
       "<thead><tr><th>object</th><th>float64</th><th>float64</th><th>float64</th><th>float64</th></tr></thead>\n",
       "<tr><td>GRB141028455</td><td>322.601</td><td>-0.231</td><td>56958.4547081</td><td>31.489</td></tr>\n",
       "</table>"
      ],
      "text/plain": [
       "<Table length=1>\n",
       "    name        ra     dec    trigger_time   t90  \n",
       "   object    float64 float64    float64    float64\n",
       "------------ ------- ------- ------------- -------\n",
       "GRB141028455 322.601  -0.231 56958.4547081  31.489"
      ]
     },
     "execution_count": 3,
     "metadata": {},
     "output_type": "execute_result"
    }
   ],
   "source": [
    "gbm_cat.query_sources(\"GRB141028455\")"
   ]
  },
  {
   "cell_type": "code",
   "execution_count": 4,
   "id": "4a140b79-774b-4752-9894-ab5f143cfc8a",
   "metadata": {},
   "outputs": [],
   "source": [
    "dinfo = gbm_cat.get_detector_information()[\"GRB141028455\"]\n",
    "dets = dinfo[\"detectors\"]\n"
   ]
  },
  {
   "cell_type": "code",
   "execution_count": 5,
   "id": "4183167c-0cd2-44bf-af19-754b5888216b",
   "metadata": {},
   "outputs": [
    {
     "name": "stdout",
     "output_type": "stream",
     "text": [
      "[\u001b[32mINFO    \u001b[0m]\u001b[32m file glg_cspec_n6_bn141028455_v00.pha is already downloaded!\u001b[0m\n",
      "[\u001b[32mINFO    \u001b[0m]\u001b[32m file glg_cspec_n6_bn141028455_v01.rsp2 is already downloaded!\u001b[0m\n",
      "[\u001b[32mINFO    \u001b[0m]\u001b[32m file glg_tte_n6_bn141028455_v00.fit is already downloaded!\u001b[0m\n",
      "[\u001b[32mINFO    \u001b[0m]\u001b[32m file glg_cspec_n7_bn141028455_v00.pha is already downloaded!\u001b[0m\n",
      "[\u001b[32mINFO    \u001b[0m]\u001b[32m file glg_cspec_n7_bn141028455_v01.rsp2 is already downloaded!\u001b[0m\n",
      "[\u001b[32mINFO    \u001b[0m]\u001b[32m file glg_tte_n7_bn141028455_v00.fit is already downloaded!\u001b[0m\n",
      "[\u001b[32mINFO    \u001b[0m]\u001b[32m file glg_cspec_n9_bn141028455_v00.pha is already downloaded!\u001b[0m\n",
      "[\u001b[32mINFO    \u001b[0m]\u001b[32m file glg_cspec_n9_bn141028455_v01.rsp2 is already downloaded!\u001b[0m\n",
      "[\u001b[32mINFO    \u001b[0m]\u001b[32m file glg_tte_n9_bn141028455_v00.fit is already downloaded!\u001b[0m\n",
      "[\u001b[32mINFO    \u001b[0m]\u001b[32m file glg_cspec_b1_bn141028455_v00.pha is already downloaded!\u001b[0m\n",
      "[\u001b[32mINFO    \u001b[0m]\u001b[32m file glg_cspec_b1_bn141028455_v01.rsp2 is already downloaded!\u001b[0m\n",
      "[\u001b[32mINFO    \u001b[0m]\u001b[32m file glg_tte_b1_bn141028455_v00.fit is already downloaded!\u001b[0m\n"
     ]
    }
   ],
   "source": [
    "gbm_dl = download_GBM_trigger_data(\"bn141028455\", detectors=dets)"
   ]
  },
  {
   "cell_type": "code",
   "execution_count": 6,
   "id": "96b40436-f6e5-4b2c-8c13-389d3eafc7b2",
   "metadata": {},
   "outputs": [
    {
     "data": {
      "application/vnd.jupyter.widget-view+json": {
       "model_id": "76344a09ea5f4d6aa364008de0c28636",
       "version_major": 2,
       "version_minor": 0
      },
      "text/plain": [
       "Loading PHAII Spectra:   0%|          | 0/2835 [00:00<?, ?it/s]"
      ]
     },
     "metadata": {},
     "output_type": "display_data"
    },
    {
     "data": {
      "application/vnd.jupyter.widget-view+json": {
       "model_id": "d0dc8a38ad964d10a8eb67a47575abed",
       "version_major": 2,
       "version_minor": 0
      },
      "text/plain": [
       "Finding best polynomial Order:   0%|          | 0/5 [00:00<?, ?it/s]"
      ]
     },
     "metadata": {},
     "output_type": "display_data"
    },
    {
     "name": "stdout",
     "output_type": "stream",
     "text": [
      "[\u001b[32mINFO    \u001b[0m]\u001b[32m Auto-determined polynomial order: 1\u001b[0m\n"
     ]
    },
    {
     "data": {
      "application/vnd.jupyter.widget-view+json": {
       "model_id": "9b5d1468eee643bfa19abd526ef622c5",
       "version_major": 2,
       "version_minor": 0
      },
      "text/plain": [
       "Fitting GBM_NAI_06 background:   0%|          | 0/128 [00:00<?, ?it/s]"
      ]
     },
     "metadata": {},
     "output_type": "display_data"
    },
    {
     "name": "stdout",
     "output_type": "stream",
     "text": [
      "[\u001b[32mINFO    \u001b[0m]\u001b[32m None 1-order polynomial fit with the bayes method\u001b[0m\n",
      "[\u001b[32mINFO    \u001b[0m]\u001b[32m Saved fitted background to n6_bkg.h5\u001b[0m\n",
      "[\u001b[32mINFO    \u001b[0m]\u001b[32m Saved background to n6_bkg.h5\u001b[0m\n",
      "[\u001b[32mINFO    \u001b[0m]\u001b[32m Successfully restored fit from n6_bkg.h5\u001b[0m\n",
      "[\u001b[32mINFO    \u001b[0m]\u001b[32m Interval set to 10.0-12.0 for n6\u001b[0m\n"
     ]
    },
    {
     "data": {
      "application/vnd.jupyter.widget-view+json": {
       "model_id": "2d2238a33d2b4b969694a9800309b3e5",
       "version_major": 2,
       "version_minor": 0
      },
      "text/plain": [
       "Canvas(toolbar=Toolbar(toolitems=[('Home', 'Reset original view', 'home', 'home'), ('Back', 'Back to previous …"
      ]
     },
     "metadata": {},
     "output_type": "display_data"
    },
    {
     "name": "stdout",
     "output_type": "stream",
     "text": [
      "[\u001b[32mINFO    \u001b[0m]\u001b[32m Auto-probed noise models:\u001b[0m\n",
      "[\u001b[32mINFO    \u001b[0m]\u001b[32m - observation: poisson\u001b[0m\n",
      "[\u001b[32mINFO    \u001b[0m]\u001b[32m - background: gaussian\u001b[0m\n",
      "[\u001b[32mINFO    \u001b[0m]\u001b[32m Range 9-900 translates to channels 3-123\u001b[0m\n",
      "[\u001b[32mINFO    \u001b[0m]\u001b[32m Now using 121 bins\u001b[0m\n"
     ]
    },
    {
     "data": {
      "application/vnd.jupyter.widget-view+json": {
       "model_id": "23d58998d79b4d859ba55c09975cddc1",
       "version_major": 2,
       "version_minor": 0
      },
      "text/plain": [
       "Loading PHAII Spectra:   0%|          | 0/2835 [00:00<?, ?it/s]"
      ]
     },
     "metadata": {},
     "output_type": "display_data"
    },
    {
     "data": {
      "application/vnd.jupyter.widget-view+json": {
       "model_id": "84c8a5597ed44e93b9e993b46fcf095b",
       "version_major": 2,
       "version_minor": 0
      },
      "text/plain": [
       "Finding best polynomial Order:   0%|          | 0/5 [00:00<?, ?it/s]"
      ]
     },
     "metadata": {},
     "output_type": "display_data"
    },
    {
     "name": "stdout",
     "output_type": "stream",
     "text": [
      "[\u001b[32mINFO    \u001b[0m]\u001b[32m Auto-determined polynomial order: 0\u001b[0m\n"
     ]
    },
    {
     "data": {
      "application/vnd.jupyter.widget-view+json": {
       "model_id": "cbb90eedbf5544e09c2962e277beb9ad",
       "version_major": 2,
       "version_minor": 0
      },
      "text/plain": [
       "Fitting GBM_NAI_07 background:   0%|          | 0/128 [00:00<?, ?it/s]"
      ]
     },
     "metadata": {},
     "output_type": "display_data"
    },
    {
     "name": "stdout",
     "output_type": "stream",
     "text": [
      "[\u001b[32mINFO    \u001b[0m]\u001b[32m None 0-order polynomial fit with the bayes method\u001b[0m\n",
      "[\u001b[32mINFO    \u001b[0m]\u001b[32m Saved fitted background to n7_bkg.h5\u001b[0m\n",
      "[\u001b[32mINFO    \u001b[0m]\u001b[32m Saved background to n7_bkg.h5\u001b[0m\n",
      "[\u001b[32mINFO    \u001b[0m]\u001b[32m Successfully restored fit from n7_bkg.h5\u001b[0m\n",
      "[\u001b[32mINFO    \u001b[0m]\u001b[32m Interval set to 10.0-12.0 for n7\u001b[0m\n"
     ]
    },
    {
     "data": {
      "application/vnd.jupyter.widget-view+json": {
       "model_id": "f6ad7c59e88548c693b4fc6d44bc396b",
       "version_major": 2,
       "version_minor": 0
      },
      "text/plain": [
       "Canvas(toolbar=Toolbar(toolitems=[('Home', 'Reset original view', 'home', 'home'), ('Back', 'Back to previous …"
      ]
     },
     "metadata": {},
     "output_type": "display_data"
    },
    {
     "name": "stdout",
     "output_type": "stream",
     "text": [
      "[\u001b[32mINFO    \u001b[0m]\u001b[32m Auto-probed noise models:\u001b[0m\n",
      "[\u001b[32mINFO    \u001b[0m]\u001b[32m - observation: poisson\u001b[0m\n",
      "[\u001b[32mINFO    \u001b[0m]\u001b[32m - background: gaussian\u001b[0m\n",
      "[\u001b[32mINFO    \u001b[0m]\u001b[32m Range 9-900 translates to channels 5-123\u001b[0m\n",
      "[\u001b[32mINFO    \u001b[0m]\u001b[32m Now using 119 bins\u001b[0m\n"
     ]
    },
    {
     "data": {
      "application/vnd.jupyter.widget-view+json": {
       "model_id": "9f2bad1b92b746159f707eb2d95d99bf",
       "version_major": 2,
       "version_minor": 0
      },
      "text/plain": [
       "Loading PHAII Spectra:   0%|          | 0/2835 [00:00<?, ?it/s]"
      ]
     },
     "metadata": {},
     "output_type": "display_data"
    },
    {
     "data": {
      "application/vnd.jupyter.widget-view+json": {
       "model_id": "8dfe5b8a7a704489ad42a42811a4587f",
       "version_major": 2,
       "version_minor": 0
      },
      "text/plain": [
       "Finding best polynomial Order:   0%|          | 0/5 [00:00<?, ?it/s]"
      ]
     },
     "metadata": {},
     "output_type": "display_data"
    },
    {
     "name": "stdout",
     "output_type": "stream",
     "text": [
      "[\u001b[32mINFO    \u001b[0m]\u001b[32m Auto-determined polynomial order: 1\u001b[0m\n"
     ]
    },
    {
     "data": {
      "application/vnd.jupyter.widget-view+json": {
       "model_id": "4d43a596339c4b14a6443ef2d6c93a73",
       "version_major": 2,
       "version_minor": 0
      },
      "text/plain": [
       "Fitting GBM_NAI_09 background:   0%|          | 0/128 [00:00<?, ?it/s]"
      ]
     },
     "metadata": {},
     "output_type": "display_data"
    },
    {
     "name": "stdout",
     "output_type": "stream",
     "text": [
      "[\u001b[32mINFO    \u001b[0m]\u001b[32m None 1-order polynomial fit with the bayes method\u001b[0m\n",
      "[\u001b[32mINFO    \u001b[0m]\u001b[32m Saved fitted background to n9_bkg.h5\u001b[0m\n",
      "[\u001b[32mINFO    \u001b[0m]\u001b[32m Saved background to n9_bkg.h5\u001b[0m\n",
      "[\u001b[32mINFO    \u001b[0m]\u001b[32m Successfully restored fit from n9_bkg.h5\u001b[0m\n",
      "[\u001b[32mINFO    \u001b[0m]\u001b[32m Interval set to 10.0-12.0 for n9\u001b[0m\n"
     ]
    },
    {
     "data": {
      "application/vnd.jupyter.widget-view+json": {
       "model_id": "c0b09974b4c84b62968a864f64074b02",
       "version_major": 2,
       "version_minor": 0
      },
      "text/plain": [
       "Canvas(toolbar=Toolbar(toolitems=[('Home', 'Reset original view', 'home', 'home'), ('Back', 'Back to previous …"
      ]
     },
     "metadata": {},
     "output_type": "display_data"
    },
    {
     "name": "stdout",
     "output_type": "stream",
     "text": [
      "[\u001b[32mINFO    \u001b[0m]\u001b[32m Auto-probed noise models:\u001b[0m\n",
      "[\u001b[32mINFO    \u001b[0m]\u001b[32m - observation: poisson\u001b[0m\n",
      "[\u001b[32mINFO    \u001b[0m]\u001b[32m - background: gaussian\u001b[0m\n",
      "[\u001b[32mINFO    \u001b[0m]\u001b[32m Range 9-900 translates to channels 5-124\u001b[0m\n",
      "[\u001b[32mINFO    \u001b[0m]\u001b[32m Now using 120 bins\u001b[0m\n"
     ]
    },
    {
     "data": {
      "application/vnd.jupyter.widget-view+json": {
       "model_id": "6cb644bc4235402db58c97f263fa0c2c",
       "version_major": 2,
       "version_minor": 0
      },
      "text/plain": [
       "Loading PHAII Spectra:   0%|          | 0/2835 [00:00<?, ?it/s]"
      ]
     },
     "metadata": {},
     "output_type": "display_data"
    },
    {
     "data": {
      "application/vnd.jupyter.widget-view+json": {
       "model_id": "a77d2393a70546e59716c78261a32b29",
       "version_major": 2,
       "version_minor": 0
      },
      "text/plain": [
       "Finding best polynomial Order:   0%|          | 0/5 [00:00<?, ?it/s]"
      ]
     },
     "metadata": {},
     "output_type": "display_data"
    },
    {
     "name": "stdout",
     "output_type": "stream",
     "text": [
      "[\u001b[32mINFO    \u001b[0m]\u001b[32m Auto-determined polynomial order: 0\u001b[0m\n"
     ]
    },
    {
     "data": {
      "application/vnd.jupyter.widget-view+json": {
       "model_id": "c95ee33c6fd94ee1a938d38d9a680207",
       "version_major": 2,
       "version_minor": 0
      },
      "text/plain": [
       "Fitting GBM_BGO_01 background:   0%|          | 0/128 [00:00<?, ?it/s]"
      ]
     },
     "metadata": {},
     "output_type": "display_data"
    },
    {
     "name": "stdout",
     "output_type": "stream",
     "text": [
      "[\u001b[32mINFO    \u001b[0m]\u001b[32m None 0-order polynomial fit with the bayes method\u001b[0m\n",
      "[\u001b[32mINFO    \u001b[0m]\u001b[32m Saved fitted background to b1_bkg.h5\u001b[0m\n",
      "[\u001b[32mINFO    \u001b[0m]\u001b[32m Saved background to b1_bkg.h5\u001b[0m\n",
      "[\u001b[32mINFO    \u001b[0m]\u001b[32m Successfully restored fit from b1_bkg.h5\u001b[0m\n",
      "[\u001b[32mINFO    \u001b[0m]\u001b[32m Interval set to 10.0-12.0 for b1\u001b[0m\n"
     ]
    },
    {
     "data": {
      "application/vnd.jupyter.widget-view+json": {
       "model_id": "b850c76c3a724e549ffeeb1b371c5e9a",
       "version_major": 2,
       "version_minor": 0
      },
      "text/plain": [
       "Canvas(toolbar=Toolbar(toolitems=[('Home', 'Reset original view', 'home', 'home'), ('Back', 'Back to previous …"
      ]
     },
     "metadata": {},
     "output_type": "display_data"
    },
    {
     "name": "stdout",
     "output_type": "stream",
     "text": [
      "[\u001b[32mINFO    \u001b[0m]\u001b[32m Auto-probed noise models:\u001b[0m\n",
      "[\u001b[32mINFO    \u001b[0m]\u001b[32m - observation: poisson\u001b[0m\n",
      "[\u001b[32mINFO    \u001b[0m]\u001b[32m - background: gaussian\u001b[0m\n",
      "[\u001b[32mINFO    \u001b[0m]\u001b[32m Range 250-30000 translates to channels 4-119\u001b[0m\n",
      "[\u001b[32mINFO    \u001b[0m]\u001b[32m Now using 116 bins\u001b[0m\n"
     ]
    }
   ],
   "source": [
    "fluence_plugins = []\n",
    "time_series = {}\n",
    "\n",
    "bkg_pre = -0.5\n",
    "bkg_post = 60.\n",
    "\n",
    "src_start = 10.\n",
    "src_stop = 12.\n",
    "\n",
    "\n",
    "background_interval = [f\"{float(bkg_pre - 20)}-{float(bkg_pre)}\", f\"{float(bkg_post)}-{float(bkg_post +50)}\"]\n",
    "source_interval = f\"{float(src_start)}-{float(src_stop)}\"\n",
    "\n",
    "\n",
    "\n",
    "for det in dets:\n",
    "\n",
    "    \n",
    "    ts_cspec = TimeSeriesBuilder.from_gbm_cspec_or_ctime(\n",
    "        det,\n",
    "        cspec_or_ctime_file=gbm_dl[det][\"cspec\"],\n",
    "        rsp_file=gbm_dl[det][\"rsp\"], verbose=False\n",
    "    )\n",
    "\n",
    "    ts_cspec.set_background_interval(*background_interval)\n",
    "    ts_cspec.save_background(f\"{det}_bkg.h5\", overwrite=True)\n",
    "\n",
    "    ts_tte = TimeSeriesBuilder.from_gbm_tte(\n",
    "        det,\n",
    "        tte_file=gbm_dl[det][\"tte\"],\n",
    "        rsp_file=gbm_dl[det][\"rsp\"],\n",
    "        restore_background=f\"{det}_bkg.h5\",\n",
    "        verbose=False\n",
    "    )\n",
    "    \n",
    "    time_series[det] = ts_tte\n",
    "\n",
    "    ts_tte.set_active_time_interval(source_interval)\n",
    "\n",
    "    ts_tte.view_lightcurve(bkg_pre, bkg_post)\n",
    "    \n",
    "    fluence_plugin = ts_tte.to_spectrumlike()\n",
    "    \n",
    "    if det.startswith(\"b\"):\n",
    "        \n",
    "        fluence_plugin.set_active_measurements(\"250-30000\")\n",
    "    \n",
    "    else:\n",
    "        \n",
    "        fluence_plugin.set_active_measurements(\"9-900\")\n",
    "    \n",
    "    fluence_plugin.rebin_on_background(1.)\n",
    "    \n",
    "    fluence_plugins.append(fluence_plugin)"
   ]
  },
  {
   "cell_type": "code",
   "execution_count": 7,
   "id": "c6b3370d-5e2e-4f9e-89e1-9d3ee27a8a31",
   "metadata": {},
   "outputs": [
    {
     "name": "stdout",
     "output_type": "stream",
     "text": [
      "[\u001b[32mINFO    \u001b[0m]\u001b[32m file gll_cspec_bn141028455_v03.pha is already downloaded!\u001b[0m\n",
      "[\u001b[32mINFO    \u001b[0m]\u001b[32m file gll_cspec_bn141028455_v03.rsp is already downloaded!\u001b[0m\n",
      "[\u001b[32mINFO    \u001b[0m]\u001b[32m file gll_lle_bn141028455_v03.fit is already downloaded!\u001b[0m\n",
      "[\u001b[32mINFO    \u001b[0m]\u001b[32m file gll_pt_bn141028455_v03.fit is already downloaded!\u001b[0m\n"
     ]
    }
   ],
   "source": [
    "lle_dl = download_LLE_trigger_data(\"GRB141028455\")"
   ]
  },
  {
   "cell_type": "code",
   "execution_count": 8,
   "id": "b9638c8f-623a-432a-bfc9-3274698c8c21",
   "metadata": {},
   "outputs": [],
   "source": [
    "lle_ts = TimeSeriesBuilder.from_lat_lle(\"lle\", lle_file=lle_dl[\"lle\"], ft2_file=lle_dl[\"ft2\"],rsp_file=lle_dl[\"rsp\"])"
   ]
  },
  {
   "cell_type": "code",
   "execution_count": 9,
   "id": "1fc31d7f-86ef-4964-a08f-ed95fbacee43",
   "metadata": {},
   "outputs": [
    {
     "data": {
      "application/vnd.jupyter.widget-view+json": {
       "model_id": "71031fa9270447e8b054addfcf08ef01",
       "version_major": 2,
       "version_minor": 0
      },
      "text/plain": [
       "Finding best polynomial Order:   0%|          | 0/5 [00:00<?, ?it/s]"
      ]
     },
     "metadata": {},
     "output_type": "display_data"
    },
    {
     "name": "stdout",
     "output_type": "stream",
     "text": [
      "[\u001b[32mINFO    \u001b[0m]\u001b[32m Auto-determined polynomial order: 0\u001b[0m\n"
     ]
    },
    {
     "data": {
      "application/vnd.jupyter.widget-view+json": {
       "model_id": "99f643a67b1d46768d97df56851c78aa",
       "version_major": 2,
       "version_minor": 0
      },
      "text/plain": [
       "Fitting GLAST_LLE background:   0%|          | 0/50 [00:00<?, ?it/s]"
      ]
     },
     "metadata": {},
     "output_type": "display_data"
    },
    {
     "name": "stdout",
     "output_type": "stream",
     "text": [
      "[\u001b[32mINFO    \u001b[0m]\u001b[32m None 0-order polynomial fit with the bayes method\u001b[0m\n"
     ]
    }
   ],
   "source": [
    "lle_ts.set_background_interval(\"-20--1\", \"50-100\")"
   ]
  },
  {
   "cell_type": "code",
   "execution_count": 10,
   "id": "d2147f9e-330f-4900-a5e9-67665bbe3ca1",
   "metadata": {},
   "outputs": [
    {
     "name": "stdout",
     "output_type": "stream",
     "text": [
      "[\u001b[32mINFO    \u001b[0m]\u001b[32m Interval set to 10.0-12.0 for lle\u001b[0m\n"
     ]
    },
    {
     "data": {
      "application/vnd.jupyter.widget-view+json": {
       "model_id": "2fe5b265f0c345dd8558367c4c900cc9",
       "version_major": 2,
       "version_minor": 0
      },
      "text/plain": [
       "Canvas(toolbar=Toolbar(toolitems=[('Home', 'Reset original view', 'home', 'home'), ('Back', 'Back to previous …"
      ]
     },
     "metadata": {},
     "output_type": "display_data"
    },
    {
     "name": "stdout",
     "output_type": "stream",
     "text": [
      "[\u001b[32mINFO    \u001b[0m]\u001b[32m Auto-probed noise models:\u001b[0m\n",
      "[\u001b[32mINFO    \u001b[0m]\u001b[32m - observation: poisson\u001b[0m\n",
      "[\u001b[32mINFO    \u001b[0m]\u001b[32m - background: gaussian\u001b[0m\n",
      "[\u001b[32mINFO    \u001b[0m]\u001b[32m Range 50000-100000 translates to channels 8-12\u001b[0m\n"
     ]
    }
   ],
   "source": [
    "lle_ts.set_active_time_interval(source_interval)\n",
    "\n",
    "lle_ts.view_lightcurve(-10,100)\n",
    "\n",
    "\n",
    "\n",
    "lle = lle_ts.to_spectrumlike()\n",
    "\n",
    "\n",
    "lle.set_active_measurements(\"50000-100000\")"
   ]
  },
  {
   "cell_type": "code",
   "execution_count": 18,
   "id": "39661e1e-db50-400d-b037-91ce65472c2b",
   "metadata": {},
   "outputs": [],
   "source": [
    "fluence_plugins.append(lle)"
   ]
  },
  {
   "cell_type": "code",
   "execution_count": 19,
   "id": "cd9fdbf6-7a32-4ca6-9816-cbaa0e50b7ad",
   "metadata": {},
   "outputs": [],
   "source": [
    "datalist = DataList(*fluence_plugins)"
   ]
  },
  {
   "cell_type": "markdown",
   "id": "67990c12-c5d5-4673-905b-1589e392d6a4",
   "metadata": {
    "tags": []
   },
   "source": [
    "# Setup models"
   ]
  },
  {
   "cell_type": "markdown",
   "id": "87487416-3db1-4d8d-ba4d-871089e428dc",
   "metadata": {
    "tags": []
   },
   "source": [
    "## Pitch angle synchrotron \n",
    "\n",
    "The new model from Sobacchi, Sironi, and Beloborodov (from now on the SSB model *not* to be confused with the SSC model!)"
   ]
  },
  {
   "cell_type": "code",
   "execution_count": 20,
   "id": "f646ac91-f51d-42d4-b03f-4d4aedd35980",
   "metadata": {},
   "outputs": [
    {
     "data": {
      "application/vnd.jupyter.widget-view+json": {
       "model_id": "63650e8756ef4c3fb9fc1bce7a32923c",
       "version_major": 2,
       "version_minor": 0
      },
      "text/plain": [
       "Canvas(toolbar=Toolbar(toolitems=[('Home', 'Reset original view', 'home', 'home'), ('Back', 'Back to previous …"
      ]
     },
     "metadata": {},
     "output_type": "display_data"
    },
    {
     "data": {
      "text/plain": [
       "[<matplotlib.lines.Line2D at 0x1289356d0>]"
      ]
     },
     "execution_count": 20,
     "metadata": {},
     "output_type": "execute_result"
    }
   ],
   "source": [
    "# get parameters correct\n",
    "\n",
    "pa = PitchAngleSynchrotron()\n",
    "pa.gamma_inj.fix = True\n",
    "\n",
    "xgrid = np.geomspace(10, 1e4, 500)\n",
    "\n",
    "\n",
    "fig, ax = plt.subplots()\n",
    "pa.gamma_inj =1e4\n",
    "pa.gamma_min =1\n",
    "pa.B = 5e2\n",
    "\n",
    "pa.gamma_cool = 5000\n",
    "\n",
    "\n",
    "ax.loglog(xgrid, xgrid**2 * pa(xgrid))\n",
    "\n"
   ]
  },
  {
   "cell_type": "code",
   "execution_count": 28,
   "id": "4c46d3b0-b8c5-4c9e-b017-fcf686a4a872",
   "metadata": {},
   "outputs": [],
   "source": [
    "# set priors and make model\n",
    "\n",
    "\n",
    "pa.gamma_min = pa.gamma_inj.value * 1e-2\n",
    "\n",
    "\n",
    "pa.gamma_cool.prior = Log_uniform_prior(lower_bound=pa.gamma_min.value, upper_bound=pa.gamma_inj.value)\n",
    "pa.B.prior = Log_normal(mu = np.log(1.e4), sigma=np.log(1.e2))\n",
    "pa.index.prior = Truncated_gaussian(lower_bound=1., upper_bound=7., mu=3., sigma=1.)\n",
    "pa.K.prior = Log_normal(mu = np.log(1e16), sigma=np.log(1e2))\n",
    "pa.K=1e10\n",
    "\n",
    "pa.index.bounds = (1, None)\n",
    "pa.B.bounds = (0, None)\n",
    "\n",
    "\n",
    "pa.gamma_cool = 1e2\n",
    "\n",
    "\n",
    "\n",
    "ps_pa = PointSource(\"pa\",0,0, spectral_shape=pa)\n",
    "\n",
    "model_pa = Model(ps_pa)\n",
    "\n"
   ]
  },
  {
   "cell_type": "markdown",
   "id": "cece3718-415c-410c-9d09-c51f7e03405a",
   "metadata": {
    "tags": []
   },
   "source": [
    "## Old school slow cooled synchrotron\n",
    "This is similiar to the model used in [Burgess et al 2014](https://iopscience.iop.org/article/10.1088/0004-637X/784/1/17)"
   ]
  },
  {
   "cell_type": "code",
   "execution_count": 22,
   "id": "db04b504-c01b-4c4d-8080-c8a2687840bf",
   "metadata": {},
   "outputs": [
    {
     "data": {
      "application/vnd.jupyter.widget-view+json": {
       "model_id": "c028fb547b0a4cda8b626db10f598491",
       "version_major": 2,
       "version_minor": 0
      },
      "text/plain": [
       "Canvas(toolbar=Toolbar(toolitems=[('Home', 'Reset original view', 'home', 'home'), ('Back', 'Back to previous …"
      ]
     },
     "metadata": {},
     "output_type": "display_data"
    },
    {
     "data": {
      "text/plain": [
       "[<matplotlib.lines.Line2D at 0x128a7f6a0>]"
      ]
     },
     "execution_count": 22,
     "metadata": {},
     "output_type": "execute_result"
    }
   ],
   "source": [
    "# get parameters right\n",
    "\n",
    "ss = SlowCoolingSynchrotron()\n",
    "ss.gamma_inj.fix = True\n",
    "\n",
    "xgrid = np.geomspace(10, 1e4, 500)\n",
    "\n",
    "\n",
    "fig, ax = plt.subplots()\n",
    "ss.gamma_inj =1e4\n",
    "ss.B = 5e2\n",
    "ss.index= 4.\n",
    "\n",
    "\n",
    "\n",
    "ax.loglog(xgrid, xgrid**2 * ss(xgrid))\n",
    "\n"
   ]
  },
  {
   "cell_type": "code",
   "execution_count": 23,
   "id": "51a7548b-b40f-4b5f-a3de-7943ffaf0fb9",
   "metadata": {},
   "outputs": [],
   "source": [
    "# setup priors\n",
    "\n",
    "ss.B.prior = Log_normal(mu = np.log(1.e4), sigma=np.log(1.e2))\n",
    "ss.index.prior = Truncated_gaussian(lower_bound=1., upper_bound=7., mu=3., sigma=1.)\n",
    "ss.K.prior = Log_normal(mu = np.log(1e16), sigma=np.log(1e2))\n",
    "ss.K=1e10\n",
    "\n",
    "ss.index.bounds = (1, None)\n",
    "ss.B.bounds = (0, None)\n",
    "\n",
    "\n",
    "\n",
    "ps_ss = PointSource(\"ss\",0,0, spectral_shape=ss)\n",
    "\n",
    "model_ss = Model(ps_ss)\n"
   ]
  },
  {
   "cell_type": "markdown",
   "id": "c1377fc9-0415-4af0-82b4-609529840009",
   "metadata": {
    "tags": []
   },
   "source": [
    "## Time-dependent synchrotron \n",
    "\n",
    "This is the model that solves the Fokker-Plank equation and integrates the synchrotron emission from each time step [Burgess et al 2020](https://www.nature.com/articles/s41550-019-0911-z)\n"
   ]
  },
  {
   "cell_type": "code",
   "execution_count": 36,
   "id": "a345c542-bcec-4f83-83a6-575544b1bbff",
   "metadata": {},
   "outputs": [],
   "source": [
    "sn = SynchrotronNumerical()\n",
    "\n",
    "sn.K.prior =Log_normal(mu = np.log(1.e-5), sigma=np.log(1.e2))\n",
    "sn.gamma_max.fix=True\n",
    "sn.gamma_min = 1e5\n",
    "sn.gamma_min.fix = True\n",
    "sn.gamma_cool.prior = Log_uniform_prior(lower_bound=1e4, upper_bound=sn.gamma_max.value)\n",
    "sn.B.prior = Log_normal(mu = np.log(1.e3), sigma=np.log(1.e2))\n",
    "\n",
    "sn.index.prior = Truncated_gaussian(lower_bound=1., upper_bound=10, mu=3.5, sigma=1)\n",
    "sn.index.bounds = (None, None)\n",
    "\n",
    "sn.B.bounds = (0, None)\n",
    "\n",
    "\n",
    "\n",
    "ps_sn = PointSource(\"sn\",0,0, spectral_shape=sn)\n",
    "\n",
    "model_sn = Model(ps_sn)\n",
    "\n"
   ]
  },
  {
   "cell_type": "markdown",
   "id": "467f8a68-901f-4a9d-be84-a4fb5fc034f6",
   "metadata": {},
   "source": [
    "# Fitting\n",
    "\n",
    "Now we fit each model"
   ]
  },
  {
   "cell_type": "markdown",
   "id": "1a23cdc0-fdaa-4793-b0b2-42a1cdcb9301",
   "metadata": {
    "tags": []
   },
   "source": [
    "## pitch angle synchrotron"
   ]
  },
  {
   "cell_type": "code",
   "execution_count": 29,
   "id": "8648490a-c3b2-45b6-89c2-907f5036495d",
   "metadata": {},
   "outputs": [],
   "source": [
    "bayes = BayesianAnalysis(model_pa, datalist);"
   ]
  },
  {
   "cell_type": "code",
   "execution_count": 30,
   "id": "9dde2f4b-bc03-4bec-8b35-b80840f7f3f8",
   "metadata": {},
   "outputs": [
    {
     "name": "stdout",
     "output_type": "stream",
     "text": [
      "[\u001b[32mINFO    \u001b[0m]\u001b[32m sampler set to multinest\u001b[0m\n"
     ]
    }
   ],
   "source": [
    "bayes.set_sampler(\"multinest\", share_spectrum=True)"
   ]
  },
  {
   "cell_type": "code",
   "execution_count": 31,
   "id": "d6ee9e7b-7c8a-4fed-a2e9-79e9f9184838",
   "metadata": {},
   "outputs": [],
   "source": [
    "bayes.sampler.setup(resume=False, n_live_points=700)"
   ]
  },
  {
   "cell_type": "code",
   "execution_count": 32,
   "id": "409e9292-d43a-48a4-b91b-1acd0e519a10",
   "metadata": {
    "tags": []
   },
   "outputs": [
    {
     "name": "stdout",
     "output_type": "stream",
     "text": [
      "  analysing data from chains/fit-.txt\n",
      "Maximum a posteriori probability (MAP) point:\n",
      "\n"
     ]
    },
    {
     "data": {
      "text/html": [
       "<div>\n",
       "<style scoped>\n",
       "    .dataframe tbody tr th:only-of-type {\n",
       "        vertical-align: middle;\n",
       "    }\n",
       "\n",
       "    .dataframe tbody tr th {\n",
       "        vertical-align: top;\n",
       "    }\n",
       "\n",
       "    .dataframe thead th {\n",
       "        text-align: right;\n",
       "    }\n",
       "</style>\n",
       "<table border=\"1\" class=\"dataframe\">\n",
       "  <thead>\n",
       "    <tr style=\"text-align: right;\">\n",
       "      <th></th>\n",
       "      <th>result</th>\n",
       "      <th>unit</th>\n",
       "    </tr>\n",
       "    <tr>\n",
       "      <th>parameter</th>\n",
       "      <th></th>\n",
       "      <th></th>\n",
       "    </tr>\n",
       "  </thead>\n",
       "  <tbody>\n",
       "    <tr>\n",
       "      <th>pa.spectrum.main.PitchAngleSynchrotron.K</th>\n",
       "      <td>(4.5 -4 -0.6) x 10^16</td>\n",
       "      <td>1 / (cm2 keV s)</td>\n",
       "    </tr>\n",
       "    <tr>\n",
       "      <th>pa.spectrum.main.PitchAngleSynchrotron.B</th>\n",
       "      <td>(1.16 -0.15 +0.16) x 10^4</td>\n",
       "      <td>G</td>\n",
       "    </tr>\n",
       "    <tr>\n",
       "      <th>pa.spectrum.main.PitchAngleSynchrotron.index</th>\n",
       "      <td>3.81 -0.21 +0.22</td>\n",
       "      <td></td>\n",
       "    </tr>\n",
       "    <tr>\n",
       "      <th>pa.spectrum.main.PitchAngleSynchrotron.gamma_cool</th>\n",
       "      <td>(8.5 -1.1 +1.0) x 10^3</td>\n",
       "      <td></td>\n",
       "    </tr>\n",
       "  </tbody>\n",
       "</table>\n",
       "</div>"
      ],
      "text/plain": [
       "                                                                      result  \\\n",
       "parameter                                                                      \n",
       "pa.spectrum.main.PitchAngleSynchrotron.K               (4.5 -4 -0.6) x 10^16   \n",
       "pa.spectrum.main.PitchAngleSynchrotron.B           (1.16 -0.15 +0.16) x 10^4   \n",
       "pa.spectrum.main.PitchAngleSynchrotron.index                3.81 -0.21 +0.22   \n",
       "pa.spectrum.main.PitchAngleSynchrotron.gamma_cool     (8.5 -1.1 +1.0) x 10^3   \n",
       "\n",
       "                                                              unit  \n",
       "parameter                                                           \n",
       "pa.spectrum.main.PitchAngleSynchrotron.K           1 / (cm2 keV s)  \n",
       "pa.spectrum.main.PitchAngleSynchrotron.B                         G  \n",
       "pa.spectrum.main.PitchAngleSynchrotron.index                        \n",
       "pa.spectrum.main.PitchAngleSynchrotron.gamma_cool                   "
      ]
     },
     "metadata": {},
     "output_type": "display_data"
    },
    {
     "name": "stdout",
     "output_type": "stream",
     "text": [
      "\n",
      "Values of -log(posterior) at the minimum:\n",
      "\n"
     ]
    },
    {
     "data": {
      "text/html": [
       "<div>\n",
       "<style scoped>\n",
       "    .dataframe tbody tr th:only-of-type {\n",
       "        vertical-align: middle;\n",
       "    }\n",
       "\n",
       "    .dataframe tbody tr th {\n",
       "        vertical-align: top;\n",
       "    }\n",
       "\n",
       "    .dataframe thead th {\n",
       "        text-align: right;\n",
       "    }\n",
       "</style>\n",
       "<table border=\"1\" class=\"dataframe\">\n",
       "  <thead>\n",
       "    <tr style=\"text-align: right;\">\n",
       "      <th></th>\n",
       "      <th>-log(posterior)</th>\n",
       "    </tr>\n",
       "  </thead>\n",
       "  <tbody>\n",
       "    <tr>\n",
       "      <th>b1</th>\n",
       "      <td>-358.064520</td>\n",
       "    </tr>\n",
       "    <tr>\n",
       "      <th>lle</th>\n",
       "      <td>-28.595246</td>\n",
       "    </tr>\n",
       "    <tr>\n",
       "      <th>n6</th>\n",
       "      <td>-493.741542</td>\n",
       "    </tr>\n",
       "    <tr>\n",
       "      <th>n7</th>\n",
       "      <td>-424.010223</td>\n",
       "    </tr>\n",
       "    <tr>\n",
       "      <th>n9</th>\n",
       "      <td>-480.934952</td>\n",
       "    </tr>\n",
       "    <tr>\n",
       "      <th>total</th>\n",
       "      <td>-1785.346483</td>\n",
       "    </tr>\n",
       "  </tbody>\n",
       "</table>\n",
       "</div>"
      ],
      "text/plain": [
       "       -log(posterior)\n",
       "b1         -358.064520\n",
       "lle         -28.595246\n",
       "n6         -493.741542\n",
       "n7         -424.010223\n",
       "n9         -480.934952\n",
       "total     -1785.346483"
      ]
     },
     "metadata": {},
     "output_type": "display_data"
    },
    {
     "name": "stdout",
     "output_type": "stream",
     "text": [
      "\n",
      "Values of statistical measures:\n",
      "\n"
     ]
    },
    {
     "data": {
      "text/html": [
       "<div>\n",
       "<style scoped>\n",
       "    .dataframe tbody tr th:only-of-type {\n",
       "        vertical-align: middle;\n",
       "    }\n",
       "\n",
       "    .dataframe tbody tr th {\n",
       "        vertical-align: top;\n",
       "    }\n",
       "\n",
       "    .dataframe thead th {\n",
       "        text-align: right;\n",
       "    }\n",
       "</style>\n",
       "<table border=\"1\" class=\"dataframe\">\n",
       "  <thead>\n",
       "    <tr style=\"text-align: right;\">\n",
       "      <th></th>\n",
       "      <th>statistical measures</th>\n",
       "    </tr>\n",
       "  </thead>\n",
       "  <tbody>\n",
       "    <tr>\n",
       "      <th>AIC</th>\n",
       "      <td>3578.777000</td>\n",
       "    </tr>\n",
       "    <tr>\n",
       "      <th>BIC</th>\n",
       "      <td>3595.396435</td>\n",
       "    </tr>\n",
       "    <tr>\n",
       "      <th>DIC</th>\n",
       "      <td>-71070.797442</td>\n",
       "    </tr>\n",
       "    <tr>\n",
       "      <th>PDIC</th>\n",
       "      <td>-74443.169930</td>\n",
       "    </tr>\n",
       "    <tr>\n",
       "      <th>log(Z)</th>\n",
       "      <td>-726.008719</td>\n",
       "    </tr>\n",
       "  </tbody>\n",
       "</table>\n",
       "</div>"
      ],
      "text/plain": [
       "        statistical measures\n",
       "AIC              3578.777000\n",
       "BIC              3595.396435\n",
       "DIC            -71070.797442\n",
       "PDIC           -74443.169930\n",
       "log(Z)           -726.008719"
      ]
     },
     "metadata": {},
     "output_type": "display_data"
    }
   ],
   "source": [
    "bayes.sample(quiet=False);"
   ]
  },
  {
   "cell_type": "code",
   "execution_count": 33,
   "id": "2f58eeed-c2d6-4c7c-b130-1ae631f2edaf",
   "metadata": {
    "tags": []
   },
   "outputs": [
    {
     "data": {
      "application/vnd.jupyter.widget-view+json": {
       "model_id": "e3381464df144aab8a271063ae3d8714",
       "version_major": 2,
       "version_minor": 0
      },
      "text/plain": [
       "Canvas(toolbar=Toolbar(toolitems=[('Home', 'Reset original view', 'home', 'home'), ('Back', 'Back to previous …"
      ]
     },
     "metadata": {},
     "output_type": "display_data"
    }
   ],
   "source": [
    "#pa.K = 1E15\n",
    "bayes.restore_median_fit()\n",
    "display_spectrum_model_counts(bayes);"
   ]
  },
  {
   "cell_type": "code",
   "execution_count": 34,
   "id": "f224435e-52b1-40bf-9f14-f39a240cf364",
   "metadata": {},
   "outputs": [],
   "source": [
    "pa_result = bayes.results"
   ]
  },
  {
   "cell_type": "code",
   "execution_count": 35,
   "id": "83859d60-19e1-4d28-a10b-24748f60bd78",
   "metadata": {},
   "outputs": [
    {
     "data": {
      "application/vnd.jupyter.widget-view+json": {
       "model_id": "dccc04119d7c462892c6ef78b1b14594",
       "version_major": 2,
       "version_minor": 0
      },
      "text/plain": [
       "Canvas(toolbar=Toolbar(toolitems=[('Home', 'Reset original view', 'home', 'home'), ('Back', 'Back to previous …"
      ]
     },
     "metadata": {},
     "output_type": "display_data"
    }
   ],
   "source": [
    "pa_result.corner_plot();"
   ]
  },
  {
   "cell_type": "markdown",
   "id": "6f1bbe2c-00a6-4b19-9b50-8598f56e9444",
   "metadata": {
    "heading_collapsed": "true",
    "tags": []
   },
   "source": [
    "## old school synchrotron "
   ]
  },
  {
   "cell_type": "code",
   "execution_count": 24,
   "id": "11856644-5f9c-4634-8963-79b6ecfa8e46",
   "metadata": {
    "tags": []
   },
   "outputs": [
    {
     "name": "stdout",
     "output_type": "stream",
     "text": [
      "[\u001b[32mINFO    \u001b[0m]\u001b[32m sampler set to multinest\u001b[0m\n",
      "  analysing data from chains/fit-.txt\n",
      "Maximum a posteriori probability (MAP) point:\n",
      "\n"
     ]
    },
    {
     "data": {
      "text/html": [
       "<div>\n",
       "<style scoped>\n",
       "    .dataframe tbody tr th:only-of-type {\n",
       "        vertical-align: middle;\n",
       "    }\n",
       "\n",
       "    .dataframe tbody tr th {\n",
       "        vertical-align: top;\n",
       "    }\n",
       "\n",
       "    .dataframe thead th {\n",
       "        text-align: right;\n",
       "    }\n",
       "</style>\n",
       "<table border=\"1\" class=\"dataframe\">\n",
       "  <thead>\n",
       "    <tr style=\"text-align: right;\">\n",
       "      <th></th>\n",
       "      <th>result</th>\n",
       "      <th>unit</th>\n",
       "    </tr>\n",
       "    <tr>\n",
       "      <th>parameter</th>\n",
       "      <th></th>\n",
       "      <th></th>\n",
       "    </tr>\n",
       "  </thead>\n",
       "  <tbody>\n",
       "    <tr>\n",
       "      <th>ss.spectrum.main.SlowCoolingSynchrotron.K</th>\n",
       "      <td>(1.5 -1.2 +0.5) x 10^13</td>\n",
       "      <td>1 / (cm2 keV s)</td>\n",
       "    </tr>\n",
       "    <tr>\n",
       "      <th>ss.spectrum.main.SlowCoolingSynchrotron.B</th>\n",
       "      <td>(10.0 -0.6 +0.5) x 10^2</td>\n",
       "      <td>G</td>\n",
       "    </tr>\n",
       "    <tr>\n",
       "      <th>ss.spectrum.main.SlowCoolingSynchrotron.index</th>\n",
       "      <td>3.85 +/- 0.11</td>\n",
       "      <td></td>\n",
       "    </tr>\n",
       "  </tbody>\n",
       "</table>\n",
       "</div>"
      ],
      "text/plain": [
       "                                                                result  \\\n",
       "parameter                                                                \n",
       "ss.spectrum.main.SlowCoolingSynchrotron.K      (1.5 -1.2 +0.5) x 10^13   \n",
       "ss.spectrum.main.SlowCoolingSynchrotron.B      (10.0 -0.6 +0.5) x 10^2   \n",
       "ss.spectrum.main.SlowCoolingSynchrotron.index            3.85 +/- 0.11   \n",
       "\n",
       "                                                          unit  \n",
       "parameter                                                       \n",
       "ss.spectrum.main.SlowCoolingSynchrotron.K      1 / (cm2 keV s)  \n",
       "ss.spectrum.main.SlowCoolingSynchrotron.B                    G  \n",
       "ss.spectrum.main.SlowCoolingSynchrotron.index                   "
      ]
     },
     "metadata": {},
     "output_type": "display_data"
    },
    {
     "name": "stdout",
     "output_type": "stream",
     "text": [
      "\n",
      "Values of -log(posterior) at the minimum:\n",
      "\n"
     ]
    },
    {
     "data": {
      "text/html": [
       "<div>\n",
       "<style scoped>\n",
       "    .dataframe tbody tr th:only-of-type {\n",
       "        vertical-align: middle;\n",
       "    }\n",
       "\n",
       "    .dataframe tbody tr th {\n",
       "        vertical-align: top;\n",
       "    }\n",
       "\n",
       "    .dataframe thead th {\n",
       "        text-align: right;\n",
       "    }\n",
       "</style>\n",
       "<table border=\"1\" class=\"dataframe\">\n",
       "  <thead>\n",
       "    <tr style=\"text-align: right;\">\n",
       "      <th></th>\n",
       "      <th>-log(posterior)</th>\n",
       "    </tr>\n",
       "  </thead>\n",
       "  <tbody>\n",
       "    <tr>\n",
       "      <th>b1</th>\n",
       "      <td>-340.152341</td>\n",
       "    </tr>\n",
       "    <tr>\n",
       "      <th>lle</th>\n",
       "      <td>-22.143001</td>\n",
       "    </tr>\n",
       "    <tr>\n",
       "      <th>n6</th>\n",
       "      <td>-450.499440</td>\n",
       "    </tr>\n",
       "    <tr>\n",
       "      <th>n7</th>\n",
       "      <td>-408.302049</td>\n",
       "    </tr>\n",
       "    <tr>\n",
       "      <th>n9</th>\n",
       "      <td>-443.661319</td>\n",
       "    </tr>\n",
       "    <tr>\n",
       "      <th>total</th>\n",
       "      <td>-1664.758151</td>\n",
       "    </tr>\n",
       "  </tbody>\n",
       "</table>\n",
       "</div>"
      ],
      "text/plain": [
       "       -log(posterior)\n",
       "b1         -340.152341\n",
       "lle         -22.143001\n",
       "n6         -450.499440\n",
       "n7         -408.302049\n",
       "n9         -443.661319\n",
       "total     -1664.758151"
      ]
     },
     "metadata": {},
     "output_type": "display_data"
    },
    {
     "name": "stdout",
     "output_type": "stream",
     "text": [
      "\n",
      "Values of statistical measures:\n",
      "\n"
     ]
    },
    {
     "data": {
      "text/html": [
       "<div>\n",
       "<style scoped>\n",
       "    .dataframe tbody tr th:only-of-type {\n",
       "        vertical-align: middle;\n",
       "    }\n",
       "\n",
       "    .dataframe tbody tr th {\n",
       "        vertical-align: top;\n",
       "    }\n",
       "\n",
       "    .dataframe thead th {\n",
       "        text-align: right;\n",
       "    }\n",
       "</style>\n",
       "<table border=\"1\" class=\"dataframe\">\n",
       "  <thead>\n",
       "    <tr style=\"text-align: right;\">\n",
       "      <th></th>\n",
       "      <th>statistical measures</th>\n",
       "    </tr>\n",
       "  </thead>\n",
       "  <tbody>\n",
       "    <tr>\n",
       "      <th>AIC</th>\n",
       "      <td>3335.566616</td>\n",
       "    </tr>\n",
       "    <tr>\n",
       "      <th>BIC</th>\n",
       "      <td>3348.043903</td>\n",
       "    </tr>\n",
       "    <tr>\n",
       "      <th>DIC</th>\n",
       "      <td>-1265.950950</td>\n",
       "    </tr>\n",
       "    <tr>\n",
       "      <th>PDIC</th>\n",
       "      <td>-4448.576416</td>\n",
       "    </tr>\n",
       "    <tr>\n",
       "      <th>log(Z)</th>\n",
       "      <td>-688.226295</td>\n",
       "    </tr>\n",
       "  </tbody>\n",
       "</table>\n",
       "</div>"
      ],
      "text/plain": [
       "        statistical measures\n",
       "AIC              3335.566616\n",
       "BIC              3348.043903\n",
       "DIC             -1265.950950\n",
       "PDIC            -4448.576416\n",
       "log(Z)           -688.226295"
      ]
     },
     "metadata": {},
     "output_type": "display_data"
    }
   ],
   "source": [
    "bayes = BayesianAnalysis(model_ss, datalist);\n",
    "\n",
    "bayes.set_sampler(\"multinest\", share_spectrum=True)\n",
    "\n",
    "bayes.sampler.setup(resume=False, n_live_points=700)\n",
    "\n",
    "bayes.sample(quiet=False);"
   ]
  },
  {
   "cell_type": "code",
   "execution_count": 25,
   "id": "4ffced8d-8ae9-4ed5-93e9-d6b6b572401b",
   "metadata": {},
   "outputs": [
    {
     "data": {
      "application/vnd.jupyter.widget-view+json": {
       "model_id": "147079b3985e4c22a87f8b6f23b39d36",
       "version_major": 2,
       "version_minor": 0
      },
      "text/plain": [
       "Canvas(toolbar=Toolbar(toolitems=[('Home', 'Reset original view', 'home', 'home'), ('Back', 'Back to previous …"
      ]
     },
     "metadata": {},
     "output_type": "display_data"
    }
   ],
   "source": [
    "#pa.K = 1E15\n",
    "bayes.restore_median_fit()\n",
    "display_spectrum_model_counts(bayes);"
   ]
  },
  {
   "cell_type": "code",
   "execution_count": 26,
   "id": "a52f62f8-b8ed-422a-84b6-e8a0a34df77d",
   "metadata": {},
   "outputs": [],
   "source": [
    "ss_result = bayes.results"
   ]
  },
  {
   "cell_type": "code",
   "execution_count": 27,
   "id": "3c40541d-5616-4b9d-b03a-f991b0e81425",
   "metadata": {},
   "outputs": [
    {
     "data": {
      "application/vnd.jupyter.widget-view+json": {
       "model_id": "8481b04ca15d4c3db10ad9d140626b76",
       "version_major": 2,
       "version_minor": 0
      },
      "text/plain": [
       "Canvas(toolbar=Toolbar(toolitems=[('Home', 'Reset original view', 'home', 'home'), ('Back', 'Back to previous …"
      ]
     },
     "metadata": {},
     "output_type": "display_data"
    }
   ],
   "source": [
    "ss_result.corner_plot();"
   ]
  },
  {
   "cell_type": "markdown",
   "id": "139c692e-ab24-491f-99d3-9568fb1e4185",
   "metadata": {},
   "source": [
    "## time-dependent synchrotron model"
   ]
  },
  {
   "cell_type": "code",
   "execution_count": 37,
   "id": "79085c95-8364-47b3-8718-40b2fc57c5e3",
   "metadata": {
    "tags": []
   },
   "outputs": [
    {
     "name": "stdout",
     "output_type": "stream",
     "text": [
      "[\u001b[32mINFO    \u001b[0m]\u001b[32m sampler set to multinest\u001b[0m\n",
      "  analysing data from chains/fit-.txt\n",
      "Maximum a posteriori probability (MAP) point:\n",
      "\n"
     ]
    },
    {
     "data": {
      "text/html": [
       "<div>\n",
       "<style scoped>\n",
       "    .dataframe tbody tr th:only-of-type {\n",
       "        vertical-align: middle;\n",
       "    }\n",
       "\n",
       "    .dataframe tbody tr th {\n",
       "        vertical-align: top;\n",
       "    }\n",
       "\n",
       "    .dataframe thead th {\n",
       "        text-align: right;\n",
       "    }\n",
       "</style>\n",
       "<table border=\"1\" class=\"dataframe\">\n",
       "  <thead>\n",
       "    <tr style=\"text-align: right;\">\n",
       "      <th></th>\n",
       "      <th>result</th>\n",
       "      <th>unit</th>\n",
       "    </tr>\n",
       "    <tr>\n",
       "      <th>parameter</th>\n",
       "      <th></th>\n",
       "      <th></th>\n",
       "    </tr>\n",
       "  </thead>\n",
       "  <tbody>\n",
       "    <tr>\n",
       "      <th>sn.spectrum.main.SynchrotronNumerical.K</th>\n",
       "      <td>(10 +/- 4) x 10^-6</td>\n",
       "      <td>1 / (cm2 G keV s)</td>\n",
       "    </tr>\n",
       "    <tr>\n",
       "      <th>sn.spectrum.main.SynchrotronNumerical.B</th>\n",
       "      <td>(1.13 -0.09 +0.07) x 10^3</td>\n",
       "      <td>G</td>\n",
       "    </tr>\n",
       "    <tr>\n",
       "      <th>sn.spectrum.main.SynchrotronNumerical.index</th>\n",
       "      <td>3.50 -0.24 +0.21</td>\n",
       "      <td></td>\n",
       "    </tr>\n",
       "    <tr>\n",
       "      <th>sn.spectrum.main.SynchrotronNumerical.gamma_cool</th>\n",
       "      <td>(5.7 -5 +2.6) x 10^6</td>\n",
       "      <td></td>\n",
       "    </tr>\n",
       "  </tbody>\n",
       "</table>\n",
       "</div>"
      ],
      "text/plain": [
       "                                                                     result  \\\n",
       "parameter                                                                     \n",
       "sn.spectrum.main.SynchrotronNumerical.K                  (10 +/- 4) x 10^-6   \n",
       "sn.spectrum.main.SynchrotronNumerical.B           (1.13 -0.09 +0.07) x 10^3   \n",
       "sn.spectrum.main.SynchrotronNumerical.index                3.50 -0.24 +0.21   \n",
       "sn.spectrum.main.SynchrotronNumerical.gamma_cool       (5.7 -5 +2.6) x 10^6   \n",
       "\n",
       "                                                               unit  \n",
       "parameter                                                            \n",
       "sn.spectrum.main.SynchrotronNumerical.K           1 / (cm2 G keV s)  \n",
       "sn.spectrum.main.SynchrotronNumerical.B                           G  \n",
       "sn.spectrum.main.SynchrotronNumerical.index                          \n",
       "sn.spectrum.main.SynchrotronNumerical.gamma_cool                     "
      ]
     },
     "metadata": {},
     "output_type": "display_data"
    },
    {
     "name": "stdout",
     "output_type": "stream",
     "text": [
      "\n",
      "Values of -log(posterior) at the minimum:\n",
      "\n"
     ]
    },
    {
     "data": {
      "text/html": [
       "<div>\n",
       "<style scoped>\n",
       "    .dataframe tbody tr th:only-of-type {\n",
       "        vertical-align: middle;\n",
       "    }\n",
       "\n",
       "    .dataframe tbody tr th {\n",
       "        vertical-align: top;\n",
       "    }\n",
       "\n",
       "    .dataframe thead th {\n",
       "        text-align: right;\n",
       "    }\n",
       "</style>\n",
       "<table border=\"1\" class=\"dataframe\">\n",
       "  <thead>\n",
       "    <tr style=\"text-align: right;\">\n",
       "      <th></th>\n",
       "      <th>-log(posterior)</th>\n",
       "    </tr>\n",
       "  </thead>\n",
       "  <tbody>\n",
       "    <tr>\n",
       "      <th>b1</th>\n",
       "      <td>-327.450744</td>\n",
       "    </tr>\n",
       "    <tr>\n",
       "      <th>lle</th>\n",
       "      <td>-9.595936</td>\n",
       "    </tr>\n",
       "    <tr>\n",
       "      <th>n6</th>\n",
       "      <td>-438.564787</td>\n",
       "    </tr>\n",
       "    <tr>\n",
       "      <th>n7</th>\n",
       "      <td>-395.791371</td>\n",
       "    </tr>\n",
       "    <tr>\n",
       "      <th>n9</th>\n",
       "      <td>-431.751776</td>\n",
       "    </tr>\n",
       "    <tr>\n",
       "      <th>total</th>\n",
       "      <td>-1603.154614</td>\n",
       "    </tr>\n",
       "  </tbody>\n",
       "</table>\n",
       "</div>"
      ],
      "text/plain": [
       "       -log(posterior)\n",
       "b1         -327.450744\n",
       "lle          -9.595936\n",
       "n6         -438.564787\n",
       "n7         -395.791371\n",
       "n9         -431.751776\n",
       "total     -1603.154614"
      ]
     },
     "metadata": {},
     "output_type": "display_data"
    },
    {
     "name": "stdout",
     "output_type": "stream",
     "text": [
      "\n",
      "Values of statistical measures:\n",
      "\n"
     ]
    },
    {
     "data": {
      "text/html": [
       "<div>\n",
       "<style scoped>\n",
       "    .dataframe tbody tr th:only-of-type {\n",
       "        vertical-align: middle;\n",
       "    }\n",
       "\n",
       "    .dataframe tbody tr th {\n",
       "        vertical-align: top;\n",
       "    }\n",
       "\n",
       "    .dataframe thead th {\n",
       "        text-align: right;\n",
       "    }\n",
       "</style>\n",
       "<table border=\"1\" class=\"dataframe\">\n",
       "  <thead>\n",
       "    <tr style=\"text-align: right;\">\n",
       "      <th></th>\n",
       "      <th>statistical measures</th>\n",
       "    </tr>\n",
       "  </thead>\n",
       "  <tbody>\n",
       "    <tr>\n",
       "      <th>AIC</th>\n",
       "      <td>3214.393262</td>\n",
       "    </tr>\n",
       "    <tr>\n",
       "      <th>BIC</th>\n",
       "      <td>3231.012698</td>\n",
       "    </tr>\n",
       "    <tr>\n",
       "      <th>DIC</th>\n",
       "      <td>2877.588636</td>\n",
       "    </tr>\n",
       "    <tr>\n",
       "      <th>PDIC</th>\n",
       "      <td>-281.017239</td>\n",
       "    </tr>\n",
       "    <tr>\n",
       "      <th>log(Z)</th>\n",
       "      <td>-687.665317</td>\n",
       "    </tr>\n",
       "  </tbody>\n",
       "</table>\n",
       "</div>"
      ],
      "text/plain": [
       "        statistical measures\n",
       "AIC              3214.393262\n",
       "BIC              3231.012698\n",
       "DIC              2877.588636\n",
       "PDIC             -281.017239\n",
       "log(Z)           -687.665317"
      ]
     },
     "metadata": {},
     "output_type": "display_data"
    }
   ],
   "source": [
    "bayes = BayesianAnalysis(model_sn, datalist);\n",
    "\n",
    "bayes.set_sampler(\"multinest\", share_spectrum=True)\n",
    "\n",
    "bayes.sampler.setup(resume=False, n_live_points=700)\n",
    "\n",
    "bayes.sample(quiet=False);"
   ]
  },
  {
   "cell_type": "code",
   "execution_count": 38,
   "id": "de9a4ca3-8f10-49b2-8c4b-58de46e399e2",
   "metadata": {
    "tags": []
   },
   "outputs": [
    {
     "data": {
      "application/vnd.jupyter.widget-view+json": {
       "model_id": "a7295349c2c54c6d803cbdc2bdbfe1fb",
       "version_major": 2,
       "version_minor": 0
      },
      "text/plain": [
       "Canvas(toolbar=Toolbar(toolitems=[('Home', 'Reset original view', 'home', 'home'), ('Back', 'Back to previous …"
      ]
     },
     "metadata": {},
     "output_type": "display_data"
    }
   ],
   "source": [
    "#pa.K = 1E15\n",
    "bayes.restore_median_fit()\n",
    "display_spectrum_model_counts(bayes);"
   ]
  },
  {
   "cell_type": "code",
   "execution_count": 41,
   "id": "4c651fb1-fd81-45ce-93b0-6e3064f081a2",
   "metadata": {},
   "outputs": [
    {
     "data": {
      "application/vnd.jupyter.widget-view+json": {
       "model_id": "be3ecddd9eff4967bb660cbf17208687",
       "version_major": 2,
       "version_minor": 0
      },
      "text/plain": [
       "Canvas(toolbar=Toolbar(toolitems=[('Home', 'Reset original view', 'home', 'home'), ('Back', 'Back to previous …"
      ]
     },
     "metadata": {},
     "output_type": "display_data"
    }
   ],
   "source": [
    "sn_result = bayes.results\n",
    "\n",
    "sn_result.corner_plot();"
   ]
  },
  {
   "cell_type": "markdown",
   "id": "8622fb0c-b37c-4416-abf5-2819388155d1",
   "metadata": {},
   "source": [
    "# examine fits\n",
    "\n",
    "\n",
    "Lets plot the model in $\\nu F_{\\nu}$ space and compare the fits"
   ]
  },
  {
   "cell_type": "code",
   "execution_count": 40,
   "id": "4306f588-450a-4819-ab03-92a23dc36396",
   "metadata": {},
   "outputs": [
    {
     "data": {
      "application/vnd.jupyter.widget-view+json": {
       "model_id": "e3faa3117370468c8e92bd5952a149f2",
       "version_major": 2,
       "version_minor": 0
      },
      "text/plain": [
       "processing MLE analyses: 0it [00:00, ?it/s]"
      ]
     },
     "metadata": {},
     "output_type": "display_data"
    },
    {
     "data": {
      "application/vnd.jupyter.widget-view+json": {
       "model_id": "c589b43ac67947dbbcb68549bbd26ba8",
       "version_major": 2,
       "version_minor": 0
      },
      "text/plain": [
       "processing Bayesian analyses:   0%|          | 0/3 [00:00<?, ?it/s]"
      ]
     },
     "metadata": {},
     "output_type": "display_data"
    },
    {
     "data": {
      "application/vnd.jupyter.widget-view+json": {
       "model_id": "dd398ece237b44b3943d4a2e9ac5b7c0",
       "version_major": 2,
       "version_minor": 0
      },
      "text/plain": [
       "Propagating errors:   0%|          | 0/100 [00:00<?, ?it/s]"
      ]
     },
     "metadata": {},
     "output_type": "display_data"
    },
    {
     "data": {
      "application/vnd.jupyter.widget-view+json": {
       "model_id": "632ab458c51c46a496f68df77ae4c800",
       "version_major": 2,
       "version_minor": 0
      },
      "text/plain": [
       "Propagating errors:   0%|          | 0/100 [00:00<?, ?it/s]"
      ]
     },
     "metadata": {},
     "output_type": "display_data"
    },
    {
     "data": {
      "application/vnd.jupyter.widget-view+json": {
       "model_id": "dfaf226aa6714be1a133787b210b49d3",
       "version_major": 2,
       "version_minor": 0
      },
      "text/plain": [
       "Propagating errors:   0%|          | 0/100 [00:00<?, ?it/s]"
      ]
     },
     "metadata": {},
     "output_type": "display_data"
    },
    {
     "data": {
      "application/vnd.jupyter.widget-view+json": {
       "model_id": "979afc18f68e4ec1a662461e36beed15",
       "version_major": 2,
       "version_minor": 0
      },
      "text/plain": [
       "Canvas(toolbar=Toolbar(toolitems=[('Home', 'Reset original view', 'home', 'home'), ('Back', 'Back to previous …"
      ]
     },
     "metadata": {},
     "output_type": "display_data"
    }
   ],
   "source": [
    "plot_spectra(pa_result, ss_result, sn_result, flux_unit=\"erg2/(cm2 s keV)\");"
   ]
  },
  {
   "cell_type": "code",
   "execution_count": null,
   "id": "81b76702-925e-4171-b496-b0739a6dcdd5",
   "metadata": {},
   "outputs": [],
   "source": []
  },
  {
   "cell_type": "code",
   "execution_count": null,
   "id": "adaf4401-478d-44f0-8ad0-71a22be63ee6",
   "metadata": {},
   "outputs": [],
   "source": []
  },
  {
   "cell_type": "code",
   "execution_count": null,
   "id": "f8d83abe-7d36-4f02-a0c1-5bb558043ec6",
   "metadata": {},
   "outputs": [],
   "source": []
  }
 ],
 "metadata": {
  "kernelspec": {
   "display_name": "Python 3",
   "language": "python",
   "name": "python3"
  },
  "language_info": {
   "codemirror_mode": {
    "name": "ipython",
    "version": 3
   },
   "file_extension": ".py",
   "mimetype": "text/x-python",
   "name": "python",
   "nbconvert_exporter": "python",
   "pygments_lexer": "ipython3",
   "version": "3.9.4"
  },
  "widgets": {
   "application/vnd.jupyter.widget-state+json": {
    "state": {
     "016cb7e7216a490fb8098d4108971e0c": {
      "model_module": "jupyter-matplotlib",
      "model_module_version": "^0.9.0",
      "model_name": "ToolbarModel",
      "state": {
       "layout": "IPY_MODEL_a61102df76cf4fcb813eedf96e51963f",
       "toolitems": [
        [
         "Home",
         "Reset original view",
         "home",
         "home"
        ],
        [
         "Back",
         "Back to previous view",
         "arrow-left",
         "back"
        ],
        [
         "Forward",
         "Forward to next view",
         "arrow-right",
         "forward"
        ],
        [
         "Pan",
         "Left button pans, Right button zooms\nx/y fixes axis, CTRL fixes aspect",
         "arrows",
         "pan"
        ],
        [
         "Zoom",
         "Zoom to rectangle\nx/y fixes axis, CTRL fixes aspect",
         "square-o",
         "zoom"
        ],
        [
         "Download",
         "Download plot",
         "floppy-o",
         "save_figure"
        ]
       ]
      }
     },
     "03631033de6640f4aaf7d4c74573e260": {
      "model_module": "@jupyter-widgets/controls",
      "model_module_version": "1.5.0",
      "model_name": "HTMLModel",
      "state": {
       "layout": "IPY_MODEL_cb6f2934686a4f77859402ec8fc10e99",
       "style": "IPY_MODEL_a4540e5ad5db4e228272ccbbf93fab1f",
       "value": "Fitting GBM_NAI_07 background: 100%"
      }
     },
     "04d0814c14f24c8ca3da717bd82c3d52": {
      "model_module": "@jupyter-widgets/controls",
      "model_module_version": "1.5.0",
      "model_name": "HTMLModel",
      "state": {
       "layout": "IPY_MODEL_4c79ed3ceb5549d5bbe6cff5579acf33",
       "style": "IPY_MODEL_fb1e1657d79b48b58664c9c24a43f2f9",
       "value": "Loading PHAII Spectra: 100%"
      }
     },
     "0654df4904034e2088fb5c596d3fbace": {
      "model_module": "@jupyter-widgets/controls",
      "model_module_version": "1.5.0",
      "model_name": "DescriptionStyleModel",
      "state": {
       "description_width": ""
      }
     },
     "06c708e6f4f34aa492f0f5dba13b4bf3": {
      "model_module": "@jupyter-widgets/controls",
      "model_module_version": "1.5.0",
      "model_name": "DescriptionStyleModel",
      "state": {
       "description_width": ""
      }
     },
     "079f9b056da74afaab4003809e1d63f2": {
      "model_module": "jupyter-matplotlib",
      "model_module_version": "^0.9.0",
      "model_name": "MPLCanvasModel",
      "state": {
       "_cursor": "default",
       "_figure_label": "Figure 7",
       "_height": 480,
       "_width": 640,
       "layout": "IPY_MODEL_560400add74b4318baec09d208849628",
       "toolbar": "IPY_MODEL_45cfb652a9334873ad29a6a5311f9c90",
       "toolbar_position": "left"
      }
     },
     "07e88a1f07d44d938e29dbb6f8cf4c10": {
      "model_module": "@jupyter-widgets/controls",
      "model_module_version": "1.5.0",
      "model_name": "HTMLModel",
      "state": {
       "layout": "IPY_MODEL_80cae580261c45538b63ae7e39e6e2fe",
       "style": "IPY_MODEL_5c7bfea1fe444759b00808ada505d830",
       "value": " 100/100 [00:12&lt;00:00,  8.09it/s]"
      }
     },
     "0980674864bc45fa88c077e1cb7e4ef2": {
      "model_module": "@jupyter-widgets/base",
      "model_module_version": "1.2.0",
      "model_name": "LayoutModel",
      "state": {
       "display": "inline-flex",
       "flex_flow": "row wrap",
       "width": "100%"
      }
     },
     "0a63d4e1a6c94195bec3b66ad8cecf52": {
      "model_module": "@jupyter-widgets/controls",
      "model_module_version": "1.5.0",
      "model_name": "ProgressStyleModel",
      "state": {
       "bar_color": "#4ac16d",
       "description_width": ""
      }
     },
     "0b37c2db3a614b839eab85962789207c": {
      "model_module": "@jupyter-widgets/base",
      "model_module_version": "1.2.0",
      "model_name": "LayoutModel",
      "state": {}
     },
     "0b3f660ed5084594bcdb894866265a6e": {
      "model_module": "@jupyter-widgets/base",
      "model_module_version": "1.2.0",
      "model_name": "LayoutModel",
      "state": {}
     },
     "0c230b5df6a64e94a814bfadeb9392f8": {
      "model_module": "@jupyter-widgets/base",
      "model_module_version": "1.2.0",
      "model_name": "LayoutModel",
      "state": {
       "display": "inline-flex",
       "flex_flow": "row wrap",
       "width": "100%"
      }
     },
     "0c8008149a174490afa4f9492e7affce": {
      "model_module": "@jupyter-widgets/controls",
      "model_module_version": "1.5.0",
      "model_name": "HTMLModel",
      "state": {
       "layout": "IPY_MODEL_3bd54112216a44bd951804ca15632a7d",
       "style": "IPY_MODEL_95202a7f73eb4be48a94ca8a1825bd61",
       "value": " 100/100 [00:09&lt;00:00, 10.79it/s]"
      }
     },
     "0f46ea1ef1244a078d9b4bbd84b9518f": {
      "model_module": "@jupyter-widgets/controls",
      "model_module_version": "1.5.0",
      "model_name": "FloatProgressModel",
      "state": {
       "bar_style": "success",
       "layout": "IPY_MODEL_3b90f2feeab24c5c9e5ab6cedd4fe1f8",
       "max": 5,
       "style": "IPY_MODEL_86b04fa526704739be1868a7d7ae0869",
       "value": 5
      }
     },
     "102f4c16584745688fe5c35583d9cc02": {
      "model_module": "@jupyter-widgets/base",
      "model_module_version": "1.2.0",
      "model_name": "LayoutModel",
      "state": {}
     },
     "124675d9e2164b7a86cb8b29904f4df8": {
      "model_module": "@jupyter-widgets/controls",
      "model_module_version": "1.5.0",
      "model_name": "DescriptionStyleModel",
      "state": {
       "description_width": ""
      }
     },
     "134917cdc8a94f8db685092a61a67023": {
      "model_module": "jupyter-matplotlib",
      "model_module_version": "^0.9.0",
      "model_name": "ToolbarModel",
      "state": {
       "layout": "IPY_MODEL_48e4831cc74248beaf023fd1b50f1bbb",
       "toolitems": [
        [
         "Home",
         "Reset original view",
         "home",
         "home"
        ],
        [
         "Back",
         "Back to previous view",
         "arrow-left",
         "back"
        ],
        [
         "Forward",
         "Forward to next view",
         "arrow-right",
         "forward"
        ],
        [
         "Pan",
         "Left button pans, Right button zooms\nx/y fixes axis, CTRL fixes aspect",
         "arrows",
         "pan"
        ],
        [
         "Zoom",
         "Zoom to rectangle\nx/y fixes axis, CTRL fixes aspect",
         "square-o",
         "zoom"
        ],
        [
         "Download",
         "Download plot",
         "floppy-o",
         "save_figure"
        ]
       ]
      }
     },
     "139911a24c404f7d93014a71d5515fc3": {
      "model_module": "@jupyter-widgets/base",
      "model_module_version": "1.2.0",
      "model_name": "LayoutModel",
      "state": {}
     },
     "147079b3985e4c22a87f8b6f23b39d36": {
      "model_module": "jupyter-matplotlib",
      "model_module_version": "^0.9.0",
      "model_name": "MPLCanvasModel",
      "state": {
       "_cursor": "default",
       "_figure_label": "Figure 10",
       "_height": 480,
       "_width": 640,
       "layout": "IPY_MODEL_193ce44434414485bd5f7ebe4488c19d",
       "toolbar": "IPY_MODEL_6d5ae08e8e1a4e858107ac2e86ffc8ac",
       "toolbar_position": "left"
      }
     },
     "156d4bdb0f3a4950b7b4fd00af17de2d": {
      "model_module": "@jupyter-widgets/base",
      "model_module_version": "1.2.0",
      "model_name": "LayoutModel",
      "state": {
       "display": "inline-flex",
       "flex_flow": "row wrap",
       "width": "100%"
      }
     },
     "16fab1c8da0e42f18a96807ac479d137": {
      "model_module": "@jupyter-widgets/base",
      "model_module_version": "1.2.0",
      "model_name": "LayoutModel",
      "state": {}
     },
     "17db91ea903642f8b29897144bc5f1c1": {
      "model_module": "@jupyter-widgets/base",
      "model_module_version": "1.2.0",
      "model_name": "LayoutModel",
      "state": {}
     },
     "18ddc710b1034716b1ad429cffdb1ba3": {
      "model_module": "@jupyter-widgets/base",
      "model_module_version": "1.2.0",
      "model_name": "LayoutModel",
      "state": {
       "display": "inline-flex",
       "flex_flow": "row wrap",
       "width": "100%"
      }
     },
     "193ce44434414485bd5f7ebe4488c19d": {
      "model_module": "@jupyter-widgets/base",
      "model_module_version": "1.2.0",
      "model_name": "LayoutModel",
      "state": {}
     },
     "1a3d2af0267b410fa5f6e78aedfd8612": {
      "model_module": "@jupyter-widgets/base",
      "model_module_version": "1.2.0",
      "model_name": "LayoutModel",
      "state": {}
     },
     "1a63a713760b461d93d2cd7d53cfe039": {
      "model_module": "@jupyter-widgets/base",
      "model_module_version": "1.2.0",
      "model_name": "LayoutModel",
      "state": {}
     },
     "1c4142bb573147cb8a87b2cee72ba1a4": {
      "model_module": "@jupyter-widgets/controls",
      "model_module_version": "1.5.0",
      "model_name": "HTMLModel",
      "state": {
       "layout": "IPY_MODEL_d3aca52479a645be957b5e4f1f579a68",
       "style": "IPY_MODEL_937d1e3575644e2baabdba7e43697294",
       "value": " 128/128 [00:08&lt;00:00, 15.43it/s]"
      }
     },
     "1dc998fdf1cc4552b5710c1b04fcf3c1": {
      "model_module": "@jupyter-widgets/controls",
      "model_module_version": "1.5.0",
      "model_name": "ProgressStyleModel",
      "state": {
       "bar_color": "#4ac16d",
       "description_width": ""
      }
     },
     "1dec6902f1d64f75b2d35d75336f80a4": {
      "model_module": "@jupyter-widgets/controls",
      "model_module_version": "1.5.0",
      "model_name": "ProgressStyleModel",
      "state": {
       "bar_color": "#fde725",
       "description_width": ""
      }
     },
     "1e55b8f28e714f13b760e9015a2629c9": {
      "model_module": "@jupyter-widgets/controls",
      "model_module_version": "1.5.0",
      "model_name": "ProgressStyleModel",
      "state": {
       "bar_color": "#1fa187",
       "description_width": ""
      }
     },
     "1ee8f0535e6245359e9313b4f520f77c": {
      "model_module": "@jupyter-widgets/base",
      "model_module_version": "1.2.0",
      "model_name": "LayoutModel",
      "state": {}
     },
     "20101fe49f1b4bb2bdf0a470d0284895": {
      "model_module": "@jupyter-widgets/base",
      "model_module_version": "1.2.0",
      "model_name": "LayoutModel",
      "state": {}
     },
     "20fc3e3ee3b146438e02bc99a64e053b": {
      "model_module": "@jupyter-widgets/base",
      "model_module_version": "1.2.0",
      "model_name": "LayoutModel",
      "state": {}
     },
     "23d58998d79b4d859ba55c09975cddc1": {
      "model_module": "@jupyter-widgets/controls",
      "model_module_version": "1.5.0",
      "model_name": "HBoxModel",
      "state": {
       "children": [
        "IPY_MODEL_823c4879adde4bcfad47d3875e62bf2d",
        "IPY_MODEL_52bf6c6dcdf7462196485acea8968dae",
        "IPY_MODEL_5a10a348d314496cad129ec1077cf3cb"
       ],
       "layout": "IPY_MODEL_4bb76b7035004470bc9c28ce833c7880"
      }
     },
     "2557ba696d3b46a0a14cea90b9e2b181": {
      "model_module": "@jupyter-widgets/controls",
      "model_module_version": "1.5.0",
      "model_name": "FloatProgressModel",
      "state": {
       "bar_style": "success",
       "layout": "IPY_MODEL_b232aff1aa93421e87a87f32beb34d57",
       "max": 5,
       "style": "IPY_MODEL_eb89e2b76d5f4747a580629946249535",
       "value": 5
      }
     },
     "25b33a7bcc0b400489e5cf00dbf2bef8": {
      "model_module": "@jupyter-widgets/base",
      "model_module_version": "1.2.0",
      "model_name": "LayoutModel",
      "state": {}
     },
     "267896fcdfd04a65914a38f4d4225bcf": {
      "model_module": "@jupyter-widgets/controls",
      "model_module_version": "1.5.0",
      "model_name": "FloatProgressModel",
      "state": {
       "bar_style": "success",
       "layout": "IPY_MODEL_97dddecb4b7749ac90d9a97c355dfe17",
       "max": 5,
       "style": "IPY_MODEL_ca7cbbc4665a4c79930689a3db31ed5b",
       "value": 5
      }
     },
     "26b461b55e6349d9ad01e2949570d27c": {
      "model_module": "@jupyter-widgets/controls",
      "model_module_version": "1.5.0",
      "model_name": "HTMLModel",
      "state": {
       "layout": "IPY_MODEL_8bee4b13c118470d84f5797a04925256",
       "style": "IPY_MODEL_30041c3ca3b74f818a2ea1e3dc27dbf4",
       "value": "Fitting GBM_NAI_06 background: 100%"
      }
     },
     "26e9896def91488d9412208eee59756b": {
      "model_module": "@jupyter-widgets/base",
      "model_module_version": "1.2.0",
      "model_name": "LayoutModel",
      "state": {}
     },
     "2b4503e1ddf14bdda145559e3634e801": {
      "model_module": "@jupyter-widgets/controls",
      "model_module_version": "1.5.0",
      "model_name": "ProgressStyleModel",
      "state": {
       "bar_color": "#440154",
       "description_width": ""
      }
     },
     "2c360d06d9024bf781b8c30bd8145114": {
      "model_module": "@jupyter-widgets/base",
      "model_module_version": "1.2.0",
      "model_name": "LayoutModel",
      "state": {}
     },
     "2c8fa801510b488286d71957a2787704": {
      "model_module": "@jupyter-widgets/base",
      "model_module_version": "1.2.0",
      "model_name": "LayoutModel",
      "state": {}
     },
     "2d2238a33d2b4b969694a9800309b3e5": {
      "model_module": "jupyter-matplotlib",
      "model_module_version": "^0.9.0",
      "model_name": "MPLCanvasModel",
      "state": {
       "_cursor": "default",
       "_figure_label": "Figure 1",
       "_height": 480,
       "_width": 640,
       "layout": "IPY_MODEL_43b6024539094c6f80d31cbf53ae153e",
       "toolbar": "IPY_MODEL_829db27468204b5781b06223702b24f6",
       "toolbar_position": "left"
      }
     },
     "2e1cae22d11d4f82bf3f9c4a29f309cb": {
      "model_module": "@jupyter-widgets/controls",
      "model_module_version": "1.5.0",
      "model_name": "DescriptionStyleModel",
      "state": {
       "description_width": ""
      }
     },
     "2e20acbae8c94159bd60d625bbeb8bf4": {
      "model_module": "@jupyter-widgets/base",
      "model_module_version": "1.2.0",
      "model_name": "LayoutModel",
      "state": {}
     },
     "2fe5b265f0c345dd8558367c4c900cc9": {
      "model_module": "jupyter-matplotlib",
      "model_module_version": "^0.9.0",
      "model_name": "MPLCanvasModel",
      "state": {
       "_cursor": "default",
       "_figure_label": "Figure 5",
       "_height": 480,
       "_width": 640,
       "layout": "IPY_MODEL_4fa9ce0b81ad4133b73bbf352b5012b4",
       "toolbar": "IPY_MODEL_9365ad9c968d4993b8e0aeb20c4bcbcb",
       "toolbar_position": "left"
      }
     },
     "2ff47cd65af94c48825e34a80ee75bdc": {
      "model_module": "@jupyter-widgets/base",
      "model_module_version": "1.2.0",
      "model_name": "LayoutModel",
      "state": {}
     },
     "30041c3ca3b74f818a2ea1e3dc27dbf4": {
      "model_module": "@jupyter-widgets/controls",
      "model_module_version": "1.5.0",
      "model_name": "DescriptionStyleModel",
      "state": {
       "description_width": ""
      }
     },
     "3064ef3bc9ba427b94a55e097d27ee25": {
      "model_module": "@jupyter-widgets/base",
      "model_module_version": "1.2.0",
      "model_name": "LayoutModel",
      "state": {}
     },
     "315169c34fa34d469449d66dcaea51fa": {
      "model_module": "@jupyter-widgets/controls",
      "model_module_version": "1.5.0",
      "model_name": "DescriptionStyleModel",
      "state": {
       "description_width": ""
      }
     },
     "32f2c38367b94e27bae69298046d0c85": {
      "model_module": "@jupyter-widgets/controls",
      "model_module_version": "1.5.0",
      "model_name": "DescriptionStyleModel",
      "state": {
       "description_width": ""
      }
     },
     "336e55f5e6f14467a0cecdaca6b83a80": {
      "model_module": "@jupyter-widgets/controls",
      "model_module_version": "1.5.0",
      "model_name": "HTMLModel",
      "state": {
       "layout": "IPY_MODEL_2ff47cd65af94c48825e34a80ee75bdc",
       "style": "IPY_MODEL_77e3e6c053a84a68afc985ed04ba695d",
       "value": "Finding best polynomial Order: 100%"
      }
     },
     "368bb2e684fd4d03a1a2a9734f5e76a9": {
      "model_module": "@jupyter-widgets/base",
      "model_module_version": "1.2.0",
      "model_name": "LayoutModel",
      "state": {}
     },
     "36a6a59acaa248ceb8257d42c35961d6": {
      "model_module": "@jupyter-widgets/base",
      "model_module_version": "1.2.0",
      "model_name": "LayoutModel",
      "state": {
       "flex": "2"
      }
     },
     "3b3cfb0104384753896db982e8eb43d6": {
      "model_module": "@jupyter-widgets/base",
      "model_module_version": "1.2.0",
      "model_name": "LayoutModel",
      "state": {}
     },
     "3b90f2feeab24c5c9e5ab6cedd4fe1f8": {
      "model_module": "@jupyter-widgets/base",
      "model_module_version": "1.2.0",
      "model_name": "LayoutModel",
      "state": {
       "flex": "2"
      }
     },
     "3bd54112216a44bd951804ca15632a7d": {
      "model_module": "@jupyter-widgets/base",
      "model_module_version": "1.2.0",
      "model_name": "LayoutModel",
      "state": {}
     },
     "3cad60fbc1304bc1a4c7022e6e7c4269": {
      "model_module": "@jupyter-widgets/base",
      "model_module_version": "1.2.0",
      "model_name": "LayoutModel",
      "state": {
       "display": "inline-flex",
       "flex_flow": "row wrap",
       "width": "100%"
      }
     },
     "3dd84d84886344b2a552cb2252850631": {
      "model_module": "@jupyter-widgets/controls",
      "model_module_version": "1.5.0",
      "model_name": "ProgressStyleModel",
      "state": {
       "bar_color": "#440154",
       "description_width": ""
      }
     },
     "3e89eee6f2fc465f84de4bfc2d19678c": {
      "model_module": "@jupyter-widgets/controls",
      "model_module_version": "1.5.0",
      "model_name": "DescriptionStyleModel",
      "state": {
       "description_width": ""
      }
     },
     "3e95ddd38149403684c8b220546a4e62": {
      "model_module": "@jupyter-widgets/base",
      "model_module_version": "1.2.0",
      "model_name": "LayoutModel",
      "state": {
       "flex": "2"
      }
     },
     "3f81672c423d46e5a774ebaba1951850": {
      "model_module": "@jupyter-widgets/controls",
      "model_module_version": "1.5.0",
      "model_name": "DescriptionStyleModel",
      "state": {
       "description_width": ""
      }
     },
     "3fbf4b53a0c54b97a901f1de6ec7b89d": {
      "model_module": "@jupyter-widgets/controls",
      "model_module_version": "1.5.0",
      "model_name": "HTMLModel",
      "state": {
       "layout": "IPY_MODEL_53a2d2e2cca44742aeb309e2651454ad",
       "style": "IPY_MODEL_88aa6d08238647008a2eba04f9fe5049",
       "value": " 128/128 [00:07&lt;00:00, 18.04it/s]"
      }
     },
     "40993f3eae9d47c6a47fa8d8baf52b92": {
      "model_module": "@jupyter-widgets/base",
      "model_module_version": "1.2.0",
      "model_name": "LayoutModel",
      "state": {}
     },
     "4134d1730b894f27bb2fdb5a0eb7e79f": {
      "model_module": "jupyter-matplotlib",
      "model_module_version": "^0.9.0",
      "model_name": "ToolbarModel",
      "state": {
       "layout": "IPY_MODEL_a185991dcdc64c3c97c848dda0bbae30",
       "toolitems": [
        [
         "Home",
         "Reset original view",
         "home",
         "home"
        ],
        [
         "Back",
         "Back to previous view",
         "arrow-left",
         "back"
        ],
        [
         "Forward",
         "Forward to next view",
         "arrow-right",
         "forward"
        ],
        [
         "Pan",
         "Left button pans, Right button zooms\nx/y fixes axis, CTRL fixes aspect",
         "arrows",
         "pan"
        ],
        [
         "Zoom",
         "Zoom to rectangle\nx/y fixes axis, CTRL fixes aspect",
         "square-o",
         "zoom"
        ],
        [
         "Download",
         "Download plot",
         "floppy-o",
         "save_figure"
        ]
       ]
      }
     },
     "417cc2e4c82a4d2aa19770dfc6b8c13e": {
      "model_module": "@jupyter-widgets/base",
      "model_module_version": "1.2.0",
      "model_name": "LayoutModel",
      "state": {
       "display": "inline-flex",
       "flex_flow": "row wrap",
       "width": "100%"
      }
     },
     "4205aa929f9243adbe455151e1d01548": {
      "model_module": "@jupyter-widgets/base",
      "model_module_version": "1.2.0",
      "model_name": "LayoutModel",
      "state": {}
     },
     "42f7d37867d4450aaf5559f0c561663b": {
      "model_module": "@jupyter-widgets/controls",
      "model_module_version": "1.5.0",
      "model_name": "HTMLModel",
      "state": {
       "layout": "IPY_MODEL_25b33a7bcc0b400489e5cf00dbf2bef8",
       "style": "IPY_MODEL_3f81672c423d46e5a774ebaba1951850",
       "value": "Finding best polynomial Order: 100%"
      }
     },
     "43b6024539094c6f80d31cbf53ae153e": {
      "model_module": "@jupyter-widgets/base",
      "model_module_version": "1.2.0",
      "model_name": "LayoutModel",
      "state": {}
     },
     "44d51f8b5ec446a7bf097d7b67333aea": {
      "model_module": "@jupyter-widgets/controls",
      "model_module_version": "1.5.0",
      "model_name": "ProgressStyleModel",
      "state": {
       "bar_color": "#46327e",
       "description_width": ""
      }
     },
     "45cfb652a9334873ad29a6a5311f9c90": {
      "model_module": "jupyter-matplotlib",
      "model_module_version": "^0.9.0",
      "model_name": "ToolbarModel",
      "state": {
       "layout": "IPY_MODEL_f96e61f375c14224883936a5922ec101",
       "toolitems": [
        [
         "Home",
         "Reset original view",
         "home",
         "home"
        ],
        [
         "Back",
         "Back to previous view",
         "arrow-left",
         "back"
        ],
        [
         "Forward",
         "Forward to next view",
         "arrow-right",
         "forward"
        ],
        [
         "Pan",
         "Left button pans, Right button zooms\nx/y fixes axis, CTRL fixes aspect",
         "arrows",
         "pan"
        ],
        [
         "Zoom",
         "Zoom to rectangle\nx/y fixes axis, CTRL fixes aspect",
         "square-o",
         "zoom"
        ],
        [
         "Download",
         "Download plot",
         "floppy-o",
         "save_figure"
        ]
       ]
      }
     },
     "46631755ef764acda6541914b4259d84": {
      "model_module": "@jupyter-widgets/controls",
      "model_module_version": "1.5.0",
      "model_name": "HTMLModel",
      "state": {
       "layout": "IPY_MODEL_9e63c624fcf642ad8c7a1d8be943e49b",
       "style": "IPY_MODEL_8ecb6752197e4b698aeb3146d83ff5ad",
       "value": " 0/0 [00:00&lt;?, ?it/s]"
      }
     },
     "48e4831cc74248beaf023fd1b50f1bbb": {
      "model_module": "@jupyter-widgets/base",
      "model_module_version": "1.2.0",
      "model_name": "LayoutModel",
      "state": {}
     },
     "490ae4ef523840298a40565587fca1bb": {
      "model_module": "jupyter-matplotlib",
      "model_module_version": "^0.9.0",
      "model_name": "MPLCanvasModel",
      "state": {
       "_cursor": "default",
       "_figure_label": "Figure 15",
       "_height": 970,
       "_width": 970,
       "layout": "IPY_MODEL_c153c409b34944cb83fae70a717195bb",
       "toolbar": "IPY_MODEL_fbab08336e644c34bb86809849924a29",
       "toolbar_position": "left"
      }
     },
     "49650ed17e1a4a1998b272d9a4fad164": {
      "model_module": "@jupyter-widgets/base",
      "model_module_version": "1.2.0",
      "model_name": "LayoutModel",
      "state": {}
     },
     "498b6013076e4f17b2ac7edd123ad167": {
      "model_module": "@jupyter-widgets/controls",
      "model_module_version": "1.5.0",
      "model_name": "ProgressStyleModel",
      "state": {
       "bar_color": "#365c8d",
       "description_width": ""
      }
     },
     "4bb76b7035004470bc9c28ce833c7880": {
      "model_module": "@jupyter-widgets/base",
      "model_module_version": "1.2.0",
      "model_name": "LayoutModel",
      "state": {
       "display": "inline-flex",
       "flex_flow": "row wrap",
       "width": "100%"
      }
     },
     "4c40dd3a9cf64462be1608243a3616f0": {
      "model_module": "@jupyter-widgets/controls",
      "model_module_version": "1.5.0",
      "model_name": "ProgressStyleModel",
      "state": {
       "bar_color": "#365c8d",
       "description_width": ""
      }
     },
     "4c79ed3ceb5549d5bbe6cff5579acf33": {
      "model_module": "@jupyter-widgets/base",
      "model_module_version": "1.2.0",
      "model_name": "LayoutModel",
      "state": {}
     },
     "4d13e7ae9b604ff19195321016e66663": {
      "model_module": "@jupyter-widgets/controls",
      "model_module_version": "1.5.0",
      "model_name": "HTMLModel",
      "state": {
       "layout": "IPY_MODEL_2c8fa801510b488286d71957a2787704",
       "style": "IPY_MODEL_d9a98a328c844edfa2f397371729bd5f",
       "value": " 2835/2835 [00:01&lt;00:00, 1998.41it/s]"
      }
     },
     "4d43a596339c4b14a6443ef2d6c93a73": {
      "model_module": "@jupyter-widgets/controls",
      "model_module_version": "1.5.0",
      "model_name": "HBoxModel",
      "state": {
       "children": [
        "IPY_MODEL_aeb06df48ae24e6889d265de17b85b31",
        "IPY_MODEL_95b01324074945a0b256465508ee7a3b",
        "IPY_MODEL_1c4142bb573147cb8a87b2cee72ba1a4"
       ],
       "layout": "IPY_MODEL_c1104a8d2c4d450b8bd4d553c9b43a9e"
      }
     },
     "4dacf7429fe34dd5b5a59e867acb78aa": {
      "model_module": "@jupyter-widgets/controls",
      "model_module_version": "1.5.0",
      "model_name": "FloatProgressModel",
      "state": {
       "bar_style": "success",
       "layout": "IPY_MODEL_c2512babf8974d08ae29c48b334a55c6",
       "max": 128,
       "style": "IPY_MODEL_0a63d4e1a6c94195bec3b66ad8cecf52",
       "value": 128
      }
     },
     "4fa9ce0b81ad4133b73bbf352b5012b4": {
      "model_module": "@jupyter-widgets/base",
      "model_module_version": "1.2.0",
      "model_name": "LayoutModel",
      "state": {}
     },
     "51c18b9bb58249698b688451858e9d1f": {
      "model_module": "@jupyter-widgets/controls",
      "model_module_version": "1.5.0",
      "model_name": "DescriptionStyleModel",
      "state": {
       "description_width": ""
      }
     },
     "52bf6c6dcdf7462196485acea8968dae": {
      "model_module": "@jupyter-widgets/controls",
      "model_module_version": "1.5.0",
      "model_name": "FloatProgressModel",
      "state": {
       "bar_style": "success",
       "layout": "IPY_MODEL_d516999553c946988509c4d72f9a4765",
       "max": 2835,
       "style": "IPY_MODEL_f2e64c3c86af420c8144c1fbba5633e6",
       "value": 2835
      }
     },
     "53804807be6f4904a5589f627c183c7d": {
      "model_module": "@jupyter-widgets/controls",
      "model_module_version": "1.5.0",
      "model_name": "HTMLModel",
      "state": {
       "layout": "IPY_MODEL_1a3d2af0267b410fa5f6e78aedfd8612",
       "style": "IPY_MODEL_fdc372221f324627b5aa50870d0ff3ab",
       "value": " 3/3 [01:32&lt;00:00, 38.00s/it]"
      }
     },
     "53a2d2e2cca44742aeb309e2651454ad": {
      "model_module": "@jupyter-widgets/base",
      "model_module_version": "1.2.0",
      "model_name": "LayoutModel",
      "state": {}
     },
     "53ecef999ab942a79030716ff06f4d0e": {
      "model_module": "@jupyter-widgets/controls",
      "model_module_version": "1.5.0",
      "model_name": "HTMLModel",
      "state": {
       "layout": "IPY_MODEL_0b37c2db3a614b839eab85962789207c",
       "style": "IPY_MODEL_dfb2e096d917436bb7af923e8eb7a83b",
       "value": " 128/128 [00:08&lt;00:00, 14.67it/s]"
      }
     },
     "5420ca832d1b4266a0ba8e70919f4d59": {
      "model_module": "@jupyter-widgets/base",
      "model_module_version": "1.2.0",
      "model_name": "LayoutModel",
      "state": {}
     },
     "5455db1af7244863ba1e8a3425765557": {
      "model_module": "@jupyter-widgets/base",
      "model_module_version": "1.2.0",
      "model_name": "LayoutModel",
      "state": {}
     },
     "547d4789a6ae419694abf1760a8907fa": {
      "model_module": "@jupyter-widgets/base",
      "model_module_version": "1.2.0",
      "model_name": "LayoutModel",
      "state": {
       "display": "inline-flex",
       "flex_flow": "row wrap",
       "width": "100%"
      }
     },
     "54c67abf059c4d71aa62522216ef4722": {
      "model_module": "@jupyter-widgets/base",
      "model_module_version": "1.2.0",
      "model_name": "LayoutModel",
      "state": {}
     },
     "54cf52be69184371b7d99445fe95d42a": {
      "model_module": "@jupyter-widgets/base",
      "model_module_version": "1.2.0",
      "model_name": "LayoutModel",
      "state": {
       "flex": "2"
      }
     },
     "550e0e14897742c08d10d0b4c1081fbe": {
      "model_module": "@jupyter-widgets/controls",
      "model_module_version": "1.5.0",
      "model_name": "HTMLModel",
      "state": {
       "layout": "IPY_MODEL_54c67abf059c4d71aa62522216ef4722",
       "style": "IPY_MODEL_af7ff53cde9945248131cddbf74785a5",
       "value": "Finding best polynomial Order: 100%"
      }
     },
     "560400add74b4318baec09d208849628": {
      "model_module": "@jupyter-widgets/base",
      "model_module_version": "1.2.0",
      "model_name": "LayoutModel",
      "state": {}
     },
     "572f5331fba14e14935f1f2a2e8327c6": {
      "model_module": "@jupyter-widgets/base",
      "model_module_version": "1.2.0",
      "model_name": "LayoutModel",
      "state": {}
     },
     "58b3b6cd7486476eb19a559eca76c668": {
      "model_module": "jupyter-matplotlib",
      "model_module_version": "^0.9.0",
      "model_name": "ToolbarModel",
      "state": {
       "layout": "IPY_MODEL_40993f3eae9d47c6a47fa8d8baf52b92",
       "toolitems": [
        [
         "Home",
         "Reset original view",
         "home",
         "home"
        ],
        [
         "Back",
         "Back to previous view",
         "arrow-left",
         "back"
        ],
        [
         "Forward",
         "Forward to next view",
         "arrow-right",
         "forward"
        ],
        [
         "Pan",
         "Left button pans, Right button zooms\nx/y fixes axis, CTRL fixes aspect",
         "arrows",
         "pan"
        ],
        [
         "Zoom",
         "Zoom to rectangle\nx/y fixes axis, CTRL fixes aspect",
         "square-o",
         "zoom"
        ],
        [
         "Download",
         "Download plot",
         "floppy-o",
         "save_figure"
        ]
       ]
      }
     },
     "5a10a348d314496cad129ec1077cf3cb": {
      "model_module": "@jupyter-widgets/controls",
      "model_module_version": "1.5.0",
      "model_name": "HTMLModel",
      "state": {
       "layout": "IPY_MODEL_64522d19c5a6462ea43cc9e329cd00e8",
       "style": "IPY_MODEL_952d6bc9a2214ae8ba5fb36edbf8747f",
       "value": " 2835/2835 [00:01&lt;00:00, 1441.08it/s]"
      }
     },
     "5ba5a5b4baa74c22929a7086d27cfb1c": {
      "model_module": "@jupyter-widgets/base",
      "model_module_version": "1.2.0",
      "model_name": "LayoutModel",
      "state": {}
     },
     "5c7bfea1fe444759b00808ada505d830": {
      "model_module": "@jupyter-widgets/controls",
      "model_module_version": "1.5.0",
      "model_name": "DescriptionStyleModel",
      "state": {
       "description_width": ""
      }
     },
     "5e9218d29b2c45ecb2f1baf38f5fc656": {
      "model_module": "@jupyter-widgets/controls",
      "model_module_version": "1.5.0",
      "model_name": "HTMLModel",
      "state": {
       "layout": "IPY_MODEL_6bed14ae9e8540da8027bf6546ef6f6b",
       "style": "IPY_MODEL_124675d9e2164b7a86cb8b29904f4df8",
       "value": " 50/50 [00:01&lt;00:00, 36.50it/s]"
      }
     },
     "5fde14a3ad5a4b29bf1f606569e3db23": {
      "model_module": "@jupyter-widgets/base",
      "model_module_version": "1.2.0",
      "model_name": "LayoutModel",
      "state": {}
     },
     "604bcb8553e2414583c640278a37fa04": {
      "model_module": "@jupyter-widgets/controls",
      "model_module_version": "1.5.0",
      "model_name": "FloatProgressModel",
      "state": {
       "bar_style": "success",
       "layout": "IPY_MODEL_b3e682988ec4482585dd14741cfbc4d0",
       "max": 2835,
       "style": "IPY_MODEL_d702480c058a4020a59d375db440cfb0",
       "value": 2835
      }
     },
     "61cbb57baecc4108a57a3c97716ecaaf": {
      "model_module": "@jupyter-widgets/base",
      "model_module_version": "1.2.0",
      "model_name": "LayoutModel",
      "state": {}
     },
     "632ab458c51c46a496f68df77ae4c800": {
      "model_module": "@jupyter-widgets/controls",
      "model_module_version": "1.5.0",
      "model_name": "HBoxModel",
      "state": {
       "children": [
        "IPY_MODEL_7cdd9233d08346ac96bb1cafb9663998",
        "IPY_MODEL_7c778adcd0794d68a78a5a0a243aa6ca",
        "IPY_MODEL_0c8008149a174490afa4f9492e7affce"
       ],
       "layout": "IPY_MODEL_87277db60bba447fb1609934c9784acb"
      }
     },
     "63650e8756ef4c3fb9fc1bce7a32923c": {
      "model_module": "jupyter-matplotlib",
      "model_module_version": "^0.9.0",
      "model_name": "MPLCanvasModel",
      "state": {
       "_cursor": "default",
       "_figure_label": "Figure 8",
       "_height": 480,
       "_width": 640,
       "layout": "IPY_MODEL_61cbb57baecc4108a57a3c97716ecaaf",
       "toolbar": "IPY_MODEL_87744bd8af9b48efade2e6198a159196",
       "toolbar_position": "left"
      }
     },
     "64522d19c5a6462ea43cc9e329cd00e8": {
      "model_module": "@jupyter-widgets/base",
      "model_module_version": "1.2.0",
      "model_name": "LayoutModel",
      "state": {}
     },
     "6670b103ae814c7284f11f04c2a022ba": {
      "model_module": "@jupyter-widgets/base",
      "model_module_version": "1.2.0",
      "model_name": "LayoutModel",
      "state": {}
     },
     "668202ccd31446aba47614d7b565f372": {
      "model_module": "@jupyter-widgets/controls",
      "model_module_version": "1.5.0",
      "model_name": "HTMLModel",
      "state": {
       "layout": "IPY_MODEL_26e9896def91488d9412208eee59756b",
       "style": "IPY_MODEL_fe6466ce07a44ad1b62e04e5c1d0c439",
       "value": " 2835/2835 [00:01&lt;00:00, 1747.96it/s]"
      }
     },
     "66a203ee0e164f7bbd7485956d1bc608": {
      "model_module": "@jupyter-widgets/base",
      "model_module_version": "1.2.0",
      "model_name": "LayoutModel",
      "state": {}
     },
     "67ecb38b36be4fac9b7a7bb35eaf725a": {
      "model_module": "@jupyter-widgets/base",
      "model_module_version": "1.2.0",
      "model_name": "LayoutModel",
      "state": {}
     },
     "68cefe5eebf0458dbf1c9d85dae8457c": {
      "model_module": "jupyter-matplotlib",
      "model_module_version": "^0.9.0",
      "model_name": "ToolbarModel",
      "state": {
       "layout": "IPY_MODEL_49650ed17e1a4a1998b272d9a4fad164",
       "toolitems": [
        [
         "Home",
         "Reset original view",
         "home",
         "home"
        ],
        [
         "Back",
         "Back to previous view",
         "arrow-left",
         "back"
        ],
        [
         "Forward",
         "Forward to next view",
         "arrow-right",
         "forward"
        ],
        [
         "Pan",
         "Left button pans, Right button zooms\nx/y fixes axis, CTRL fixes aspect",
         "arrows",
         "pan"
        ],
        [
         "Zoom",
         "Zoom to rectangle\nx/y fixes axis, CTRL fixes aspect",
         "square-o",
         "zoom"
        ],
        [
         "Download",
         "Download plot",
         "floppy-o",
         "save_figure"
        ]
       ]
      }
     },
     "6b6b1d50bace454fb206f094bce313b9": {
      "model_module": "@jupyter-widgets/controls",
      "model_module_version": "1.5.0",
      "model_name": "FloatProgressModel",
      "state": {
       "bar_style": "success",
       "layout": "IPY_MODEL_a38573daf22540a0ae53457d50fdeda1",
       "max": 2835,
       "style": "IPY_MODEL_c45c6c0c3e3c49a3bdc6aaa9b8875e34",
       "value": 2835
      }
     },
     "6bed14ae9e8540da8027bf6546ef6f6b": {
      "model_module": "@jupyter-widgets/base",
      "model_module_version": "1.2.0",
      "model_name": "LayoutModel",
      "state": {}
     },
     "6cb644bc4235402db58c97f263fa0c2c": {
      "model_module": "@jupyter-widgets/controls",
      "model_module_version": "1.5.0",
      "model_name": "HBoxModel",
      "state": {
       "children": [
        "IPY_MODEL_a57e4e5dad344510bc5d543c85bdc932",
        "IPY_MODEL_604bcb8553e2414583c640278a37fa04",
        "IPY_MODEL_668202ccd31446aba47614d7b565f372"
       ],
       "layout": "IPY_MODEL_3cad60fbc1304bc1a4c7022e6e7c4269"
      }
     },
     "6d5ae08e8e1a4e858107ac2e86ffc8ac": {
      "model_module": "jupyter-matplotlib",
      "model_module_version": "^0.9.0",
      "model_name": "ToolbarModel",
      "state": {
       "layout": "IPY_MODEL_5420ca832d1b4266a0ba8e70919f4d59",
       "toolitems": [
        [
         "Home",
         "Reset original view",
         "home",
         "home"
        ],
        [
         "Back",
         "Back to previous view",
         "arrow-left",
         "back"
        ],
        [
         "Forward",
         "Forward to next view",
         "arrow-right",
         "forward"
        ],
        [
         "Pan",
         "Left button pans, Right button zooms\nx/y fixes axis, CTRL fixes aspect",
         "arrows",
         "pan"
        ],
        [
         "Zoom",
         "Zoom to rectangle\nx/y fixes axis, CTRL fixes aspect",
         "square-o",
         "zoom"
        ],
        [
         "Download",
         "Download plot",
         "floppy-o",
         "save_figure"
        ]
       ]
      }
     },
     "6de560c463c44b658fb91b2ccd831b0a": {
      "model_module": "@jupyter-widgets/base",
      "model_module_version": "1.2.0",
      "model_name": "LayoutModel",
      "state": {
       "display": "inline-flex",
       "flex_flow": "row wrap",
       "width": "100%"
      }
     },
     "6e865c259f974650a5a8d7a1a0a55fe2": {
      "model_module": "@jupyter-widgets/controls",
      "model_module_version": "1.5.0",
      "model_name": "HTMLModel",
      "state": {
       "layout": "IPY_MODEL_2e20acbae8c94159bd60d625bbeb8bf4",
       "style": "IPY_MODEL_3e89eee6f2fc465f84de4bfc2d19678c",
       "value": "Loading PHAII Spectra: 100%"
      }
     },
     "70d1769975ea4f4d86b201a153cb5c4c": {
      "model_module": "@jupyter-widgets/controls",
      "model_module_version": "1.5.0",
      "model_name": "DescriptionStyleModel",
      "state": {
       "description_width": ""
      }
     },
     "71031fa9270447e8b054addfcf08ef01": {
      "model_module": "@jupyter-widgets/controls",
      "model_module_version": "1.5.0",
      "model_name": "HBoxModel",
      "state": {
       "children": [
        "IPY_MODEL_b8c6212894644cd3b3bc4a6874046d72",
        "IPY_MODEL_dee20f165bf84c48a9e756514e9609c9",
        "IPY_MODEL_74815a4690e24eb7b96406aaeb8e0853"
       ],
       "layout": "IPY_MODEL_eb430eae9126488d92b641a2a9688f5a"
      }
     },
     "715964e58dee4eeaab66cd3c45089e40": {
      "model_module": "@jupyter-widgets/controls",
      "model_module_version": "1.5.0",
      "model_name": "HTMLModel",
      "state": {
       "layout": "IPY_MODEL_84961bdf3fa248b5812ad1f8c6700a84",
       "style": "IPY_MODEL_b29541ffd07a4a33b7a601a792e4c0b7",
       "value": "Finding best polynomial Order: 100%"
      }
     },
     "73eed15c445e41ebb90219e580663191": {
      "model_module": "@jupyter-widgets/base",
      "model_module_version": "1.2.0",
      "model_name": "LayoutModel",
      "state": {
       "display": "inline-flex",
       "flex_flow": "row wrap",
       "width": "100%"
      }
     },
     "74815a4690e24eb7b96406aaeb8e0853": {
      "model_module": "@jupyter-widgets/controls",
      "model_module_version": "1.5.0",
      "model_name": "HTMLModel",
      "state": {
       "layout": "IPY_MODEL_bdf54168cb774643ac87b6c7950d54fe",
       "style": "IPY_MODEL_d5887d666f21416785d73ad79863b741",
       "value": " 5/5 [00:00&lt;00:00, 11.57it/s]"
      }
     },
     "75532625f1ec40c183a9ca209c4c9c05": {
      "model_module": "@jupyter-widgets/controls",
      "model_module_version": "1.5.0",
      "model_name": "FloatProgressModel",
      "state": {
       "bar_style": "success",
       "layout": "IPY_MODEL_bf35edc895254751be216c53a55784aa",
       "max": 5,
       "style": "IPY_MODEL_4c40dd3a9cf64462be1608243a3616f0",
       "value": 5
      }
     },
     "76344a09ea5f4d6aa364008de0c28636": {
      "model_module": "@jupyter-widgets/controls",
      "model_module_version": "1.5.0",
      "model_name": "HBoxModel",
      "state": {
       "children": [
        "IPY_MODEL_04d0814c14f24c8ca3da717bd82c3d52",
        "IPY_MODEL_baeb1754932f43668104984ccb3f21e1",
        "IPY_MODEL_cf17ab02e42c4307aeca45364ffedb3e"
       ],
       "layout": "IPY_MODEL_881899d1f1d84efa8c8d40c97dc5b277"
      }
     },
     "76d57c87aa8d4b0db5fac65ff3c8a52f": {
      "model_module": "@jupyter-widgets/controls",
      "model_module_version": "1.5.0",
      "model_name": "ProgressStyleModel",
      "state": {
       "bar_color": "#277f8e",
       "description_width": ""
      }
     },
     "77e3e6c053a84a68afc985ed04ba695d": {
      "model_module": "@jupyter-widgets/controls",
      "model_module_version": "1.5.0",
      "model_name": "DescriptionStyleModel",
      "state": {
       "description_width": ""
      }
     },
     "7979950d42a748a49f15d05ae6b3ae63": {
      "model_module": "@jupyter-widgets/base",
      "model_module_version": "1.2.0",
      "model_name": "LayoutModel",
      "state": {
       "flex": "2"
      }
     },
     "7b17ab543840414ab7115da74f6f3a4d": {
      "model_module": "@jupyter-widgets/controls",
      "model_module_version": "1.5.0",
      "model_name": "HTMLModel",
      "state": {
       "layout": "IPY_MODEL_1a63a713760b461d93d2cd7d53cfe039",
       "style": "IPY_MODEL_b6eaa2cc47bd4feca5ddd8738b9bed9b",
       "value": "processing Bayesian analyses: 100%"
      }
     },
     "7c58e47de0604bb6a3511edcf05e47b8": {
      "model_module": "@jupyter-widgets/controls",
      "model_module_version": "1.5.0",
      "model_name": "DescriptionStyleModel",
      "state": {
       "description_width": ""
      }
     },
     "7c778adcd0794d68a78a5a0a243aa6ca": {
      "model_module": "@jupyter-widgets/controls",
      "model_module_version": "1.5.0",
      "model_name": "FloatProgressModel",
      "state": {
       "bar_style": "success",
       "layout": "IPY_MODEL_e1f86c9af71d4d0d80657de214872912",
       "style": "IPY_MODEL_44d51f8b5ec446a7bf097d7b67333aea",
       "value": 100
      }
     },
     "7cdd9233d08346ac96bb1cafb9663998": {
      "model_module": "@jupyter-widgets/controls",
      "model_module_version": "1.5.0",
      "model_name": "HTMLModel",
      "state": {
       "layout": "IPY_MODEL_8edf06f3e566442c8790b97f63e08355",
       "style": "IPY_MODEL_fc28b6d870c64e2a87546c6127e8a031",
       "value": "Propagating errors: 100%"
      }
     },
     "7e5beed9927545458f40848cad606b5f": {
      "model_module": "@jupyter-widgets/base",
      "model_module_version": "1.2.0",
      "model_name": "LayoutModel",
      "state": {}
     },
     "80cae580261c45538b63ae7e39e6e2fe": {
      "model_module": "@jupyter-widgets/base",
      "model_module_version": "1.2.0",
      "model_name": "LayoutModel",
      "state": {}
     },
     "823c4879adde4bcfad47d3875e62bf2d": {
      "model_module": "@jupyter-widgets/controls",
      "model_module_version": "1.5.0",
      "model_name": "HTMLModel",
      "state": {
       "layout": "IPY_MODEL_6670b103ae814c7284f11f04c2a022ba",
       "style": "IPY_MODEL_87be8f62ffc14ef889a7697be2ad6f26",
       "value": "Loading PHAII Spectra: 100%"
      }
     },
     "829db27468204b5781b06223702b24f6": {
      "model_module": "jupyter-matplotlib",
      "model_module_version": "^0.9.0",
      "model_name": "ToolbarModel",
      "state": {
       "layout": "IPY_MODEL_9982b47e87ed4fb6b10fd386eb011dd5",
       "toolitems": [
        [
         "Home",
         "Reset original view",
         "home",
         "home"
        ],
        [
         "Back",
         "Back to previous view",
         "arrow-left",
         "back"
        ],
        [
         "Forward",
         "Forward to next view",
         "arrow-right",
         "forward"
        ],
        [
         "Pan",
         "Left button pans, Right button zooms\nx/y fixes axis, CTRL fixes aspect",
         "arrows",
         "pan"
        ],
        [
         "Zoom",
         "Zoom to rectangle\nx/y fixes axis, CTRL fixes aspect",
         "square-o",
         "zoom"
        ],
        [
         "Download",
         "Download plot",
         "floppy-o",
         "save_figure"
        ]
       ]
      }
     },
     "82bd2e654cc742a0b793d2cef9756720": {
      "model_module": "@jupyter-widgets/base",
      "model_module_version": "1.2.0",
      "model_name": "LayoutModel",
      "state": {}
     },
     "83dfffdc5f474ebd9aad50315d995610": {
      "model_module": "@jupyter-widgets/controls",
      "model_module_version": "1.5.0",
      "model_name": "DescriptionStyleModel",
      "state": {
       "description_width": ""
      }
     },
     "8481b04ca15d4c3db10ad9d140626b76": {
      "model_module": "jupyter-matplotlib",
      "model_module_version": "^0.9.0",
      "model_name": "MPLCanvasModel",
      "state": {
       "_cursor": "default",
       "_figure_label": "Figure 11",
       "_height": 760,
       "_width": 760,
       "layout": "IPY_MODEL_2c360d06d9024bf781b8c30bd8145114",
       "toolbar": "IPY_MODEL_016cb7e7216a490fb8098d4108971e0c",
       "toolbar_position": "left"
      }
     },
     "84961bdf3fa248b5812ad1f8c6700a84": {
      "model_module": "@jupyter-widgets/base",
      "model_module_version": "1.2.0",
      "model_name": "LayoutModel",
      "state": {}
     },
     "84c8a5597ed44e93b9e993b46fcf095b": {
      "model_module": "@jupyter-widgets/controls",
      "model_module_version": "1.5.0",
      "model_name": "HBoxModel",
      "state": {
       "children": [
        "IPY_MODEL_550e0e14897742c08d10d0b4c1081fbe",
        "IPY_MODEL_267896fcdfd04a65914a38f4d4225bcf",
        "IPY_MODEL_d8afd498789d4fde8c044cc298ae06f2"
       ],
       "layout": "IPY_MODEL_547d4789a6ae419694abf1760a8907fa"
      }
     },
     "84e0e37ae6f741ab971fbe0d71bb1f8b": {
      "model_module": "@jupyter-widgets/base",
      "model_module_version": "1.2.0",
      "model_name": "LayoutModel",
      "state": {
       "display": "inline-flex",
       "flex_flow": "row wrap",
       "width": "100%"
      }
     },
     "8588ff0bdfb646e1958f62af8016b4ce": {
      "model_module": "@jupyter-widgets/controls",
      "model_module_version": "1.5.0",
      "model_name": "HTMLModel",
      "state": {
       "layout": "IPY_MODEL_5fde14a3ad5a4b29bf1f606569e3db23",
       "style": "IPY_MODEL_c79fec2721cd493d8686d81330402362",
       "value": " 100/100 [01:09&lt;00:00,  1.28it/s]"
      }
     },
     "8652664bb6c44cafbbecc0bbf3988c06": {
      "model_module": "@jupyter-widgets/controls",
      "model_module_version": "1.5.0",
      "model_name": "HTMLModel",
      "state": {
       "layout": "IPY_MODEL_368bb2e684fd4d03a1a2a9734f5e76a9",
       "style": "IPY_MODEL_b83d009cba304d6fa6ee3e0140595e5f",
       "value": "processing MLE analyses: "
      }
     },
     "86b04fa526704739be1868a7d7ae0869": {
      "model_module": "@jupyter-widgets/controls",
      "model_module_version": "1.5.0",
      "model_name": "ProgressStyleModel",
      "state": {
       "bar_color": "#46327e",
       "description_width": ""
      }
     },
     "87277db60bba447fb1609934c9784acb": {
      "model_module": "@jupyter-widgets/base",
      "model_module_version": "1.2.0",
      "model_name": "LayoutModel",
      "state": {
       "display": "inline-flex",
       "flex_flow": "row wrap",
       "width": "100%"
      }
     },
     "87744bd8af9b48efade2e6198a159196": {
      "model_module": "jupyter-matplotlib",
      "model_module_version": "^0.9.0",
      "model_name": "ToolbarModel",
      "state": {
       "layout": "IPY_MODEL_dc8227b453fd499cb74a5786a20f3365",
       "toolitems": [
        [
         "Home",
         "Reset original view",
         "home",
         "home"
        ],
        [
         "Back",
         "Back to previous view",
         "arrow-left",
         "back"
        ],
        [
         "Forward",
         "Forward to next view",
         "arrow-right",
         "forward"
        ],
        [
         "Pan",
         "Left button pans, Right button zooms\nx/y fixes axis, CTRL fixes aspect",
         "arrows",
         "pan"
        ],
        [
         "Zoom",
         "Zoom to rectangle\nx/y fixes axis, CTRL fixes aspect",
         "square-o",
         "zoom"
        ],
        [
         "Download",
         "Download plot",
         "floppy-o",
         "save_figure"
        ]
       ]
      }
     },
     "87be8f62ffc14ef889a7697be2ad6f26": {
      "model_module": "@jupyter-widgets/controls",
      "model_module_version": "1.5.0",
      "model_name": "DescriptionStyleModel",
      "state": {
       "description_width": ""
      }
     },
     "881899d1f1d84efa8c8d40c97dc5b277": {
      "model_module": "@jupyter-widgets/base",
      "model_module_version": "1.2.0",
      "model_name": "LayoutModel",
      "state": {
       "display": "inline-flex",
       "flex_flow": "row wrap",
       "width": "100%"
      }
     },
     "8886891faac64286be95ead8608e0d60": {
      "model_module": "@jupyter-widgets/base",
      "model_module_version": "1.2.0",
      "model_name": "LayoutModel",
      "state": {}
     },
     "88aa6d08238647008a2eba04f9fe5049": {
      "model_module": "@jupyter-widgets/controls",
      "model_module_version": "1.5.0",
      "model_name": "DescriptionStyleModel",
      "state": {
       "description_width": ""
      }
     },
     "8b4c7c99dc7f45f08a8312c465c2e319": {
      "model_module": "jupyter-matplotlib",
      "model_module_version": "^0.9.0",
      "model_name": "ToolbarModel",
      "state": {
       "layout": "IPY_MODEL_e32bb4505807453b84cef796d710f122",
       "toolitems": [
        [
         "Home",
         "Reset original view",
         "home",
         "home"
        ],
        [
         "Back",
         "Back to previous view",
         "arrow-left",
         "back"
        ],
        [
         "Forward",
         "Forward to next view",
         "arrow-right",
         "forward"
        ],
        [
         "Pan",
         "Left button pans, Right button zooms\nx/y fixes axis, CTRL fixes aspect",
         "arrows",
         "pan"
        ],
        [
         "Zoom",
         "Zoom to rectangle\nx/y fixes axis, CTRL fixes aspect",
         "square-o",
         "zoom"
        ],
        [
         "Download",
         "Download plot",
         "floppy-o",
         "save_figure"
        ]
       ]
      }
     },
     "8bee4b13c118470d84f5797a04925256": {
      "model_module": "@jupyter-widgets/base",
      "model_module_version": "1.2.0",
      "model_name": "LayoutModel",
      "state": {}
     },
     "8c80a75201074302b8b4382d5888b139": {
      "model_module": "jupyter-matplotlib",
      "model_module_version": "^0.9.0",
      "model_name": "MPLCanvasModel",
      "state": {
       "_cursor": "default",
       "_figure_label": "Figure 6",
       "_height": 480,
       "_width": 640,
       "layout": "IPY_MODEL_20101fe49f1b4bb2bdf0a470d0284895",
       "toolbar": "IPY_MODEL_a06bfe732e3c4621be662d2e3ed30a56",
       "toolbar_position": "left"
      }
     },
     "8c9455f64314458d9302d391d5497a95": {
      "model_module": "@jupyter-widgets/base",
      "model_module_version": "1.2.0",
      "model_name": "LayoutModel",
      "state": {}
     },
     "8cdc53a4b78e47ca8cd5db34c1d6323d": {
      "model_module": "jupyter-matplotlib",
      "model_module_version": "^0.9.0",
      "model_name": "ToolbarModel",
      "state": {
       "layout": "IPY_MODEL_c9832730c2f842a78ea869b7ba847792",
       "toolitems": [
        [
         "Home",
         "Reset original view",
         "home",
         "home"
        ],
        [
         "Back",
         "Back to previous view",
         "arrow-left",
         "back"
        ],
        [
         "Forward",
         "Forward to next view",
         "arrow-right",
         "forward"
        ],
        [
         "Pan",
         "Left button pans, Right button zooms\nx/y fixes axis, CTRL fixes aspect",
         "arrows",
         "pan"
        ],
        [
         "Zoom",
         "Zoom to rectangle\nx/y fixes axis, CTRL fixes aspect",
         "square-o",
         "zoom"
        ],
        [
         "Download",
         "Download plot",
         "floppy-o",
         "save_figure"
        ]
       ]
      }
     },
     "8da4e7aaeccd4acb991446b26ba0b534": {
      "model_module": "@jupyter-widgets/base",
      "model_module_version": "1.2.0",
      "model_name": "LayoutModel",
      "state": {}
     },
     "8dfe5b8a7a704489ad42a42811a4587f": {
      "model_module": "@jupyter-widgets/controls",
      "model_module_version": "1.5.0",
      "model_name": "HBoxModel",
      "state": {
       "children": [
        "IPY_MODEL_336e55f5e6f14467a0cecdaca6b83a80",
        "IPY_MODEL_2557ba696d3b46a0a14cea90b9e2b181",
        "IPY_MODEL_cab853c3e63c48f2bd5dbde9644a5b6b"
       ],
       "layout": "IPY_MODEL_18ddc710b1034716b1ad429cffdb1ba3"
      }
     },
     "8ecb6752197e4b698aeb3146d83ff5ad": {
      "model_module": "@jupyter-widgets/controls",
      "model_module_version": "1.5.0",
      "model_name": "DescriptionStyleModel",
      "state": {
       "description_width": ""
      }
     },
     "8edf06f3e566442c8790b97f63e08355": {
      "model_module": "@jupyter-widgets/base",
      "model_module_version": "1.2.0",
      "model_name": "LayoutModel",
      "state": {}
     },
     "926a7a981d694bbb997d99f805fe40bc": {
      "model_module": "@jupyter-widgets/controls",
      "model_module_version": "1.5.0",
      "model_name": "FloatProgressModel",
      "state": {
       "bar_style": "success",
       "layout": "IPY_MODEL_c17690e7648e412da1d81b8124ecb212",
       "max": 128,
       "style": "IPY_MODEL_a3f262736e3f41808e1db5e23ca10731",
       "value": 128
      }
     },
     "9365ad9c968d4993b8e0aeb20c4bcbcb": {
      "model_module": "jupyter-matplotlib",
      "model_module_version": "^0.9.0",
      "model_name": "ToolbarModel",
      "state": {
       "layout": "IPY_MODEL_17db91ea903642f8b29897144bc5f1c1",
       "toolitems": [
        [
         "Home",
         "Reset original view",
         "home",
         "home"
        ],
        [
         "Back",
         "Back to previous view",
         "arrow-left",
         "back"
        ],
        [
         "Forward",
         "Forward to next view",
         "arrow-right",
         "forward"
        ],
        [
         "Pan",
         "Left button pans, Right button zooms\nx/y fixes axis, CTRL fixes aspect",
         "arrows",
         "pan"
        ],
        [
         "Zoom",
         "Zoom to rectangle\nx/y fixes axis, CTRL fixes aspect",
         "square-o",
         "zoom"
        ],
        [
         "Download",
         "Download plot",
         "floppy-o",
         "save_figure"
        ]
       ]
      }
     },
     "937d1e3575644e2baabdba7e43697294": {
      "model_module": "@jupyter-widgets/controls",
      "model_module_version": "1.5.0",
      "model_name": "DescriptionStyleModel",
      "state": {
       "description_width": ""
      }
     },
     "95202a7f73eb4be48a94ca8a1825bd61": {
      "model_module": "@jupyter-widgets/controls",
      "model_module_version": "1.5.0",
      "model_name": "DescriptionStyleModel",
      "state": {
       "description_width": ""
      }
     },
     "952d6bc9a2214ae8ba5fb36edbf8747f": {
      "model_module": "@jupyter-widgets/controls",
      "model_module_version": "1.5.0",
      "model_name": "DescriptionStyleModel",
      "state": {
       "description_width": ""
      }
     },
     "95b01324074945a0b256465508ee7a3b": {
      "model_module": "@jupyter-widgets/controls",
      "model_module_version": "1.5.0",
      "model_name": "FloatProgressModel",
      "state": {
       "bar_style": "success",
       "layout": "IPY_MODEL_eff1b3159b634182bc2e7e243e3b6684",
       "max": 128,
       "style": "IPY_MODEL_de6c4c93a6254bc58e0bb680e5949104",
       "value": 128
      }
     },
     "963124e84f7144cebcf8f5165b3975a3": {
      "model_module": "@jupyter-widgets/controls",
      "model_module_version": "1.5.0",
      "model_name": "DescriptionStyleModel",
      "state": {
       "description_width": ""
      }
     },
     "979afc18f68e4ec1a662461e36beed15": {
      "model_module": "jupyter-matplotlib",
      "model_module_version": "^0.9.0",
      "model_name": "MPLCanvasModel",
      "state": {
       "_cursor": "default",
       "_figure_label": "Figure 16",
       "_height": 480,
       "_width": 640,
       "layout": "IPY_MODEL_5ba5a5b4baa74c22929a7086d27cfb1c",
       "toolbar": "IPY_MODEL_8b4c7c99dc7f45f08a8312c465c2e319",
       "toolbar_position": "left"
      }
     },
     "97dddecb4b7749ac90d9a97c355dfe17": {
      "model_module": "@jupyter-widgets/base",
      "model_module_version": "1.2.0",
      "model_name": "LayoutModel",
      "state": {
       "flex": "2"
      }
     },
     "99403fa177e2431cab9d95a48f5899bb": {
      "model_module": "@jupyter-widgets/base",
      "model_module_version": "1.2.0",
      "model_name": "LayoutModel",
      "state": {}
     },
     "99463fe9de9c43e8b9eceb77b8a75065": {
      "model_module": "@jupyter-widgets/base",
      "model_module_version": "1.2.0",
      "model_name": "LayoutModel",
      "state": {
       "display": "inline-flex",
       "flex_flow": "row wrap",
       "width": "100%"
      }
     },
     "9982b47e87ed4fb6b10fd386eb011dd5": {
      "model_module": "@jupyter-widgets/base",
      "model_module_version": "1.2.0",
      "model_name": "LayoutModel",
      "state": {}
     },
     "99f643a67b1d46768d97df56851c78aa": {
      "model_module": "@jupyter-widgets/controls",
      "model_module_version": "1.5.0",
      "model_name": "HBoxModel",
      "state": {
       "children": [
        "IPY_MODEL_fee2a58caed244b8817f2cb3f34460ca",
        "IPY_MODEL_cdceac2b6d6c4358a11da0215ec226d0",
        "IPY_MODEL_5e9218d29b2c45ecb2f1baf38f5fc656"
       ],
       "layout": "IPY_MODEL_e66fb71b11a4405a8434d24c32053385"
      }
     },
     "9b5555523f174dc9b5a9988ae91fe303": {
      "model_module": "@jupyter-widgets/base",
      "model_module_version": "1.2.0",
      "model_name": "LayoutModel",
      "state": {
       "flex": "2"
      }
     },
     "9b5d1468eee643bfa19abd526ef622c5": {
      "model_module": "@jupyter-widgets/controls",
      "model_module_version": "1.5.0",
      "model_name": "HBoxModel",
      "state": {
       "children": [
        "IPY_MODEL_26b461b55e6349d9ad01e2949570d27c",
        "IPY_MODEL_926a7a981d694bbb997d99f805fe40bc",
        "IPY_MODEL_53ecef999ab942a79030716ff06f4d0e"
       ],
       "layout": "IPY_MODEL_73eed15c445e41ebb90219e580663191"
      }
     },
     "9e63c624fcf642ad8c7a1d8be943e49b": {
      "model_module": "@jupyter-widgets/base",
      "model_module_version": "1.2.0",
      "model_name": "LayoutModel",
      "state": {}
     },
     "9f2bad1b92b746159f707eb2d95d99bf": {
      "model_module": "@jupyter-widgets/controls",
      "model_module_version": "1.5.0",
      "model_name": "HBoxModel",
      "state": {
       "children": [
        "IPY_MODEL_6e865c259f974650a5a8d7a1a0a55fe2",
        "IPY_MODEL_6b6b1d50bace454fb206f094bce313b9",
        "IPY_MODEL_4d13e7ae9b604ff19195321016e66663"
       ],
       "layout": "IPY_MODEL_6de560c463c44b658fb91b2ccd831b0a"
      }
     },
     "a06bfe732e3c4621be662d2e3ed30a56": {
      "model_module": "jupyter-matplotlib",
      "model_module_version": "^0.9.0",
      "model_name": "ToolbarModel",
      "state": {
       "layout": "IPY_MODEL_0b3f660ed5084594bcdb894866265a6e",
       "toolitems": [
        [
         "Home",
         "Reset original view",
         "home",
         "home"
        ],
        [
         "Back",
         "Back to previous view",
         "arrow-left",
         "back"
        ],
        [
         "Forward",
         "Forward to next view",
         "arrow-right",
         "forward"
        ],
        [
         "Pan",
         "Left button pans, Right button zooms\nx/y fixes axis, CTRL fixes aspect",
         "arrows",
         "pan"
        ],
        [
         "Zoom",
         "Zoom to rectangle\nx/y fixes axis, CTRL fixes aspect",
         "square-o",
         "zoom"
        ],
        [
         "Download",
         "Download plot",
         "floppy-o",
         "save_figure"
        ]
       ]
      }
     },
     "a185991dcdc64c3c97c848dda0bbae30": {
      "model_module": "@jupyter-widgets/base",
      "model_module_version": "1.2.0",
      "model_name": "LayoutModel",
      "state": {}
     },
     "a2b7412c6ea948eda7d5fb6a1a8609cf": {
      "model_module": "jupyter-matplotlib",
      "model_module_version": "^0.9.0",
      "model_name": "ToolbarModel",
      "state": {
       "layout": "IPY_MODEL_99403fa177e2431cab9d95a48f5899bb",
       "toolitems": [
        [
         "Home",
         "Reset original view",
         "home",
         "home"
        ],
        [
         "Back",
         "Back to previous view",
         "arrow-left",
         "back"
        ],
        [
         "Forward",
         "Forward to next view",
         "arrow-right",
         "forward"
        ],
        [
         "Pan",
         "Left button pans, Right button zooms\nx/y fixes axis, CTRL fixes aspect",
         "arrows",
         "pan"
        ],
        [
         "Zoom",
         "Zoom to rectangle\nx/y fixes axis, CTRL fixes aspect",
         "square-o",
         "zoom"
        ],
        [
         "Download",
         "Download plot",
         "floppy-o",
         "save_figure"
        ]
       ]
      }
     },
     "a38573daf22540a0ae53457d50fdeda1": {
      "model_module": "@jupyter-widgets/base",
      "model_module_version": "1.2.0",
      "model_name": "LayoutModel",
      "state": {
       "flex": "2"
      }
     },
     "a3f262736e3f41808e1db5e23ca10731": {
      "model_module": "@jupyter-widgets/controls",
      "model_module_version": "1.5.0",
      "model_name": "ProgressStyleModel",
      "state": {
       "bar_color": "#365c8d",
       "description_width": ""
      }
     },
     "a4540e5ad5db4e228272ccbbf93fab1f": {
      "model_module": "@jupyter-widgets/controls",
      "model_module_version": "1.5.0",
      "model_name": "DescriptionStyleModel",
      "state": {
       "description_width": ""
      }
     },
     "a4bc942e51fe4662a39dd2076f36d39b": {
      "model_module": "@jupyter-widgets/base",
      "model_module_version": "1.2.0",
      "model_name": "LayoutModel",
      "state": {}
     },
     "a57e4e5dad344510bc5d543c85bdc932": {
      "model_module": "@jupyter-widgets/controls",
      "model_module_version": "1.5.0",
      "model_name": "HTMLModel",
      "state": {
       "layout": "IPY_MODEL_f9af2b9894a0480dbcda739086fdf710",
       "style": "IPY_MODEL_83dfffdc5f474ebd9aad50315d995610",
       "value": "Loading PHAII Spectra: 100%"
      }
     },
     "a61102df76cf4fcb813eedf96e51963f": {
      "model_module": "@jupyter-widgets/base",
      "model_module_version": "1.2.0",
      "model_name": "LayoutModel",
      "state": {}
     },
     "a7295349c2c54c6d803cbdc2bdbfe1fb": {
      "model_module": "jupyter-matplotlib",
      "model_module_version": "^0.9.0",
      "model_name": "MPLCanvasModel",
      "state": {
       "_cursor": "default",
       "_figure_label": "Figure 14",
       "_height": 480,
       "_width": 640,
       "layout": "IPY_MODEL_572f5331fba14e14935f1f2a2e8327c6",
       "toolbar": "IPY_MODEL_58b3b6cd7486476eb19a559eca76c668",
       "toolbar_position": "left"
      }
     },
     "a77d2393a70546e59716c78261a32b29": {
      "model_module": "@jupyter-widgets/controls",
      "model_module_version": "1.5.0",
      "model_name": "HBoxModel",
      "state": {
       "children": [
        "IPY_MODEL_715964e58dee4eeaab66cd3c45089e40",
        "IPY_MODEL_75532625f1ec40c183a9ca209c4c9c05",
        "IPY_MODEL_e60cc906564347fb8fe5216b7d7568b3"
       ],
       "layout": "IPY_MODEL_156d4bdb0f3a4950b7b4fd00af17de2d"
      }
     },
     "a94171f44d47470e97937718f623fb87": {
      "model_module": "@jupyter-widgets/controls",
      "model_module_version": "1.5.0",
      "model_name": "DescriptionStyleModel",
      "state": {
       "description_width": ""
      }
     },
     "aaf3098ba91a4cda8b2bb55df28afacc": {
      "model_module": "@jupyter-widgets/base",
      "model_module_version": "1.2.0",
      "model_name": "LayoutModel",
      "state": {
       "flex": "2"
      }
     },
     "aeb06df48ae24e6889d265de17b85b31": {
      "model_module": "@jupyter-widgets/controls",
      "model_module_version": "1.5.0",
      "model_name": "HTMLModel",
      "state": {
       "layout": "IPY_MODEL_139911a24c404f7d93014a71d5515fc3",
       "style": "IPY_MODEL_a94171f44d47470e97937718f623fb87",
       "value": "Fitting GBM_NAI_09 background: 100%"
      }
     },
     "af7ff53cde9945248131cddbf74785a5": {
      "model_module": "@jupyter-widgets/controls",
      "model_module_version": "1.5.0",
      "model_name": "DescriptionStyleModel",
      "state": {
       "description_width": ""
      }
     },
     "b232aff1aa93421e87a87f32beb34d57": {
      "model_module": "@jupyter-widgets/base",
      "model_module_version": "1.2.0",
      "model_name": "LayoutModel",
      "state": {
       "flex": "2"
      }
     },
     "b29541ffd07a4a33b7a601a792e4c0b7": {
      "model_module": "@jupyter-widgets/controls",
      "model_module_version": "1.5.0",
      "model_name": "DescriptionStyleModel",
      "state": {
       "description_width": ""
      }
     },
     "b2de080df9ec4cbdb83d690a74515630": {
      "model_module": "@jupyter-widgets/controls",
      "model_module_version": "1.5.0",
      "model_name": "DescriptionStyleModel",
      "state": {
       "description_width": ""
      }
     },
     "b2e10943f85a48fca9b4651cf73535e9": {
      "model_module": "@jupyter-widgets/controls",
      "model_module_version": "1.5.0",
      "model_name": "FloatProgressModel",
      "state": {
       "bar_style": "success",
       "layout": "IPY_MODEL_9b5555523f174dc9b5a9988ae91fe303",
       "style": "IPY_MODEL_498b6013076e4f17b2ac7edd123ad167",
       "value": 100
      }
     },
     "b3e682988ec4482585dd14741cfbc4d0": {
      "model_module": "@jupyter-widgets/base",
      "model_module_version": "1.2.0",
      "model_name": "LayoutModel",
      "state": {
       "flex": "2"
      }
     },
     "b6eaa2cc47bd4feca5ddd8738b9bed9b": {
      "model_module": "@jupyter-widgets/controls",
      "model_module_version": "1.5.0",
      "model_name": "DescriptionStyleModel",
      "state": {
       "description_width": ""
      }
     },
     "b83d009cba304d6fa6ee3e0140595e5f": {
      "model_module": "@jupyter-widgets/controls",
      "model_module_version": "1.5.0",
      "model_name": "DescriptionStyleModel",
      "state": {
       "description_width": ""
      }
     },
     "b850c76c3a724e549ffeeb1b371c5e9a": {
      "model_module": "jupyter-matplotlib",
      "model_module_version": "^0.9.0",
      "model_name": "MPLCanvasModel",
      "state": {
       "_cursor": "default",
       "_figure_label": "Figure 4",
       "_height": 480,
       "_width": 640,
       "layout": "IPY_MODEL_f777fc1ef9824104be91c6e738048f69",
       "toolbar": "IPY_MODEL_134917cdc8a94f8db685092a61a67023",
       "toolbar_position": "left"
      }
     },
     "b8c6212894644cd3b3bc4a6874046d72": {
      "model_module": "@jupyter-widgets/controls",
      "model_module_version": "1.5.0",
      "model_name": "HTMLModel",
      "state": {
       "layout": "IPY_MODEL_7e5beed9927545458f40848cad606b5f",
       "style": "IPY_MODEL_963124e84f7144cebcf8f5165b3975a3",
       "value": "Finding best polynomial Order: 100%"
      }
     },
     "b9891db8f90e447eb0d165bd6a73ae39": {
      "model_module": "@jupyter-widgets/controls",
      "model_module_version": "1.5.0",
      "model_name": "HTMLModel",
      "state": {
       "layout": "IPY_MODEL_e0e9835314674e06b3d9f5f364cec4fe",
       "style": "IPY_MODEL_2e1cae22d11d4f82bf3f9c4a29f309cb",
       "value": " 5/5 [00:00&lt;00:00,  6.74it/s]"
      }
     },
     "baeb1754932f43668104984ccb3f21e1": {
      "model_module": "@jupyter-widgets/controls",
      "model_module_version": "1.5.0",
      "model_name": "FloatProgressModel",
      "state": {
       "bar_style": "success",
       "layout": "IPY_MODEL_aaf3098ba91a4cda8b2bb55df28afacc",
       "max": 2835,
       "style": "IPY_MODEL_3dd84d84886344b2a552cb2252850631",
       "value": 2835
      }
     },
     "bb930825a87d4412ab71e78c3a9ab513": {
      "model_module": "@jupyter-widgets/base",
      "model_module_version": "1.2.0",
      "model_name": "LayoutModel",
      "state": {
       "flex": "2"
      }
     },
     "bdf54168cb774643ac87b6c7950d54fe": {
      "model_module": "@jupyter-widgets/base",
      "model_module_version": "1.2.0",
      "model_name": "LayoutModel",
      "state": {}
     },
     "be3ecddd9eff4967bb660cbf17208687": {
      "model_module": "jupyter-matplotlib",
      "model_module_version": "^0.9.0",
      "model_name": "MPLCanvasModel",
      "state": {
       "_cursor": "default",
       "_figure_label": "Figure 17",
       "_height": 970,
       "_width": 970,
       "layout": "IPY_MODEL_66a203ee0e164f7bbd7485956d1bc608",
       "toolbar": "IPY_MODEL_fa2767c26efd45298e174baa3b63ce91",
       "toolbar_position": "left"
      }
     },
     "bf35edc895254751be216c53a55784aa": {
      "model_module": "@jupyter-widgets/base",
      "model_module_version": "1.2.0",
      "model_name": "LayoutModel",
      "state": {
       "flex": "2"
      }
     },
     "c028fb547b0a4cda8b626db10f598491": {
      "model_module": "jupyter-matplotlib",
      "model_module_version": "^0.9.0",
      "model_name": "MPLCanvasModel",
      "state": {
       "_cursor": "default",
       "_figure_label": "Figure 9",
       "_height": 480,
       "_width": 640,
       "layout": "IPY_MODEL_8c9455f64314458d9302d391d5497a95",
       "toolbar": "IPY_MODEL_68cefe5eebf0458dbf1c9d85dae8457c",
       "toolbar_position": "left"
      }
     },
     "c0b09974b4c84b62968a864f64074b02": {
      "model_module": "jupyter-matplotlib",
      "model_module_version": "^0.9.0",
      "model_name": "MPLCanvasModel",
      "state": {
       "_cursor": "default",
       "_figure_label": "Figure 3",
       "_height": 480,
       "_width": 640,
       "layout": "IPY_MODEL_fae5bcf1a84143d0adf587e4d229570d",
       "toolbar": "IPY_MODEL_4134d1730b894f27bb2fdb5a0eb7e79f",
       "toolbar_position": "left"
      }
     },
     "c1104a8d2c4d450b8bd4d553c9b43a9e": {
      "model_module": "@jupyter-widgets/base",
      "model_module_version": "1.2.0",
      "model_name": "LayoutModel",
      "state": {
       "display": "inline-flex",
       "flex_flow": "row wrap",
       "width": "100%"
      }
     },
     "c153c409b34944cb83fae70a717195bb": {
      "model_module": "@jupyter-widgets/base",
      "model_module_version": "1.2.0",
      "model_name": "LayoutModel",
      "state": {}
     },
     "c17690e7648e412da1d81b8124ecb212": {
      "model_module": "@jupyter-widgets/base",
      "model_module_version": "1.2.0",
      "model_name": "LayoutModel",
      "state": {
       "flex": "2"
      }
     },
     "c2512babf8974d08ae29c48b334a55c6": {
      "model_module": "@jupyter-widgets/base",
      "model_module_version": "1.2.0",
      "model_name": "LayoutModel",
      "state": {
       "flex": "2"
      }
     },
     "c29c48fcfbf64225a94a89758407caf6": {
      "model_module": "@jupyter-widgets/controls",
      "model_module_version": "1.5.0",
      "model_name": "FloatProgressModel",
      "state": {
       "bar_style": "success",
       "layout": "IPY_MODEL_bb930825a87d4412ab71e78c3a9ab513",
       "style": "IPY_MODEL_2b4503e1ddf14bdda145559e3634e801",
       "value": 100
      }
     },
     "c45c6c0c3e3c49a3bdc6aaa9b8875e34": {
      "model_module": "@jupyter-widgets/controls",
      "model_module_version": "1.5.0",
      "model_name": "ProgressStyleModel",
      "state": {
       "bar_color": "#a0da39",
       "description_width": ""
      }
     },
     "c589b43ac67947dbbcb68549bbd26ba8": {
      "model_module": "@jupyter-widgets/controls",
      "model_module_version": "1.5.0",
      "model_name": "HBoxModel",
      "state": {
       "children": [
        "IPY_MODEL_7b17ab543840414ab7115da74f6f3a4d",
        "IPY_MODEL_ef6ca266aadb43f6b67a9e4b36e9d0b3",
        "IPY_MODEL_53804807be6f4904a5589f627c183c7d"
       ],
       "layout": "IPY_MODEL_0c230b5df6a64e94a814bfadeb9392f8"
      }
     },
     "c590438e1b8646e49831e38f53b63a93": {
      "model_module": "@jupyter-widgets/base",
      "model_module_version": "1.2.0",
      "model_name": "LayoutModel",
      "state": {
       "display": "inline-flex",
       "flex_flow": "row wrap",
       "width": "100%"
      }
     },
     "c79fec2721cd493d8686d81330402362": {
      "model_module": "@jupyter-widgets/controls",
      "model_module_version": "1.5.0",
      "model_name": "DescriptionStyleModel",
      "state": {
       "description_width": ""
      }
     },
     "c7e455f8a03c45b685fbcdd8332a4718": {
      "model_module": "@jupyter-widgets/base",
      "model_module_version": "1.2.0",
      "model_name": "LayoutModel",
      "state": {}
     },
     "c95ee33c6fd94ee1a938d38d9a680207": {
      "model_module": "@jupyter-widgets/controls",
      "model_module_version": "1.5.0",
      "model_name": "HBoxModel",
      "state": {
       "children": [
        "IPY_MODEL_ef67d578eb6441b29c7d637a52b33b84",
        "IPY_MODEL_e074b1fc04ad4967834ee814238f49fc",
        "IPY_MODEL_e74e360881374ca1a7c73a9f6d3da056"
       ],
       "layout": "IPY_MODEL_c590438e1b8646e49831e38f53b63a93"
      }
     },
     "c9832730c2f842a78ea869b7ba847792": {
      "model_module": "@jupyter-widgets/base",
      "model_module_version": "1.2.0",
      "model_name": "LayoutModel",
      "state": {}
     },
     "ca7cbbc4665a4c79930689a3db31ed5b": {
      "model_module": "@jupyter-widgets/controls",
      "model_module_version": "1.5.0",
      "model_name": "ProgressStyleModel",
      "state": {
       "bar_color": "#1fa187",
       "description_width": ""
      }
     },
     "cab853c3e63c48f2bd5dbde9644a5b6b": {
      "model_module": "@jupyter-widgets/controls",
      "model_module_version": "1.5.0",
      "model_name": "HTMLModel",
      "state": {
       "layout": "IPY_MODEL_82bd2e654cc742a0b793d2cef9756720",
       "style": "IPY_MODEL_06c708e6f4f34aa492f0f5dba13b4bf3",
       "value": " 5/5 [00:00&lt;00:00, 13.01it/s]"
      }
     },
     "cb6f2934686a4f77859402ec8fc10e99": {
      "model_module": "@jupyter-widgets/base",
      "model_module_version": "1.2.0",
      "model_name": "LayoutModel",
      "state": {}
     },
     "cbb90eedbf5544e09c2962e277beb9ad": {
      "model_module": "@jupyter-widgets/controls",
      "model_module_version": "1.5.0",
      "model_name": "HBoxModel",
      "state": {
       "children": [
        "IPY_MODEL_03631033de6640f4aaf7d4c74573e260",
        "IPY_MODEL_4dacf7429fe34dd5b5a59e867acb78aa",
        "IPY_MODEL_3fbf4b53a0c54b97a901f1de6ec7b89d"
       ],
       "layout": "IPY_MODEL_99463fe9de9c43e8b9eceb77b8a75065"
      }
     },
     "cdceac2b6d6c4358a11da0215ec226d0": {
      "model_module": "@jupyter-widgets/controls",
      "model_module_version": "1.5.0",
      "model_name": "FloatProgressModel",
      "state": {
       "bar_style": "success",
       "layout": "IPY_MODEL_3e95ddd38149403684c8b220546a4e62",
       "max": 50,
       "style": "IPY_MODEL_1dc998fdf1cc4552b5710c1b04fcf3c1",
       "value": 50
      }
     },
     "cf17ab02e42c4307aeca45364ffedb3e": {
      "model_module": "@jupyter-widgets/controls",
      "model_module_version": "1.5.0",
      "model_name": "HTMLModel",
      "state": {
       "layout": "IPY_MODEL_ed29ec5c056b446596c59893e5762c50",
       "style": "IPY_MODEL_b2de080df9ec4cbdb83d690a74515630",
       "value": " 2835/2835 [00:01&lt;00:00, 1498.97it/s]"
      }
     },
     "d0dc8a38ad964d10a8eb67a47575abed": {
      "model_module": "@jupyter-widgets/controls",
      "model_module_version": "1.5.0",
      "model_name": "HBoxModel",
      "state": {
       "children": [
        "IPY_MODEL_42f7d37867d4450aaf5559f0c561663b",
        "IPY_MODEL_0f46ea1ef1244a078d9b4bbd84b9518f",
        "IPY_MODEL_b9891db8f90e447eb0d165bd6a73ae39"
       ],
       "layout": "IPY_MODEL_f476057b1ca643edb3b7742130f0fbe1"
      }
     },
     "d3aca52479a645be957b5e4f1f579a68": {
      "model_module": "@jupyter-widgets/base",
      "model_module_version": "1.2.0",
      "model_name": "LayoutModel",
      "state": {}
     },
     "d516999553c946988509c4d72f9a4765": {
      "model_module": "@jupyter-widgets/base",
      "model_module_version": "1.2.0",
      "model_name": "LayoutModel",
      "state": {
       "flex": "2"
      }
     },
     "d5887d666f21416785d73ad79863b741": {
      "model_module": "@jupyter-widgets/controls",
      "model_module_version": "1.5.0",
      "model_name": "DescriptionStyleModel",
      "state": {
       "description_width": ""
      }
     },
     "d702480c058a4020a59d375db440cfb0": {
      "model_module": "@jupyter-widgets/controls",
      "model_module_version": "1.5.0",
      "model_name": "ProgressStyleModel",
      "state": {
       "bar_color": "#46327e",
       "description_width": ""
      }
     },
     "d8afd498789d4fde8c044cc298ae06f2": {
      "model_module": "@jupyter-widgets/controls",
      "model_module_version": "1.5.0",
      "model_name": "HTMLModel",
      "state": {
       "layout": "IPY_MODEL_a4bc942e51fe4662a39dd2076f36d39b",
       "style": "IPY_MODEL_315169c34fa34d469449d66dcaea51fa",
       "value": " 5/5 [00:00&lt;00:00, 11.83it/s]"
      }
     },
     "d9a98a328c844edfa2f397371729bd5f": {
      "model_module": "@jupyter-widgets/controls",
      "model_module_version": "1.5.0",
      "model_name": "DescriptionStyleModel",
      "state": {
       "description_width": ""
      }
     },
     "dc7eb9c430c84d598c62a6791e2ec08f": {
      "model_module": "@jupyter-widgets/controls",
      "model_module_version": "1.5.0",
      "model_name": "HTMLModel",
      "state": {
       "layout": "IPY_MODEL_c7e455f8a03c45b685fbcdd8332a4718",
       "style": "IPY_MODEL_fc663b8ba2fe4a83b955eef6b307940b",
       "value": "Propagating errors: 100%"
      }
     },
     "dc8227b453fd499cb74a5786a20f3365": {
      "model_module": "@jupyter-widgets/base",
      "model_module_version": "1.2.0",
      "model_name": "LayoutModel",
      "state": {}
     },
     "dccc04119d7c462892c6ef78b1b14594": {
      "model_module": "jupyter-matplotlib",
      "model_module_version": "^0.9.0",
      "model_name": "MPLCanvasModel",
      "state": {
       "_cursor": "default",
       "_figure_label": "Figure 13",
       "_height": 970,
       "_width": 970,
       "layout": "IPY_MODEL_102f4c16584745688fe5c35583d9cc02",
       "toolbar": "IPY_MODEL_8cdc53a4b78e47ca8cd5db34c1d6323d",
       "toolbar_position": "left"
      }
     },
     "dd398ece237b44b3943d4a2e9ac5b7c0": {
      "model_module": "@jupyter-widgets/controls",
      "model_module_version": "1.5.0",
      "model_name": "HBoxModel",
      "state": {
       "children": [
        "IPY_MODEL_dc7eb9c430c84d598c62a6791e2ec08f",
        "IPY_MODEL_c29c48fcfbf64225a94a89758407caf6",
        "IPY_MODEL_07e88a1f07d44d938e29dbb6f8cf4c10"
       ],
       "layout": "IPY_MODEL_84e0e37ae6f741ab971fbe0d71bb1f8b"
      }
     },
     "de6c4c93a6254bc58e0bb680e5949104": {
      "model_module": "@jupyter-widgets/controls",
      "model_module_version": "1.5.0",
      "model_name": "ProgressStyleModel",
      "state": {
       "bar_color": "#440154",
       "description_width": ""
      }
     },
     "dee20f165bf84c48a9e756514e9609c9": {
      "model_module": "@jupyter-widgets/controls",
      "model_module_version": "1.5.0",
      "model_name": "FloatProgressModel",
      "state": {
       "bar_style": "success",
       "layout": "IPY_MODEL_7979950d42a748a49f15d05ae6b3ae63",
       "max": 5,
       "style": "IPY_MODEL_1e55b8f28e714f13b760e9015a2629c9",
       "value": 5
      }
     },
     "dfaf226aa6714be1a133787b210b49d3": {
      "model_module": "@jupyter-widgets/controls",
      "model_module_version": "1.5.0",
      "model_name": "HBoxModel",
      "state": {
       "children": [
        "IPY_MODEL_fd5cb0fe6b1047bb926d968901abef6e",
        "IPY_MODEL_b2e10943f85a48fca9b4651cf73535e9",
        "IPY_MODEL_8588ff0bdfb646e1958f62af8016b4ce"
       ],
       "layout": "IPY_MODEL_0980674864bc45fa88c077e1cb7e4ef2"
      }
     },
     "dfb2e096d917436bb7af923e8eb7a83b": {
      "model_module": "@jupyter-widgets/controls",
      "model_module_version": "1.5.0",
      "model_name": "DescriptionStyleModel",
      "state": {
       "description_width": ""
      }
     },
     "e074b1fc04ad4967834ee814238f49fc": {
      "model_module": "@jupyter-widgets/controls",
      "model_module_version": "1.5.0",
      "model_name": "FloatProgressModel",
      "state": {
       "bar_style": "success",
       "layout": "IPY_MODEL_36a6a59acaa248ceb8257d42c35961d6",
       "max": 128,
       "style": "IPY_MODEL_76d57c87aa8d4b0db5fac65ff3c8a52f",
       "value": 128
      }
     },
     "e0e9835314674e06b3d9f5f364cec4fe": {
      "model_module": "@jupyter-widgets/base",
      "model_module_version": "1.2.0",
      "model_name": "LayoutModel",
      "state": {}
     },
     "e1f86c9af71d4d0d80657de214872912": {
      "model_module": "@jupyter-widgets/base",
      "model_module_version": "1.2.0",
      "model_name": "LayoutModel",
      "state": {
       "flex": "2"
      }
     },
     "e32bb4505807453b84cef796d710f122": {
      "model_module": "@jupyter-widgets/base",
      "model_module_version": "1.2.0",
      "model_name": "LayoutModel",
      "state": {}
     },
     "e3381464df144aab8a271063ae3d8714": {
      "model_module": "jupyter-matplotlib",
      "model_module_version": "^0.9.0",
      "model_name": "MPLCanvasModel",
      "state": {
       "_cursor": "default",
       "_figure_label": "Figure 12",
       "_height": 480,
       "_width": 640,
       "layout": "IPY_MODEL_67ecb38b36be4fac9b7a7bb35eaf725a",
       "toolbar": "IPY_MODEL_f79d11bac051435db10bf9f6924c8199",
       "toolbar_position": "left"
      }
     },
     "e3faa3117370468c8e92bd5952a149f2": {
      "model_module": "@jupyter-widgets/controls",
      "model_module_version": "1.5.0",
      "model_name": "HBoxModel",
      "state": {
       "children": [
        "IPY_MODEL_8652664bb6c44cafbbecc0bbf3988c06",
        "IPY_MODEL_eccc0fb111fc45a18e641d08f2dd73c2",
        "IPY_MODEL_46631755ef764acda6541914b4259d84"
       ],
       "layout": "IPY_MODEL_417cc2e4c82a4d2aa19770dfc6b8c13e"
      }
     },
     "e50fd706c69b40019d13379a34f53a13": {
      "model_module": "@jupyter-widgets/base",
      "model_module_version": "1.2.0",
      "model_name": "LayoutModel",
      "state": {
       "flex": "2"
      }
     },
     "e60cc906564347fb8fe5216b7d7568b3": {
      "model_module": "@jupyter-widgets/controls",
      "model_module_version": "1.5.0",
      "model_name": "HTMLModel",
      "state": {
       "layout": "IPY_MODEL_3b3cfb0104384753896db982e8eb43d6",
       "style": "IPY_MODEL_0654df4904034e2088fb5c596d3fbace",
       "value": " 5/5 [00:00&lt;00:00, 13.46it/s]"
      }
     },
     "e66fb71b11a4405a8434d24c32053385": {
      "model_module": "@jupyter-widgets/base",
      "model_module_version": "1.2.0",
      "model_name": "LayoutModel",
      "state": {
       "display": "inline-flex",
       "flex_flow": "row wrap",
       "width": "100%"
      }
     },
     "e74e360881374ca1a7c73a9f6d3da056": {
      "model_module": "@jupyter-widgets/controls",
      "model_module_version": "1.5.0",
      "model_name": "HTMLModel",
      "state": {
       "layout": "IPY_MODEL_3064ef3bc9ba427b94a55e097d27ee25",
       "style": "IPY_MODEL_70d1769975ea4f4d86b201a153cb5c4c",
       "value": " 128/128 [00:07&lt;00:00, 17.96it/s]"
      }
     },
     "eb430eae9126488d92b641a2a9688f5a": {
      "model_module": "@jupyter-widgets/base",
      "model_module_version": "1.2.0",
      "model_name": "LayoutModel",
      "state": {
       "display": "inline-flex",
       "flex_flow": "row wrap",
       "width": "100%"
      }
     },
     "eb89e2b76d5f4747a580629946249535": {
      "model_module": "@jupyter-widgets/controls",
      "model_module_version": "1.5.0",
      "model_name": "ProgressStyleModel",
      "state": {
       "bar_color": "#fde725",
       "description_width": ""
      }
     },
     "eccc0fb111fc45a18e641d08f2dd73c2": {
      "model_module": "@jupyter-widgets/controls",
      "model_module_version": "1.5.0",
      "model_name": "FloatProgressModel",
      "state": {
       "bar_style": "success",
       "layout": "IPY_MODEL_54cf52be69184371b7d99445fe95d42a",
       "max": 1,
       "style": "IPY_MODEL_feb535f4d75c4c31b0a430f370cef3e7"
      }
     },
     "ed29ec5c056b446596c59893e5762c50": {
      "model_module": "@jupyter-widgets/base",
      "model_module_version": "1.2.0",
      "model_name": "LayoutModel",
      "state": {}
     },
     "ef67d578eb6441b29c7d637a52b33b84": {
      "model_module": "@jupyter-widgets/controls",
      "model_module_version": "1.5.0",
      "model_name": "HTMLModel",
      "state": {
       "layout": "IPY_MODEL_1ee8f0535e6245359e9313b4f520f77c",
       "style": "IPY_MODEL_7c58e47de0604bb6a3511edcf05e47b8",
       "value": "Fitting GBM_BGO_01 background: 100%"
      }
     },
     "ef6ca266aadb43f6b67a9e4b36e9d0b3": {
      "model_module": "@jupyter-widgets/controls",
      "model_module_version": "1.5.0",
      "model_name": "FloatProgressModel",
      "state": {
       "bar_style": "success",
       "layout": "IPY_MODEL_e50fd706c69b40019d13379a34f53a13",
       "max": 3,
       "style": "IPY_MODEL_1dec6902f1d64f75b2d35d75336f80a4",
       "value": 3
      }
     },
     "eff1b3159b634182bc2e7e243e3b6684": {
      "model_module": "@jupyter-widgets/base",
      "model_module_version": "1.2.0",
      "model_name": "LayoutModel",
      "state": {
       "flex": "2"
      }
     },
     "f2e64c3c86af420c8144c1fbba5633e6": {
      "model_module": "@jupyter-widgets/controls",
      "model_module_version": "1.5.0",
      "model_name": "ProgressStyleModel",
      "state": {
       "bar_color": "#277f8e",
       "description_width": ""
      }
     },
     "f476057b1ca643edb3b7742130f0fbe1": {
      "model_module": "@jupyter-widgets/base",
      "model_module_version": "1.2.0",
      "model_name": "LayoutModel",
      "state": {
       "display": "inline-flex",
       "flex_flow": "row wrap",
       "width": "100%"
      }
     },
     "f6ad7c59e88548c693b4fc6d44bc396b": {
      "model_module": "jupyter-matplotlib",
      "model_module_version": "^0.9.0",
      "model_name": "MPLCanvasModel",
      "state": {
       "_cursor": "default",
       "_figure_label": "Figure 2",
       "_height": 480,
       "_width": 640,
       "layout": "IPY_MODEL_4205aa929f9243adbe455151e1d01548",
       "toolbar": "IPY_MODEL_a2b7412c6ea948eda7d5fb6a1a8609cf",
       "toolbar_position": "left"
      }
     },
     "f777fc1ef9824104be91c6e738048f69": {
      "model_module": "@jupyter-widgets/base",
      "model_module_version": "1.2.0",
      "model_name": "LayoutModel",
      "state": {}
     },
     "f79d11bac051435db10bf9f6924c8199": {
      "model_module": "jupyter-matplotlib",
      "model_module_version": "^0.9.0",
      "model_name": "ToolbarModel",
      "state": {
       "layout": "IPY_MODEL_20fc3e3ee3b146438e02bc99a64e053b",
       "toolitems": [
        [
         "Home",
         "Reset original view",
         "home",
         "home"
        ],
        [
         "Back",
         "Back to previous view",
         "arrow-left",
         "back"
        ],
        [
         "Forward",
         "Forward to next view",
         "arrow-right",
         "forward"
        ],
        [
         "Pan",
         "Left button pans, Right button zooms\nx/y fixes axis, CTRL fixes aspect",
         "arrows",
         "pan"
        ],
        [
         "Zoom",
         "Zoom to rectangle\nx/y fixes axis, CTRL fixes aspect",
         "square-o",
         "zoom"
        ],
        [
         "Download",
         "Download plot",
         "floppy-o",
         "save_figure"
        ]
       ]
      }
     },
     "f96e61f375c14224883936a5922ec101": {
      "model_module": "@jupyter-widgets/base",
      "model_module_version": "1.2.0",
      "model_name": "LayoutModel",
      "state": {}
     },
     "f9af2b9894a0480dbcda739086fdf710": {
      "model_module": "@jupyter-widgets/base",
      "model_module_version": "1.2.0",
      "model_name": "LayoutModel",
      "state": {}
     },
     "fa2767c26efd45298e174baa3b63ce91": {
      "model_module": "jupyter-matplotlib",
      "model_module_version": "^0.9.0",
      "model_name": "ToolbarModel",
      "state": {
       "layout": "IPY_MODEL_8886891faac64286be95ead8608e0d60",
       "toolitems": [
        [
         "Home",
         "Reset original view",
         "home",
         "home"
        ],
        [
         "Back",
         "Back to previous view",
         "arrow-left",
         "back"
        ],
        [
         "Forward",
         "Forward to next view",
         "arrow-right",
         "forward"
        ],
        [
         "Pan",
         "Left button pans, Right button zooms\nx/y fixes axis, CTRL fixes aspect",
         "arrows",
         "pan"
        ],
        [
         "Zoom",
         "Zoom to rectangle\nx/y fixes axis, CTRL fixes aspect",
         "square-o",
         "zoom"
        ],
        [
         "Download",
         "Download plot",
         "floppy-o",
         "save_figure"
        ]
       ]
      }
     },
     "fae5bcf1a84143d0adf587e4d229570d": {
      "model_module": "@jupyter-widgets/base",
      "model_module_version": "1.2.0",
      "model_name": "LayoutModel",
      "state": {}
     },
     "fb1e1657d79b48b58664c9c24a43f2f9": {
      "model_module": "@jupyter-widgets/controls",
      "model_module_version": "1.5.0",
      "model_name": "DescriptionStyleModel",
      "state": {
       "description_width": ""
      }
     },
     "fbab08336e644c34bb86809849924a29": {
      "model_module": "jupyter-matplotlib",
      "model_module_version": "^0.9.0",
      "model_name": "ToolbarModel",
      "state": {
       "layout": "IPY_MODEL_8da4e7aaeccd4acb991446b26ba0b534",
       "toolitems": [
        [
         "Home",
         "Reset original view",
         "home",
         "home"
        ],
        [
         "Back",
         "Back to previous view",
         "arrow-left",
         "back"
        ],
        [
         "Forward",
         "Forward to next view",
         "arrow-right",
         "forward"
        ],
        [
         "Pan",
         "Left button pans, Right button zooms\nx/y fixes axis, CTRL fixes aspect",
         "arrows",
         "pan"
        ],
        [
         "Zoom",
         "Zoom to rectangle\nx/y fixes axis, CTRL fixes aspect",
         "square-o",
         "zoom"
        ],
        [
         "Download",
         "Download plot",
         "floppy-o",
         "save_figure"
        ]
       ]
      }
     },
     "fc28b6d870c64e2a87546c6127e8a031": {
      "model_module": "@jupyter-widgets/controls",
      "model_module_version": "1.5.0",
      "model_name": "DescriptionStyleModel",
      "state": {
       "description_width": ""
      }
     },
     "fc663b8ba2fe4a83b955eef6b307940b": {
      "model_module": "@jupyter-widgets/controls",
      "model_module_version": "1.5.0",
      "model_name": "DescriptionStyleModel",
      "state": {
       "description_width": ""
      }
     },
     "fd5cb0fe6b1047bb926d968901abef6e": {
      "model_module": "@jupyter-widgets/controls",
      "model_module_version": "1.5.0",
      "model_name": "HTMLModel",
      "state": {
       "layout": "IPY_MODEL_16fab1c8da0e42f18a96807ac479d137",
       "style": "IPY_MODEL_51c18b9bb58249698b688451858e9d1f",
       "value": "Propagating errors: 100%"
      }
     },
     "fdc372221f324627b5aa50870d0ff3ab": {
      "model_module": "@jupyter-widgets/controls",
      "model_module_version": "1.5.0",
      "model_name": "DescriptionStyleModel",
      "state": {
       "description_width": ""
      }
     },
     "fe6466ce07a44ad1b62e04e5c1d0c439": {
      "model_module": "@jupyter-widgets/controls",
      "model_module_version": "1.5.0",
      "model_name": "DescriptionStyleModel",
      "state": {
       "description_width": ""
      }
     },
     "feb535f4d75c4c31b0a430f370cef3e7": {
      "model_module": "@jupyter-widgets/controls",
      "model_module_version": "1.5.0",
      "model_name": "ProgressStyleModel",
      "state": {
       "bar_color": "#a0da39",
       "description_width": ""
      }
     },
     "fee2a58caed244b8817f2cb3f34460ca": {
      "model_module": "@jupyter-widgets/controls",
      "model_module_version": "1.5.0",
      "model_name": "HTMLModel",
      "state": {
       "layout": "IPY_MODEL_5455db1af7244863ba1e8a3425765557",
       "style": "IPY_MODEL_32f2c38367b94e27bae69298046d0c85",
       "value": "Fitting GLAST_LLE background: 100%"
      }
     }
    },
    "version_major": 2,
    "version_minor": 0
   }
  }
 },
 "nbformat": 4,
 "nbformat_minor": 5
}
